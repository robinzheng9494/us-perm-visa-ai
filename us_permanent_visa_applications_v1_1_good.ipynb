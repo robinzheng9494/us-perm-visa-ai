{
  "cells": [
    {
      "cell_type": "markdown",
      "metadata": {
        "_cell_guid": "195b1bd3-262e-4e27-8349-321a36f66482",
        "_uuid": "d589352eba1c01f78b15ada4eb9d53e6f2ff7c41",
        "id": "wpUDJTePSk-X"
      },
      "source": [
        "# General information"
      ]
    },
    {
      "cell_type": "markdown",
      "metadata": {
        "_cell_guid": "33cf7bed-3db2-4663-8b90-5c0525669fa8",
        "_uuid": "1892062c143e6d1e2198e9d3d7e865b666eeb5a1",
        "id": "YzFSRnm5Sk-Z"
      },
      "source": [
        "The following Jupyter notebook was created in order to derive some meaningful insights from the US Permanent Visa Application decisions. Data covers years 2012 - 2017 and includes information on employer, position, wage offered, job posting history, employee education and past visa history, associated lawyers, and final decision. It was collected and distributed by the US Department of Labor.\n",
        "\n",
        "According to Kaggle's dataset context, a permanent labor certification issued by the Department of Labor (DOL) allows an employer to hire a foreign worker to work permanently in the United States. In most instances, before the U.S. employer can submit an immigration petition to the Department of Homeland Security's U.S. Citizenship and Immigration Services (USCIS), the employer must obtain a certified labor certification application from the DOL's Employment and Training Administration (ETA). The DOL must certify to the USCIS that there are not sufficient U.S. workers able, willing, qualified and available to accept the job opportunity in the area of intended employment and that employment of the foreign worker will not adversely affect the wages and working conditions of similarly employed U.S. workers.\n",
        "\n",
        "The goal of the below data analysis is checking the general trend in Visa applications, the most popular citizenships, employers, cities and finally, predicting the application decision based on the chosen features."
      ]
    },
    {
      "cell_type": "markdown",
      "metadata": {
        "_cell_guid": "380abe99-d7c9-4a6b-8a19-9ec72bf24f19",
        "_uuid": "7912d638e59acde17434efd7a307a50e84acccc5",
        "id": "MILs98Q8Sk-a"
      },
      "source": [
        "# Importing necessary packages"
      ]
    },
    {
      "cell_type": "code",
      "execution_count": null,
      "metadata": {
        "_cell_guid": "b3179e5d-5b3a-4c26-b520-17e95cb6a42a",
        "_uuid": "26f82f8ba66274a435d1a51f587959e460a103bf",
        "id": "AQBO6MkjSk-a",
        "colab": {
          "base_uri": "https://localhost:8080/"
        },
        "outputId": "15a70134-ec4b-4b0d-aa0e-e6fe0953485f"
      },
      "outputs": [
        {
          "output_type": "stream",
          "name": "stdout",
          "text": [
            "Mounted at /content/drive\n"
          ]
        }
      ],
      "source": [
        "import pandas as pd\n",
        "import numpy as np\n",
        "import matplotlib.pyplot as plt\n",
        "import seaborn as sns\n",
        "\n",
        "%matplotlib inline\n",
        "\n",
        "# Input data files are available in the directory.\n",
        "from google.colab import drive\n",
        "drive.mount('/content/drive')"
      ]
    },
    {
      "cell_type": "markdown",
      "metadata": {
        "_cell_guid": "d0cd06eb-567c-4f65-97fc-1bdde9a9f228",
        "_uuid": "753913fdc98704aef0e21cffa965e730ce98433b",
        "id": "JOl2cq37Sk-b"
      },
      "source": [
        "# Exploration of the dataset"
      ]
    },
    {
      "cell_type": "markdown",
      "metadata": {
        "_cell_guid": "0e535e65-d8af-4d3e-91f8-9123477c3274",
        "_uuid": "fb578c1654c7786719947cb5e032cfec8063b427",
        "id": "8mG2aGuASk-b"
      },
      "source": [
        "Reading the raw data from the \"us_perm_visas.csv\" file available within Kaggle's datasets into a dataframe"
      ]
    },
    {
      "cell_type": "code",
      "execution_count": null,
      "metadata": {
        "_cell_guid": "8d4fdcfc-bc05-4a04-b551-1b7726062ded",
        "_uuid": "fda8bab1237ad1c28408dcde671737bb33ac0454",
        "collapsed": true,
        "id": "falce15DSk-b"
      },
      "outputs": [],
      "source": [
        "# Decision_date and case_recieved_date are read as dates\n",
        "df = pd.read_csv('/content/drive/My Drive/LLM_Data/us_perm_visas.csv', low_memory = False, parse_dates=['decision_date', 'case_received_date'])"
      ]
    },
    {
      "cell_type": "markdown",
      "metadata": {
        "_cell_guid": "ab4c7171-fa0f-40c1-bc95-f8e2c0058284",
        "_uuid": "ff9b1b955dd23454b6af484a49f50180f69a6ca7",
        "id": "HfYa9_dISk-c"
      },
      "source": [
        "Let's take a look at the structure of our dataset by checking the number of observations, columns and displaying 10 first and last rows."
      ]
    },
    {
      "cell_type": "code",
      "execution_count": null,
      "metadata": {
        "_cell_guid": "aee8e53e-2b04-4db2-9c70-fc256a8dc9f6",
        "_uuid": "5b469249a173b7a2f102b3bf450071a32074b2ae",
        "colab": {
          "base_uri": "https://localhost:8080/"
        },
        "id": "NF5_RGBmSk-c",
        "outputId": "bdfe51e0-5701-4b68-c5f3-cdd103b97cf7"
      },
      "outputs": [
        {
          "output_type": "stream",
          "name": "stdout",
          "text": [
            "Number of Visa Applications: 374362\n",
            "Number of Columns: 154\n"
          ]
        }
      ],
      "source": [
        "# Displaying number of rows and columns\n",
        "print('Number of Visa Applications:', len(df))\n",
        "print('Number of Columns:', len(df.columns))"
      ]
    },
    {
      "cell_type": "code",
      "source": [
        "#assume the original cases are not fraudulent for base dataset\n",
        "#append GAN data to original dataframe, add column for fraud\n",
        "#is_fraud\n",
        "\n",
        "#pass_fail -- if fraudulent fail immediately\n",
        "#approved - don't make recommendation\n",
        "#declined - make recommendation\n",
        "#funnelling data we're getting from end users\n",
        "#i.e., approved throw it out for recommendations\n",
        "#declined, keep funnelling and then make recommendation\n",
        "#ML pipeline\n",
        "#keep it as modular as possible\n",
        "#draw the line between all the data points\n",
        "#underfit - not very performative on the training data compared to the test data\n",
        "#two different models - leave the knn model - another model fraudulent/not fraudulent"
      ],
      "metadata": {
        "id": "2uqG9eRDiDVN"
      },
      "execution_count": null,
      "outputs": []
    },
    {
      "cell_type": "code",
      "execution_count": null,
      "metadata": {
        "_cell_guid": "4a2c1b31-0181-497e-b952-c584a50e5eb6",
        "_uuid": "fef727ae62e2979559d88e60bcc6b4874d152653",
        "colab": {
          "base_uri": "https://localhost:8080/",
          "height": 429
        },
        "id": "lop26ovbSk-c",
        "outputId": "f1ab89e3-5b36-43fa-8e5f-c9f679a81f4f"
      },
      "outputs": [
        {
          "output_type": "execute_result",
          "data": {
            "text/plain": [
              "  add_these_pw_job_title_9089 agent_city agent_firm_name agent_state  \\\n",
              "0                         NaN        NaN             NaN         NaN   \n",
              "1                         NaN        NaN             NaN         NaN   \n",
              "2                         NaN        NaN             NaN         NaN   \n",
              "3                         NaN        NaN             NaN         NaN   \n",
              "4                         NaN        NaN             NaN         NaN   \n",
              "\n",
              "  application_type        case_no case_number case_received_date case_status  \\\n",
              "0             PERM  A-07323-97014         NaN                NaT   Certified   \n",
              "1             PERM  A-07332-99439         NaN                NaT      Denied   \n",
              "2             PERM  A-07333-99643         NaN                NaT   Certified   \n",
              "3             PERM  A-07339-01930         NaN                NaT   Certified   \n",
              "4             PERM  A-07345-03565         NaN                NaT   Certified   \n",
              "\n",
              "  class_of_admission  ... ri_pvt_employment_firm_to ri_us_workers_considered  \\\n",
              "0                J-1  ...                       NaN                      NaN   \n",
              "1                B-2  ...                       NaN                      NaN   \n",
              "2               H-1B  ...                       NaN                      NaN   \n",
              "3                B-2  ...                       NaN                      NaN   \n",
              "4                L-1  ...                       NaN                      NaN   \n",
              "\n",
              "  schd_a_sheepherder     us_economic_sector wage_offer_from_9089  \\\n",
              "0                NaN                     IT              75629.0   \n",
              "1                NaN  Other Economic Sector              37024.0   \n",
              "2                NaN              Aerospace              47923.0   \n",
              "3                NaN  Other Economic Sector                10.97   \n",
              "4                NaN           Advanced Mfg             100000.0   \n",
              "\n",
              "  wage_offer_to_9089 wage_offer_unit_of_pay_9089 wage_offered_from_9089  \\\n",
              "0                NaN                          yr                    NaN   \n",
              "1                NaN                          yr                    NaN   \n",
              "2                NaN                          yr                    NaN   \n",
              "3                NaN                          hr                    NaN   \n",
              "4                NaN                          yr                    NaN   \n",
              "\n",
              "  wage_offered_to_9089  wage_offered_unit_of_pay_9089  \n",
              "0                  NaN                            NaN  \n",
              "1                  NaN                            NaN  \n",
              "2                  NaN                            NaN  \n",
              "3                  NaN                            NaN  \n",
              "4                  NaN                            NaN  \n",
              "\n",
              "[5 rows x 154 columns]"
            ],
            "text/html": [
              "\n",
              "  <div id=\"df-be43f987-d95c-4de7-b88c-a2e5a108adf8\" class=\"colab-df-container\">\n",
              "    <div>\n",
              "<style scoped>\n",
              "    .dataframe tbody tr th:only-of-type {\n",
              "        vertical-align: middle;\n",
              "    }\n",
              "\n",
              "    .dataframe tbody tr th {\n",
              "        vertical-align: top;\n",
              "    }\n",
              "\n",
              "    .dataframe thead th {\n",
              "        text-align: right;\n",
              "    }\n",
              "</style>\n",
              "<table border=\"1\" class=\"dataframe\">\n",
              "  <thead>\n",
              "    <tr style=\"text-align: right;\">\n",
              "      <th></th>\n",
              "      <th>add_these_pw_job_title_9089</th>\n",
              "      <th>agent_city</th>\n",
              "      <th>agent_firm_name</th>\n",
              "      <th>agent_state</th>\n",
              "      <th>application_type</th>\n",
              "      <th>case_no</th>\n",
              "      <th>case_number</th>\n",
              "      <th>case_received_date</th>\n",
              "      <th>case_status</th>\n",
              "      <th>class_of_admission</th>\n",
              "      <th>...</th>\n",
              "      <th>ri_pvt_employment_firm_to</th>\n",
              "      <th>ri_us_workers_considered</th>\n",
              "      <th>schd_a_sheepherder</th>\n",
              "      <th>us_economic_sector</th>\n",
              "      <th>wage_offer_from_9089</th>\n",
              "      <th>wage_offer_to_9089</th>\n",
              "      <th>wage_offer_unit_of_pay_9089</th>\n",
              "      <th>wage_offered_from_9089</th>\n",
              "      <th>wage_offered_to_9089</th>\n",
              "      <th>wage_offered_unit_of_pay_9089</th>\n",
              "    </tr>\n",
              "  </thead>\n",
              "  <tbody>\n",
              "    <tr>\n",
              "      <th>0</th>\n",
              "      <td>NaN</td>\n",
              "      <td>NaN</td>\n",
              "      <td>NaN</td>\n",
              "      <td>NaN</td>\n",
              "      <td>PERM</td>\n",
              "      <td>A-07323-97014</td>\n",
              "      <td>NaN</td>\n",
              "      <td>NaT</td>\n",
              "      <td>Certified</td>\n",
              "      <td>J-1</td>\n",
              "      <td>...</td>\n",
              "      <td>NaN</td>\n",
              "      <td>NaN</td>\n",
              "      <td>NaN</td>\n",
              "      <td>IT</td>\n",
              "      <td>75629.0</td>\n",
              "      <td>NaN</td>\n",
              "      <td>yr</td>\n",
              "      <td>NaN</td>\n",
              "      <td>NaN</td>\n",
              "      <td>NaN</td>\n",
              "    </tr>\n",
              "    <tr>\n",
              "      <th>1</th>\n",
              "      <td>NaN</td>\n",
              "      <td>NaN</td>\n",
              "      <td>NaN</td>\n",
              "      <td>NaN</td>\n",
              "      <td>PERM</td>\n",
              "      <td>A-07332-99439</td>\n",
              "      <td>NaN</td>\n",
              "      <td>NaT</td>\n",
              "      <td>Denied</td>\n",
              "      <td>B-2</td>\n",
              "      <td>...</td>\n",
              "      <td>NaN</td>\n",
              "      <td>NaN</td>\n",
              "      <td>NaN</td>\n",
              "      <td>Other Economic Sector</td>\n",
              "      <td>37024.0</td>\n",
              "      <td>NaN</td>\n",
              "      <td>yr</td>\n",
              "      <td>NaN</td>\n",
              "      <td>NaN</td>\n",
              "      <td>NaN</td>\n",
              "    </tr>\n",
              "    <tr>\n",
              "      <th>2</th>\n",
              "      <td>NaN</td>\n",
              "      <td>NaN</td>\n",
              "      <td>NaN</td>\n",
              "      <td>NaN</td>\n",
              "      <td>PERM</td>\n",
              "      <td>A-07333-99643</td>\n",
              "      <td>NaN</td>\n",
              "      <td>NaT</td>\n",
              "      <td>Certified</td>\n",
              "      <td>H-1B</td>\n",
              "      <td>...</td>\n",
              "      <td>NaN</td>\n",
              "      <td>NaN</td>\n",
              "      <td>NaN</td>\n",
              "      <td>Aerospace</td>\n",
              "      <td>47923.0</td>\n",
              "      <td>NaN</td>\n",
              "      <td>yr</td>\n",
              "      <td>NaN</td>\n",
              "      <td>NaN</td>\n",
              "      <td>NaN</td>\n",
              "    </tr>\n",
              "    <tr>\n",
              "      <th>3</th>\n",
              "      <td>NaN</td>\n",
              "      <td>NaN</td>\n",
              "      <td>NaN</td>\n",
              "      <td>NaN</td>\n",
              "      <td>PERM</td>\n",
              "      <td>A-07339-01930</td>\n",
              "      <td>NaN</td>\n",
              "      <td>NaT</td>\n",
              "      <td>Certified</td>\n",
              "      <td>B-2</td>\n",
              "      <td>...</td>\n",
              "      <td>NaN</td>\n",
              "      <td>NaN</td>\n",
              "      <td>NaN</td>\n",
              "      <td>Other Economic Sector</td>\n",
              "      <td>10.97</td>\n",
              "      <td>NaN</td>\n",
              "      <td>hr</td>\n",
              "      <td>NaN</td>\n",
              "      <td>NaN</td>\n",
              "      <td>NaN</td>\n",
              "    </tr>\n",
              "    <tr>\n",
              "      <th>4</th>\n",
              "      <td>NaN</td>\n",
              "      <td>NaN</td>\n",
              "      <td>NaN</td>\n",
              "      <td>NaN</td>\n",
              "      <td>PERM</td>\n",
              "      <td>A-07345-03565</td>\n",
              "      <td>NaN</td>\n",
              "      <td>NaT</td>\n",
              "      <td>Certified</td>\n",
              "      <td>L-1</td>\n",
              "      <td>...</td>\n",
              "      <td>NaN</td>\n",
              "      <td>NaN</td>\n",
              "      <td>NaN</td>\n",
              "      <td>Advanced Mfg</td>\n",
              "      <td>100000.0</td>\n",
              "      <td>NaN</td>\n",
              "      <td>yr</td>\n",
              "      <td>NaN</td>\n",
              "      <td>NaN</td>\n",
              "      <td>NaN</td>\n",
              "    </tr>\n",
              "  </tbody>\n",
              "</table>\n",
              "<p>5 rows × 154 columns</p>\n",
              "</div>\n",
              "    <div class=\"colab-df-buttons\">\n",
              "\n",
              "  <div class=\"colab-df-container\">\n",
              "    <button class=\"colab-df-convert\" onclick=\"convertToInteractive('df-be43f987-d95c-4de7-b88c-a2e5a108adf8')\"\n",
              "            title=\"Convert this dataframe to an interactive table.\"\n",
              "            style=\"display:none;\">\n",
              "\n",
              "  <svg xmlns=\"http://www.w3.org/2000/svg\" height=\"24px\" viewBox=\"0 -960 960 960\">\n",
              "    <path d=\"M120-120v-720h720v720H120Zm60-500h600v-160H180v160Zm220 220h160v-160H400v160Zm0 220h160v-160H400v160ZM180-400h160v-160H180v160Zm440 0h160v-160H620v160ZM180-180h160v-160H180v160Zm440 0h160v-160H620v160Z\"/>\n",
              "  </svg>\n",
              "    </button>\n",
              "\n",
              "  <style>\n",
              "    .colab-df-container {\n",
              "      display:flex;\n",
              "      gap: 12px;\n",
              "    }\n",
              "\n",
              "    .colab-df-convert {\n",
              "      background-color: #E8F0FE;\n",
              "      border: none;\n",
              "      border-radius: 50%;\n",
              "      cursor: pointer;\n",
              "      display: none;\n",
              "      fill: #1967D2;\n",
              "      height: 32px;\n",
              "      padding: 0 0 0 0;\n",
              "      width: 32px;\n",
              "    }\n",
              "\n",
              "    .colab-df-convert:hover {\n",
              "      background-color: #E2EBFA;\n",
              "      box-shadow: 0px 1px 2px rgba(60, 64, 67, 0.3), 0px 1px 3px 1px rgba(60, 64, 67, 0.15);\n",
              "      fill: #174EA6;\n",
              "    }\n",
              "\n",
              "    .colab-df-buttons div {\n",
              "      margin-bottom: 4px;\n",
              "    }\n",
              "\n",
              "    [theme=dark] .colab-df-convert {\n",
              "      background-color: #3B4455;\n",
              "      fill: #D2E3FC;\n",
              "    }\n",
              "\n",
              "    [theme=dark] .colab-df-convert:hover {\n",
              "      background-color: #434B5C;\n",
              "      box-shadow: 0px 1px 3px 1px rgba(0, 0, 0, 0.15);\n",
              "      filter: drop-shadow(0px 1px 2px rgba(0, 0, 0, 0.3));\n",
              "      fill: #FFFFFF;\n",
              "    }\n",
              "  </style>\n",
              "\n",
              "    <script>\n",
              "      const buttonEl =\n",
              "        document.querySelector('#df-be43f987-d95c-4de7-b88c-a2e5a108adf8 button.colab-df-convert');\n",
              "      buttonEl.style.display =\n",
              "        google.colab.kernel.accessAllowed ? 'block' : 'none';\n",
              "\n",
              "      async function convertToInteractive(key) {\n",
              "        const element = document.querySelector('#df-be43f987-d95c-4de7-b88c-a2e5a108adf8');\n",
              "        const dataTable =\n",
              "          await google.colab.kernel.invokeFunction('convertToInteractive',\n",
              "                                                    [key], {});\n",
              "        if (!dataTable) return;\n",
              "\n",
              "        const docLinkHtml = 'Like what you see? Visit the ' +\n",
              "          '<a target=\"_blank\" href=https://colab.research.google.com/notebooks/data_table.ipynb>data table notebook</a>'\n",
              "          + ' to learn more about interactive tables.';\n",
              "        element.innerHTML = '';\n",
              "        dataTable['output_type'] = 'display_data';\n",
              "        await google.colab.output.renderOutput(dataTable, element);\n",
              "        const docLink = document.createElement('div');\n",
              "        docLink.innerHTML = docLinkHtml;\n",
              "        element.appendChild(docLink);\n",
              "      }\n",
              "    </script>\n",
              "  </div>\n",
              "\n",
              "\n",
              "<div id=\"df-16fadfec-da76-4727-88e4-b8ca3f4e40bf\">\n",
              "  <button class=\"colab-df-quickchart\" onclick=\"quickchart('df-16fadfec-da76-4727-88e4-b8ca3f4e40bf')\"\n",
              "            title=\"Suggest charts\"\n",
              "            style=\"display:none;\">\n",
              "\n",
              "<svg xmlns=\"http://www.w3.org/2000/svg\" height=\"24px\"viewBox=\"0 0 24 24\"\n",
              "     width=\"24px\">\n",
              "    <g>\n",
              "        <path d=\"M19 3H5c-1.1 0-2 .9-2 2v14c0 1.1.9 2 2 2h14c1.1 0 2-.9 2-2V5c0-1.1-.9-2-2-2zM9 17H7v-7h2v7zm4 0h-2V7h2v10zm4 0h-2v-4h2v4z\"/>\n",
              "    </g>\n",
              "</svg>\n",
              "  </button>\n",
              "\n",
              "<style>\n",
              "  .colab-df-quickchart {\n",
              "      --bg-color: #E8F0FE;\n",
              "      --fill-color: #1967D2;\n",
              "      --hover-bg-color: #E2EBFA;\n",
              "      --hover-fill-color: #174EA6;\n",
              "      --disabled-fill-color: #AAA;\n",
              "      --disabled-bg-color: #DDD;\n",
              "  }\n",
              "\n",
              "  [theme=dark] .colab-df-quickchart {\n",
              "      --bg-color: #3B4455;\n",
              "      --fill-color: #D2E3FC;\n",
              "      --hover-bg-color: #434B5C;\n",
              "      --hover-fill-color: #FFFFFF;\n",
              "      --disabled-bg-color: #3B4455;\n",
              "      --disabled-fill-color: #666;\n",
              "  }\n",
              "\n",
              "  .colab-df-quickchart {\n",
              "    background-color: var(--bg-color);\n",
              "    border: none;\n",
              "    border-radius: 50%;\n",
              "    cursor: pointer;\n",
              "    display: none;\n",
              "    fill: var(--fill-color);\n",
              "    height: 32px;\n",
              "    padding: 0;\n",
              "    width: 32px;\n",
              "  }\n",
              "\n",
              "  .colab-df-quickchart:hover {\n",
              "    background-color: var(--hover-bg-color);\n",
              "    box-shadow: 0 1px 2px rgba(60, 64, 67, 0.3), 0 1px 3px 1px rgba(60, 64, 67, 0.15);\n",
              "    fill: var(--button-hover-fill-color);\n",
              "  }\n",
              "\n",
              "  .colab-df-quickchart-complete:disabled,\n",
              "  .colab-df-quickchart-complete:disabled:hover {\n",
              "    background-color: var(--disabled-bg-color);\n",
              "    fill: var(--disabled-fill-color);\n",
              "    box-shadow: none;\n",
              "  }\n",
              "\n",
              "  .colab-df-spinner {\n",
              "    border: 2px solid var(--fill-color);\n",
              "    border-color: transparent;\n",
              "    border-bottom-color: var(--fill-color);\n",
              "    animation:\n",
              "      spin 1s steps(1) infinite;\n",
              "  }\n",
              "\n",
              "  @keyframes spin {\n",
              "    0% {\n",
              "      border-color: transparent;\n",
              "      border-bottom-color: var(--fill-color);\n",
              "      border-left-color: var(--fill-color);\n",
              "    }\n",
              "    20% {\n",
              "      border-color: transparent;\n",
              "      border-left-color: var(--fill-color);\n",
              "      border-top-color: var(--fill-color);\n",
              "    }\n",
              "    30% {\n",
              "      border-color: transparent;\n",
              "      border-left-color: var(--fill-color);\n",
              "      border-top-color: var(--fill-color);\n",
              "      border-right-color: var(--fill-color);\n",
              "    }\n",
              "    40% {\n",
              "      border-color: transparent;\n",
              "      border-right-color: var(--fill-color);\n",
              "      border-top-color: var(--fill-color);\n",
              "    }\n",
              "    60% {\n",
              "      border-color: transparent;\n",
              "      border-right-color: var(--fill-color);\n",
              "    }\n",
              "    80% {\n",
              "      border-color: transparent;\n",
              "      border-right-color: var(--fill-color);\n",
              "      border-bottom-color: var(--fill-color);\n",
              "    }\n",
              "    90% {\n",
              "      border-color: transparent;\n",
              "      border-bottom-color: var(--fill-color);\n",
              "    }\n",
              "  }\n",
              "</style>\n",
              "\n",
              "  <script>\n",
              "    async function quickchart(key) {\n",
              "      const quickchartButtonEl =\n",
              "        document.querySelector('#' + key + ' button');\n",
              "      quickchartButtonEl.disabled = true;  // To prevent multiple clicks.\n",
              "      quickchartButtonEl.classList.add('colab-df-spinner');\n",
              "      try {\n",
              "        const charts = await google.colab.kernel.invokeFunction(\n",
              "            'suggestCharts', [key], {});\n",
              "      } catch (error) {\n",
              "        console.error('Error during call to suggestCharts:', error);\n",
              "      }\n",
              "      quickchartButtonEl.classList.remove('colab-df-spinner');\n",
              "      quickchartButtonEl.classList.add('colab-df-quickchart-complete');\n",
              "    }\n",
              "    (() => {\n",
              "      let quickchartButtonEl =\n",
              "        document.querySelector('#df-16fadfec-da76-4727-88e4-b8ca3f4e40bf button');\n",
              "      quickchartButtonEl.style.display =\n",
              "        google.colab.kernel.accessAllowed ? 'block' : 'none';\n",
              "    })();\n",
              "  </script>\n",
              "</div>\n",
              "\n",
              "    </div>\n",
              "  </div>\n"
            ],
            "application/vnd.google.colaboratory.intrinsic+json": {
              "type": "dataframe",
              "variable_name": "df"
            }
          },
          "metadata": {},
          "execution_count": 4
        }
      ],
      "source": [
        "# Displaying 5 first rows\n",
        "df.head()"
      ]
    },
    {
      "cell_type": "code",
      "execution_count": null,
      "metadata": {
        "_cell_guid": "9ad23939-df68-48fe-ab2f-4fbb595a913e",
        "_uuid": "79b354f6aaefa62d605b026a6bb8d72e8de5f275",
        "colab": {
          "base_uri": "https://localhost:8080/",
          "height": 394
        },
        "id": "VnraGFmTSk-c",
        "outputId": "3505ccef-88e0-46c4-f978-87c2cd5e5403"
      },
      "outputs": [
        {
          "output_type": "execute_result",
          "data": {
            "text/plain": [
              "       add_these_pw_job_title_9089   agent_city  \\\n",
              "374357                         NaN   Buena Park   \n",
              "374358                         NaN      Seattle   \n",
              "374359                         NaN   Schaumburg   \n",
              "374360                         NaN  LOS ANGELES   \n",
              "374361                         NaN      Phoenix   \n",
              "\n",
              "                                          agent_firm_name agent_state  \\\n",
              "374357                           Law Offices of Yohan Lee          CA   \n",
              "374358                         MacDonald Hoague & Bayless          WA   \n",
              "374359  International Legal and Business Services Grou...          IL   \n",
              "374360                        LAW OFFICES OF JAMES S HONG          CA   \n",
              "374361            Fragomen, Del Rey, Bernsen & Loewy, LLP          AZ   \n",
              "\n",
              "       application_type case_no    case_number case_received_date case_status  \\\n",
              "374357              NaN     NaN  A-16363-85407         2016-12-29   Withdrawn   \n",
              "374358              NaN     NaN  A-16271-56745         2016-12-30   Withdrawn   \n",
              "374359              NaN     NaN  A-16354-82345         2016-12-30   Withdrawn   \n",
              "374360              NaN     NaN  A-16357-84250         2016-12-30   Withdrawn   \n",
              "374361              NaN     NaN  A-16279-59292         2016-12-30   Withdrawn   \n",
              "\n",
              "       class_of_admission  ... ri_pvt_employment_firm_to  \\\n",
              "374357                NaN  ...                       NaN   \n",
              "374358                L-1  ...                       NaN   \n",
              "374359               H-1B  ...                       NaN   \n",
              "374360                B-2  ...                       NaN   \n",
              "374361               H-1B  ...                       NaN   \n",
              "\n",
              "       ri_us_workers_considered schd_a_sheepherder us_economic_sector  \\\n",
              "374357                      NaN                  N                NaN   \n",
              "374358                        Y                  N                NaN   \n",
              "374359                      NaN                  N                NaN   \n",
              "374360                      NaN                  N                NaN   \n",
              "374361                      NaN                  N                NaN   \n",
              "\n",
              "       wage_offer_from_9089 wage_offer_to_9089 wage_offer_unit_of_pay_9089  \\\n",
              "374357            28,330.00                NaN                        Year   \n",
              "374358           122,000.00         142,000.00                        Year   \n",
              "374359            79,082.00          79,082.00                        Year   \n",
              "374360            37,981.00                NaN                        Year   \n",
              "374361            84,926.00         121,500.00                        Year   \n",
              "\n",
              "       wage_offered_from_9089 wage_offered_to_9089  \\\n",
              "374357                    NaN                  NaN   \n",
              "374358                    NaN                  NaN   \n",
              "374359                    NaN                  NaN   \n",
              "374360                    NaN                  NaN   \n",
              "374361                    NaN                  NaN   \n",
              "\n",
              "        wage_offered_unit_of_pay_9089  \n",
              "374357                            NaN  \n",
              "374358                            NaN  \n",
              "374359                            NaN  \n",
              "374360                            NaN  \n",
              "374361                            NaN  \n",
              "\n",
              "[5 rows x 154 columns]"
            ],
            "text/html": [
              "\n",
              "  <div id=\"df-34b8cc6b-01e0-4c25-98a4-0000ab3a0d91\" class=\"colab-df-container\">\n",
              "    <div>\n",
              "<style scoped>\n",
              "    .dataframe tbody tr th:only-of-type {\n",
              "        vertical-align: middle;\n",
              "    }\n",
              "\n",
              "    .dataframe tbody tr th {\n",
              "        vertical-align: top;\n",
              "    }\n",
              "\n",
              "    .dataframe thead th {\n",
              "        text-align: right;\n",
              "    }\n",
              "</style>\n",
              "<table border=\"1\" class=\"dataframe\">\n",
              "  <thead>\n",
              "    <tr style=\"text-align: right;\">\n",
              "      <th></th>\n",
              "      <th>add_these_pw_job_title_9089</th>\n",
              "      <th>agent_city</th>\n",
              "      <th>agent_firm_name</th>\n",
              "      <th>agent_state</th>\n",
              "      <th>application_type</th>\n",
              "      <th>case_no</th>\n",
              "      <th>case_number</th>\n",
              "      <th>case_received_date</th>\n",
              "      <th>case_status</th>\n",
              "      <th>class_of_admission</th>\n",
              "      <th>...</th>\n",
              "      <th>ri_pvt_employment_firm_to</th>\n",
              "      <th>ri_us_workers_considered</th>\n",
              "      <th>schd_a_sheepherder</th>\n",
              "      <th>us_economic_sector</th>\n",
              "      <th>wage_offer_from_9089</th>\n",
              "      <th>wage_offer_to_9089</th>\n",
              "      <th>wage_offer_unit_of_pay_9089</th>\n",
              "      <th>wage_offered_from_9089</th>\n",
              "      <th>wage_offered_to_9089</th>\n",
              "      <th>wage_offered_unit_of_pay_9089</th>\n",
              "    </tr>\n",
              "  </thead>\n",
              "  <tbody>\n",
              "    <tr>\n",
              "      <th>374357</th>\n",
              "      <td>NaN</td>\n",
              "      <td>Buena Park</td>\n",
              "      <td>Law Offices of Yohan Lee</td>\n",
              "      <td>CA</td>\n",
              "      <td>NaN</td>\n",
              "      <td>NaN</td>\n",
              "      <td>A-16363-85407</td>\n",
              "      <td>2016-12-29</td>\n",
              "      <td>Withdrawn</td>\n",
              "      <td>NaN</td>\n",
              "      <td>...</td>\n",
              "      <td>NaN</td>\n",
              "      <td>NaN</td>\n",
              "      <td>N</td>\n",
              "      <td>NaN</td>\n",
              "      <td>28,330.00</td>\n",
              "      <td>NaN</td>\n",
              "      <td>Year</td>\n",
              "      <td>NaN</td>\n",
              "      <td>NaN</td>\n",
              "      <td>NaN</td>\n",
              "    </tr>\n",
              "    <tr>\n",
              "      <th>374358</th>\n",
              "      <td>NaN</td>\n",
              "      <td>Seattle</td>\n",
              "      <td>MacDonald Hoague &amp; Bayless</td>\n",
              "      <td>WA</td>\n",
              "      <td>NaN</td>\n",
              "      <td>NaN</td>\n",
              "      <td>A-16271-56745</td>\n",
              "      <td>2016-12-30</td>\n",
              "      <td>Withdrawn</td>\n",
              "      <td>L-1</td>\n",
              "      <td>...</td>\n",
              "      <td>NaN</td>\n",
              "      <td>Y</td>\n",
              "      <td>N</td>\n",
              "      <td>NaN</td>\n",
              "      <td>122,000.00</td>\n",
              "      <td>142,000.00</td>\n",
              "      <td>Year</td>\n",
              "      <td>NaN</td>\n",
              "      <td>NaN</td>\n",
              "      <td>NaN</td>\n",
              "    </tr>\n",
              "    <tr>\n",
              "      <th>374359</th>\n",
              "      <td>NaN</td>\n",
              "      <td>Schaumburg</td>\n",
              "      <td>International Legal and Business Services Grou...</td>\n",
              "      <td>IL</td>\n",
              "      <td>NaN</td>\n",
              "      <td>NaN</td>\n",
              "      <td>A-16354-82345</td>\n",
              "      <td>2016-12-30</td>\n",
              "      <td>Withdrawn</td>\n",
              "      <td>H-1B</td>\n",
              "      <td>...</td>\n",
              "      <td>NaN</td>\n",
              "      <td>NaN</td>\n",
              "      <td>N</td>\n",
              "      <td>NaN</td>\n",
              "      <td>79,082.00</td>\n",
              "      <td>79,082.00</td>\n",
              "      <td>Year</td>\n",
              "      <td>NaN</td>\n",
              "      <td>NaN</td>\n",
              "      <td>NaN</td>\n",
              "    </tr>\n",
              "    <tr>\n",
              "      <th>374360</th>\n",
              "      <td>NaN</td>\n",
              "      <td>LOS ANGELES</td>\n",
              "      <td>LAW OFFICES OF JAMES S HONG</td>\n",
              "      <td>CA</td>\n",
              "      <td>NaN</td>\n",
              "      <td>NaN</td>\n",
              "      <td>A-16357-84250</td>\n",
              "      <td>2016-12-30</td>\n",
              "      <td>Withdrawn</td>\n",
              "      <td>B-2</td>\n",
              "      <td>...</td>\n",
              "      <td>NaN</td>\n",
              "      <td>NaN</td>\n",
              "      <td>N</td>\n",
              "      <td>NaN</td>\n",
              "      <td>37,981.00</td>\n",
              "      <td>NaN</td>\n",
              "      <td>Year</td>\n",
              "      <td>NaN</td>\n",
              "      <td>NaN</td>\n",
              "      <td>NaN</td>\n",
              "    </tr>\n",
              "    <tr>\n",
              "      <th>374361</th>\n",
              "      <td>NaN</td>\n",
              "      <td>Phoenix</td>\n",
              "      <td>Fragomen, Del Rey, Bernsen &amp; Loewy, LLP</td>\n",
              "      <td>AZ</td>\n",
              "      <td>NaN</td>\n",
              "      <td>NaN</td>\n",
              "      <td>A-16279-59292</td>\n",
              "      <td>2016-12-30</td>\n",
              "      <td>Withdrawn</td>\n",
              "      <td>H-1B</td>\n",
              "      <td>...</td>\n",
              "      <td>NaN</td>\n",
              "      <td>NaN</td>\n",
              "      <td>N</td>\n",
              "      <td>NaN</td>\n",
              "      <td>84,926.00</td>\n",
              "      <td>121,500.00</td>\n",
              "      <td>Year</td>\n",
              "      <td>NaN</td>\n",
              "      <td>NaN</td>\n",
              "      <td>NaN</td>\n",
              "    </tr>\n",
              "  </tbody>\n",
              "</table>\n",
              "<p>5 rows × 154 columns</p>\n",
              "</div>\n",
              "    <div class=\"colab-df-buttons\">\n",
              "\n",
              "  <div class=\"colab-df-container\">\n",
              "    <button class=\"colab-df-convert\" onclick=\"convertToInteractive('df-34b8cc6b-01e0-4c25-98a4-0000ab3a0d91')\"\n",
              "            title=\"Convert this dataframe to an interactive table.\"\n",
              "            style=\"display:none;\">\n",
              "\n",
              "  <svg xmlns=\"http://www.w3.org/2000/svg\" height=\"24px\" viewBox=\"0 -960 960 960\">\n",
              "    <path d=\"M120-120v-720h720v720H120Zm60-500h600v-160H180v160Zm220 220h160v-160H400v160Zm0 220h160v-160H400v160ZM180-400h160v-160H180v160Zm440 0h160v-160H620v160ZM180-180h160v-160H180v160Zm440 0h160v-160H620v160Z\"/>\n",
              "  </svg>\n",
              "    </button>\n",
              "\n",
              "  <style>\n",
              "    .colab-df-container {\n",
              "      display:flex;\n",
              "      gap: 12px;\n",
              "    }\n",
              "\n",
              "    .colab-df-convert {\n",
              "      background-color: #E8F0FE;\n",
              "      border: none;\n",
              "      border-radius: 50%;\n",
              "      cursor: pointer;\n",
              "      display: none;\n",
              "      fill: #1967D2;\n",
              "      height: 32px;\n",
              "      padding: 0 0 0 0;\n",
              "      width: 32px;\n",
              "    }\n",
              "\n",
              "    .colab-df-convert:hover {\n",
              "      background-color: #E2EBFA;\n",
              "      box-shadow: 0px 1px 2px rgba(60, 64, 67, 0.3), 0px 1px 3px 1px rgba(60, 64, 67, 0.15);\n",
              "      fill: #174EA6;\n",
              "    }\n",
              "\n",
              "    .colab-df-buttons div {\n",
              "      margin-bottom: 4px;\n",
              "    }\n",
              "\n",
              "    [theme=dark] .colab-df-convert {\n",
              "      background-color: #3B4455;\n",
              "      fill: #D2E3FC;\n",
              "    }\n",
              "\n",
              "    [theme=dark] .colab-df-convert:hover {\n",
              "      background-color: #434B5C;\n",
              "      box-shadow: 0px 1px 3px 1px rgba(0, 0, 0, 0.15);\n",
              "      filter: drop-shadow(0px 1px 2px rgba(0, 0, 0, 0.3));\n",
              "      fill: #FFFFFF;\n",
              "    }\n",
              "  </style>\n",
              "\n",
              "    <script>\n",
              "      const buttonEl =\n",
              "        document.querySelector('#df-34b8cc6b-01e0-4c25-98a4-0000ab3a0d91 button.colab-df-convert');\n",
              "      buttonEl.style.display =\n",
              "        google.colab.kernel.accessAllowed ? 'block' : 'none';\n",
              "\n",
              "      async function convertToInteractive(key) {\n",
              "        const element = document.querySelector('#df-34b8cc6b-01e0-4c25-98a4-0000ab3a0d91');\n",
              "        const dataTable =\n",
              "          await google.colab.kernel.invokeFunction('convertToInteractive',\n",
              "                                                    [key], {});\n",
              "        if (!dataTable) return;\n",
              "\n",
              "        const docLinkHtml = 'Like what you see? Visit the ' +\n",
              "          '<a target=\"_blank\" href=https://colab.research.google.com/notebooks/data_table.ipynb>data table notebook</a>'\n",
              "          + ' to learn more about interactive tables.';\n",
              "        element.innerHTML = '';\n",
              "        dataTable['output_type'] = 'display_data';\n",
              "        await google.colab.output.renderOutput(dataTable, element);\n",
              "        const docLink = document.createElement('div');\n",
              "        docLink.innerHTML = docLinkHtml;\n",
              "        element.appendChild(docLink);\n",
              "      }\n",
              "    </script>\n",
              "  </div>\n",
              "\n",
              "\n",
              "<div id=\"df-f245fd2f-cdde-43ad-8f56-a0571febf9a5\">\n",
              "  <button class=\"colab-df-quickchart\" onclick=\"quickchart('df-f245fd2f-cdde-43ad-8f56-a0571febf9a5')\"\n",
              "            title=\"Suggest charts\"\n",
              "            style=\"display:none;\">\n",
              "\n",
              "<svg xmlns=\"http://www.w3.org/2000/svg\" height=\"24px\"viewBox=\"0 0 24 24\"\n",
              "     width=\"24px\">\n",
              "    <g>\n",
              "        <path d=\"M19 3H5c-1.1 0-2 .9-2 2v14c0 1.1.9 2 2 2h14c1.1 0 2-.9 2-2V5c0-1.1-.9-2-2-2zM9 17H7v-7h2v7zm4 0h-2V7h2v10zm4 0h-2v-4h2v4z\"/>\n",
              "    </g>\n",
              "</svg>\n",
              "  </button>\n",
              "\n",
              "<style>\n",
              "  .colab-df-quickchart {\n",
              "      --bg-color: #E8F0FE;\n",
              "      --fill-color: #1967D2;\n",
              "      --hover-bg-color: #E2EBFA;\n",
              "      --hover-fill-color: #174EA6;\n",
              "      --disabled-fill-color: #AAA;\n",
              "      --disabled-bg-color: #DDD;\n",
              "  }\n",
              "\n",
              "  [theme=dark] .colab-df-quickchart {\n",
              "      --bg-color: #3B4455;\n",
              "      --fill-color: #D2E3FC;\n",
              "      --hover-bg-color: #434B5C;\n",
              "      --hover-fill-color: #FFFFFF;\n",
              "      --disabled-bg-color: #3B4455;\n",
              "      --disabled-fill-color: #666;\n",
              "  }\n",
              "\n",
              "  .colab-df-quickchart {\n",
              "    background-color: var(--bg-color);\n",
              "    border: none;\n",
              "    border-radius: 50%;\n",
              "    cursor: pointer;\n",
              "    display: none;\n",
              "    fill: var(--fill-color);\n",
              "    height: 32px;\n",
              "    padding: 0;\n",
              "    width: 32px;\n",
              "  }\n",
              "\n",
              "  .colab-df-quickchart:hover {\n",
              "    background-color: var(--hover-bg-color);\n",
              "    box-shadow: 0 1px 2px rgba(60, 64, 67, 0.3), 0 1px 3px 1px rgba(60, 64, 67, 0.15);\n",
              "    fill: var(--button-hover-fill-color);\n",
              "  }\n",
              "\n",
              "  .colab-df-quickchart-complete:disabled,\n",
              "  .colab-df-quickchart-complete:disabled:hover {\n",
              "    background-color: var(--disabled-bg-color);\n",
              "    fill: var(--disabled-fill-color);\n",
              "    box-shadow: none;\n",
              "  }\n",
              "\n",
              "  .colab-df-spinner {\n",
              "    border: 2px solid var(--fill-color);\n",
              "    border-color: transparent;\n",
              "    border-bottom-color: var(--fill-color);\n",
              "    animation:\n",
              "      spin 1s steps(1) infinite;\n",
              "  }\n",
              "\n",
              "  @keyframes spin {\n",
              "    0% {\n",
              "      border-color: transparent;\n",
              "      border-bottom-color: var(--fill-color);\n",
              "      border-left-color: var(--fill-color);\n",
              "    }\n",
              "    20% {\n",
              "      border-color: transparent;\n",
              "      border-left-color: var(--fill-color);\n",
              "      border-top-color: var(--fill-color);\n",
              "    }\n",
              "    30% {\n",
              "      border-color: transparent;\n",
              "      border-left-color: var(--fill-color);\n",
              "      border-top-color: var(--fill-color);\n",
              "      border-right-color: var(--fill-color);\n",
              "    }\n",
              "    40% {\n",
              "      border-color: transparent;\n",
              "      border-right-color: var(--fill-color);\n",
              "      border-top-color: var(--fill-color);\n",
              "    }\n",
              "    60% {\n",
              "      border-color: transparent;\n",
              "      border-right-color: var(--fill-color);\n",
              "    }\n",
              "    80% {\n",
              "      border-color: transparent;\n",
              "      border-right-color: var(--fill-color);\n",
              "      border-bottom-color: var(--fill-color);\n",
              "    }\n",
              "    90% {\n",
              "      border-color: transparent;\n",
              "      border-bottom-color: var(--fill-color);\n",
              "    }\n",
              "  }\n",
              "</style>\n",
              "\n",
              "  <script>\n",
              "    async function quickchart(key) {\n",
              "      const quickchartButtonEl =\n",
              "        document.querySelector('#' + key + ' button');\n",
              "      quickchartButtonEl.disabled = true;  // To prevent multiple clicks.\n",
              "      quickchartButtonEl.classList.add('colab-df-spinner');\n",
              "      try {\n",
              "        const charts = await google.colab.kernel.invokeFunction(\n",
              "            'suggestCharts', [key], {});\n",
              "      } catch (error) {\n",
              "        console.error('Error during call to suggestCharts:', error);\n",
              "      }\n",
              "      quickchartButtonEl.classList.remove('colab-df-spinner');\n",
              "      quickchartButtonEl.classList.add('colab-df-quickchart-complete');\n",
              "    }\n",
              "    (() => {\n",
              "      let quickchartButtonEl =\n",
              "        document.querySelector('#df-f245fd2f-cdde-43ad-8f56-a0571febf9a5 button');\n",
              "      quickchartButtonEl.style.display =\n",
              "        google.colab.kernel.accessAllowed ? 'block' : 'none';\n",
              "    })();\n",
              "  </script>\n",
              "</div>\n",
              "\n",
              "    </div>\n",
              "  </div>\n"
            ],
            "application/vnd.google.colaboratory.intrinsic+json": {
              "type": "dataframe"
            }
          },
          "metadata": {},
          "execution_count": 5
        }
      ],
      "source": [
        "# Displaying 5 last rows\n",
        "df.tail()"
      ]
    },
    {
      "cell_type": "markdown",
      "metadata": {
        "_cell_guid": "ec786a34-f98b-4de9-821f-3691f143cdc9",
        "_uuid": "d69d680be501112f61c63927d17eebac0d406c06",
        "id": "FshbgBchSk-c"
      },
      "source": [
        "As we can see, our data set consists of 374362 applications described by 153 attributes. Let's display their names."
      ]
    },
    {
      "cell_type": "code",
      "execution_count": null,
      "metadata": {
        "_cell_guid": "4fef96e1-e55d-40f3-90a9-88e588578ff2",
        "_uuid": "158332d2b01ff76a613e74f0636e2f43ea1f865a",
        "colab": {
          "base_uri": "https://localhost:8080/"
        },
        "id": "P4dMhJAvSk-c",
        "outputId": "ffc35f33-c09f-4699-b5a3-99ce9c63b80b"
      },
      "outputs": [
        {
          "output_type": "stream",
          "name": "stdout",
          "text": [
            "['add_these_pw_job_title_9089' 'agent_city' 'agent_firm_name'\n",
            " 'agent_state' 'application_type' 'case_no' 'case_number'\n",
            " 'case_received_date' 'case_status' 'class_of_admission'\n",
            " 'country_of_citizenship' 'country_of_citzenship' 'decision_date'\n",
            " 'employer_address_1' 'employer_address_2' 'employer_city'\n",
            " 'employer_country' 'employer_decl_info_title' 'employer_name'\n",
            " 'employer_num_employees' 'employer_phone' 'employer_phone_ext'\n",
            " 'employer_postal_code' 'employer_state' 'employer_yr_estab'\n",
            " 'foreign_worker_info_alt_edu_experience'\n",
            " 'foreign_worker_info_birth_country' 'foreign_worker_info_city'\n",
            " 'foreign_worker_info_education' 'foreign_worker_info_education_other'\n",
            " 'foreign_worker_info_inst' 'foreign_worker_info_major'\n",
            " 'foreign_worker_info_postal_code' 'foreign_worker_info_rel_occup_exp'\n",
            " 'foreign_worker_info_req_experience' 'foreign_worker_info_state'\n",
            " 'foreign_worker_info_training_comp' 'foreign_worker_ownership_interest'\n",
            " 'foreign_worker_yr_rel_edu_completed' 'fw_info_alt_edu_experience'\n",
            " 'fw_info_birth_country' 'fw_info_education_other' 'fw_info_postal_code'\n",
            " 'fw_info_rel_occup_exp' 'fw_info_req_experience' 'fw_info_training_comp'\n",
            " 'fw_info_yr_rel_edu_completed' 'fw_ownership_interest'\n",
            " 'ji_foreign_worker_live_on_premises' 'ji_fw_live_on_premises'\n",
            " 'ji_live_in_dom_svc_contract' 'ji_live_in_domestic_service'\n",
            " 'ji_offered_to_sec_j_foreign_worker' 'ji_offered_to_sec_j_fw'\n",
            " 'job_info_alt_cmb_ed_oth_yrs' 'job_info_alt_combo_ed'\n",
            " 'job_info_alt_combo_ed_exp' 'job_info_alt_combo_ed_other'\n",
            " 'job_info_alt_field' 'job_info_alt_field_name' 'job_info_alt_occ'\n",
            " 'job_info_alt_occ_job_title' 'job_info_alt_occ_num_months'\n",
            " 'job_info_combo_occupation' 'job_info_education'\n",
            " 'job_info_education_other' 'job_info_experience'\n",
            " 'job_info_experience_num_months' 'job_info_foreign_ed'\n",
            " 'job_info_foreign_lang_req' 'job_info_job_req_normal'\n",
            " 'job_info_job_title' 'job_info_major' 'job_info_training'\n",
            " 'job_info_training_field' 'job_info_training_num_months'\n",
            " 'job_info_work_city' 'job_info_work_postal_code' 'job_info_work_state'\n",
            " 'naics_2007_us_code' 'naics_2007_us_title' 'naics_code' 'naics_title'\n",
            " 'naics_us_code' 'naics_us_code_2007' 'naics_us_title'\n",
            " 'naics_us_title_2007' 'orig_case_no' 'orig_file_date'\n",
            " 'preparer_info_emp_completed' 'preparer_info_title' 'pw_amount_9089'\n",
            " 'pw_determ_date' 'pw_expire_date' 'pw_job_title_908' 'pw_job_title_9089'\n",
            " 'pw_level_9089' 'pw_soc_code' 'pw_soc_title' 'pw_source_name_9089'\n",
            " 'pw_source_name_other_9089' 'pw_track_num' 'pw_unit_of_pay_9089'\n",
            " 'rec_info_barg_rep_notified' 'recr_info_barg_rep_notified'\n",
            " 'recr_info_coll_teach_comp_proc' 'recr_info_coll_univ_teacher'\n",
            " 'recr_info_employer_rec_payment' 'recr_info_first_ad_start'\n",
            " 'recr_info_job_fair_from' 'recr_info_job_fair_to'\n",
            " 'recr_info_on_campus_recr_from' 'recr_info_on_campus_recr_to'\n",
            " 'recr_info_pro_org_advert_from' 'recr_info_pro_org_advert_to'\n",
            " 'recr_info_prof_org_advert_from' 'recr_info_prof_org_advert_to'\n",
            " 'recr_info_professional_occ' 'recr_info_radio_tv_ad_from'\n",
            " 'recr_info_radio_tv_ad_to' 'recr_info_second_ad_start'\n",
            " 'recr_info_sunday_newspaper' 'recr_info_swa_job_order_end'\n",
            " 'recr_info_swa_job_order_start' 'refile' 'ri_1st_ad_newspaper_name'\n",
            " 'ri_2nd_ad_newspaper_name' 'ri_2nd_ad_newspaper_or_journal'\n",
            " 'ri_campus_placement_from' 'ri_campus_placement_to'\n",
            " 'ri_coll_tch_basic_process' 'ri_coll_teach_pro_jnl'\n",
            " 'ri_coll_teach_select_date' 'ri_employee_referral_prog_from'\n",
            " 'ri_employee_referral_prog_to' 'ri_employer_web_post_from'\n",
            " 'ri_employer_web_post_to' 'ri_job_search_website_from'\n",
            " 'ri_job_search_website_to' 'ri_layoff_in_past_six_months'\n",
            " 'ri_local_ethnic_paper_from' 'ri_local_ethnic_paper_to'\n",
            " 'ri_posted_notice_at_worksite' 'ri_pvt_employment_firm_from'\n",
            " 'ri_pvt_employment_firm_to' 'ri_us_workers_considered'\n",
            " 'schd_a_sheepherder' 'us_economic_sector' 'wage_offer_from_9089'\n",
            " 'wage_offer_to_9089' 'wage_offer_unit_of_pay_9089'\n",
            " 'wage_offered_from_9089' 'wage_offered_to_9089'\n",
            " 'wage_offered_unit_of_pay_9089']\n"
          ]
        }
      ],
      "source": [
        "print(df.columns.values)"
      ]
    },
    {
      "cell_type": "markdown",
      "metadata": {
        "_cell_guid": "5d05ade6-7068-4384-8dd8-acf704389bb9",
        "_uuid": "018261f704f191bf4c08817f29e0b4b25e0d56cd",
        "id": "C0OPJRu8Sk-d"
      },
      "source": [
        "Since we have 2 attributes that may contain similar information - case_number & case_no - let's check their lenghts, number of missing values and example values."
      ]
    },
    {
      "cell_type": "code",
      "execution_count": null,
      "metadata": {
        "_cell_guid": "2710e144-4b55-407e-9fe1-68374089153c",
        "_kg_hide-input": true,
        "_uuid": "599f8d6c9f12a4a5b319dc2bf40d41d1da68fb9c",
        "colab": {
          "base_uri": "https://localhost:8080/"
        },
        "id": "ClAPD0lLSk-d",
        "outputId": "513157d1-c0c9-401a-a319-b8b466fe33e9"
      },
      "outputs": [
        {
          "output_type": "stream",
          "name": "stdout",
          "text": [
            "Length of 'case_number' column is:  374362  with 135269 missing values\n",
            "Length of 'case_no' column is:  374362  with 239093 missing values \n",
            "\n",
            "First 2 values of case_number column are : \n",
            " 0    NaN\n",
            "1    NaN\n",
            "Name: case_number, dtype: object \n",
            "\n",
            "Last 2 values of case_number column are : \n",
            " 374360    A-16357-84250\n",
            "374361    A-16279-59292\n",
            "Name: case_number, dtype: object \n",
            "\n",
            "First 2 values of case_no column are : \n",
            " 0    A-07323-97014\n",
            "1    A-07332-99439\n",
            "Name: case_no, dtype: object \n",
            "\n",
            "Last 2 values of case_no column are : \n",
            " 374360    NaN\n",
            "374361    NaN\n",
            "Name: case_no, dtype: object\n"
          ]
        }
      ],
      "source": [
        "print(\"Length of 'case_number' column is: \", len(df['case_number']),\" with\",df.case_number.isnull().sum(), \"missing values\")\n",
        "print(\"Length of 'case_no' column is: \", len(df['case_no']),\" with\", df.case_no.isnull().sum(),\"missing values \\n\")\n",
        "\n",
        "print(\"First 2 values of case_number column are : \\n\", df['case_number'].head(2),\"\\n\")\n",
        "\n",
        "print(\"Last 2 values of case_number column are : \\n\", df['case_number'].tail(2), \"\\n\")\n",
        "print(\"First 2 values of case_no column are : \\n\", df['case_no'].head(2), \"\\n\")\n",
        "print(\"Last 2 values of case_no column are : \\n\", df['case_no'].tail(2))"
      ]
    },
    {
      "cell_type": "markdown",
      "metadata": {
        "_cell_guid": "39e8f006-8d2e-46b5-ac3a-6299e8221e70",
        "_uuid": "3ef40ec726ebc841a381edb992fd277eb45fd691",
        "id": "z-O1Tia0Sk-d"
      },
      "source": [
        "As we supposed, these columns contain similar values and their \"NaN\" values add up to the total number of observations so let's create new column containing only non missing values from both \"case_number\" and \"case_no\" columns and then we will remove them."
      ]
    },
    {
      "cell_type": "code",
      "execution_count": null,
      "metadata": {
        "_cell_guid": "93670c30-bca6-4c82-8c37-26bde952cbca",
        "_uuid": "9f068fa866f8a02cbfe31630c7d6b8c7fd118cf0",
        "collapsed": true,
        "id": "RP1SkV_uSk-d"
      },
      "outputs": [],
      "source": [
        "casenoindex = df.columns.get_loc(\"case_no\")\n",
        "casenumberindex = df.columns.get_loc(\"case_number\")\n",
        "casenumberlist = []\n",
        "\n",
        "for value in df.iloc[0:135269,casenoindex]:\n",
        "    casenumberlist.append(value)\n",
        "\n",
        "for value in df.iloc[135269:374363,casenumberindex]:\n",
        "    casenumberlist.append(value)\n",
        "\n",
        "df['casenumber'] = casenumberlist\n",
        "df.drop(df.columns[[casenoindex,casenumberindex]], axis=1, inplace=True)"
      ]
    },
    {
      "cell_type": "markdown",
      "metadata": {
        "_cell_guid": "1033dfd1-e28c-4e5c-bb1e-37e1e1788c1a",
        "_uuid": "6836fa52bd391e6ad083e186891d719afae5513d",
        "id": "nsa20-p5Sk-d"
      },
      "source": [
        "Now, let's check the \"case_status\" column as it may contain information about decision made for respective Visa application and print the length of unique values it contains."
      ]
    },
    {
      "cell_type": "code",
      "execution_count": null,
      "metadata": {
        "_cell_guid": "5f6a5796-295d-45b4-be71-225ee4f035ef",
        "_uuid": "22a0f38b3b56cba199dc8963c544084fcd068da0",
        "colab": {
          "base_uri": "https://localhost:8080/"
        },
        "id": "v8iVUkmtSk-d",
        "outputId": "fbc2fe01-e41a-46ac-cedc-45fb006a3b9b"
      },
      "outputs": [
        {
          "output_type": "stream",
          "name": "stdout",
          "text": [
            "181933  occurrences of status 'Certified'\n",
            "25649  occurrences of status 'Denied'\n",
            "148586  occurrences of status 'Certified-Expired'\n",
            "18194  occurrences of status 'Withdrawn'\n"
          ]
        }
      ],
      "source": [
        "#Printing number of unique values for 'case_status' column\n",
        "for value in df.case_status.unique():\n",
        "    print(len(df[df['case_status'] == value]),\" occurrences of status '{}'\".format(value))"
      ]
    },
    {
      "cell_type": "markdown",
      "metadata": {
        "_cell_guid": "9695e479-c151-47ad-b6c6-c2bbb180c684",
        "_uuid": "8716e9f661d36cbe5691c773842c7ea846e336a0",
        "id": "iWZ8iUtySk-d"
      },
      "source": [
        "\n",
        "\n",
        "\n",
        "Since our observations contain some records with status == \"Withdrawn\", we will remove them from our dataset and for cases where status is \"Certified\" or \"Certified-Expired\" we will use just one value \" Certified\" so that we will end up having only the desired values namely \"Certified\" and \"Denied\".  According to Wikipedia and other internet resources, petitioners have 6 months time to file I-140 form after the receiving the status of \"Certified\" before it expires and turns to \"Certified-Expired\" status.\n",
        "\n",
        "Form I-140, Immigrant Petition for Alien Worker is a form submitted to the United States Citizenship and Immigration Services (USCIS) by a prospective employer to petition an alien to work in the US on a permanent basis. This is done in the case when the worker is deemed extraordinary in some sense or when qualified workers do not exist in the US."
      ]
    },
    {
      "cell_type": "code",
      "execution_count": null,
      "metadata": {
        "_cell_guid": "60c15519-06f8-46de-a1fa-5d43ffea7e43",
        "_uuid": "46edbc78e95db8a9b42aab1a9fde80bcce3ddcbb",
        "colab": {
          "base_uri": "https://localhost:8080/",
          "height": 178
        },
        "id": "onjcKNm_Sk-d",
        "outputId": "8b70dc7a-79e3-450d-c534-9150c9ffa6cd"
      },
      "outputs": [
        {
          "output_type": "execute_result",
          "data": {
            "text/plain": [
              "case_status\n",
              "Certified    330519\n",
              "Denied        25649\n",
              "Name: count, dtype: int64"
            ],
            "text/html": [
              "<div>\n",
              "<style scoped>\n",
              "    .dataframe tbody tr th:only-of-type {\n",
              "        vertical-align: middle;\n",
              "    }\n",
              "\n",
              "    .dataframe tbody tr th {\n",
              "        vertical-align: top;\n",
              "    }\n",
              "\n",
              "    .dataframe thead th {\n",
              "        text-align: right;\n",
              "    }\n",
              "</style>\n",
              "<table border=\"1\" class=\"dataframe\">\n",
              "  <thead>\n",
              "    <tr style=\"text-align: right;\">\n",
              "      <th></th>\n",
              "      <th>count</th>\n",
              "    </tr>\n",
              "    <tr>\n",
              "      <th>case_status</th>\n",
              "      <th></th>\n",
              "    </tr>\n",
              "  </thead>\n",
              "  <tbody>\n",
              "    <tr>\n",
              "      <th>Certified</th>\n",
              "      <td>330519</td>\n",
              "    </tr>\n",
              "    <tr>\n",
              "      <th>Denied</th>\n",
              "      <td>25649</td>\n",
              "    </tr>\n",
              "  </tbody>\n",
              "</table>\n",
              "</div><br><label><b>dtype:</b> int64</label>"
            ]
          },
          "metadata": {},
          "execution_count": 10
        }
      ],
      "source": [
        "#Removing all withdrawn applications\n",
        "df = df[df.case_status != 'Withdrawn']\n",
        "\n",
        "#Combining certified-expired and certified applications and displaying distribution of \"case_status\" variable\n",
        "df.loc[df.case_status == 'Certified-Expired', 'case_status'] = 'Certified'\n",
        "df.case_status.value_counts()"
      ]
    },
    {
      "cell_type": "markdown",
      "metadata": {
        "_cell_guid": "b25cf27a-1492-44bc-8396-828d074a3f33",
        "_uuid": "5374b64dfc0cf63652a8c936a34fcbaa4f6ab5e5",
        "collapsed": true,
        "id": "-JyCwXPwSk-d"
      },
      "source": [
        "It's interesting that only 7.2% of Visa applications were denied. Now, let's perform dimensionality reduction by removing rows and columns containing only 'NaN' values and check the dataframe's shape."
      ]
    },
    {
      "cell_type": "code",
      "execution_count": null,
      "metadata": {
        "_cell_guid": "549268fc-9bb6-4973-adec-ffe2bc4be01e",
        "_uuid": "e2c3c7f8c25ff24f340110ff32bfdbac1efb8103",
        "colab": {
          "base_uri": "https://localhost:8080/"
        },
        "id": "LKIrtyMHSk-d",
        "outputId": "505722d5-2d17-4c9e-f251-72c257342463"
      },
      "outputs": [
        {
          "output_type": "execute_result",
          "data": {
            "text/plain": [
              "(356168, 153)"
            ]
          },
          "metadata": {},
          "execution_count": 11
        }
      ],
      "source": [
        "#Dropping all empty columns\n",
        "df = df.dropna(axis=1, how='all');\n",
        "\n",
        "#Dropping all empty rows\n",
        "df = df.dropna(axis=0, how='all');\n",
        "\n",
        "df.shape"
      ]
    },
    {
      "cell_type": "markdown",
      "metadata": {
        "_cell_guid": "d76c2cc5-23b7-4ab2-83b7-8b257de524c0",
        "_uuid": "ab29e34e56bf957fe2a56c45fc2c2341a94f3624",
        "id": "V2VXwEFnSk-e"
      },
      "source": [
        "It looks like there are neither rows nor columns containing only 'NaN' values so let's check how many columns contains any missing values."
      ]
    },
    {
      "cell_type": "code",
      "execution_count": null,
      "metadata": {
        "_cell_guid": "15aeb80b-53ff-4ef2-a814-cf08c3d837a6",
        "_uuid": "87451615d830dea713e11451cde22b01b4ad86b1",
        "scrolled": false,
        "colab": {
          "base_uri": "https://localhost:8080/"
        },
        "id": "9BAVt5NASk-e",
        "outputId": "5d2c645e-2384-4792-f1b5-9b5dcf1f3a53"
      },
      "outputs": [
        {
          "output_type": "stream",
          "name": "stdout",
          "text": [
            "Attribute 'add_these_pw_job_title_9089' contains  317031  missing values\n",
            "Attribute 'agent_city' contains  153452  missing values\n",
            "Attribute 'agent_firm_name' contains  157646  missing values\n",
            "Attribute 'agent_state' contains  156544  missing values\n",
            "Attribute 'application_type' contains  229320  missing values\n",
            "Attribute 'case_received_date' contains  126848  missing values\n",
            "Attribute 'case_status' contains  0  missing values\n",
            "Attribute 'class_of_admission' contains  21085  missing values\n",
            "Attribute 'country_of_citizenship' contains  19272  missing values\n",
            "Attribute 'country_of_citzenship' contains  336951  missing values\n",
            "Attribute 'decision_date' contains  0  missing values\n",
            "Attribute 'employer_address_1' contains  37  missing values\n",
            "Attribute 'employer_address_2' contains  236133  missing values\n",
            "Attribute 'employer_city' contains  10  missing values\n",
            "Attribute 'employer_country' contains  126920  missing values\n",
            "Attribute 'employer_decl_info_title' contains  126886  missing values\n",
            "Attribute 'employer_name' contains  8  missing values\n",
            "Attribute 'employer_num_employees' contains  126925  missing values\n",
            "Attribute 'employer_phone' contains  126883  missing values\n",
            "Attribute 'employer_phone_ext' contains  333670  missing values\n",
            "Attribute 'employer_postal_code' contains  33  missing values\n",
            "Attribute 'employer_state' contains  37  missing values\n",
            "Attribute 'employer_yr_estab' contains  126982  missing values\n",
            "Attribute 'foreign_worker_info_alt_edu_experience' contains  271883  missing values\n",
            "Attribute 'foreign_worker_info_birth_country' contains  271880  missing values\n",
            "Attribute 'foreign_worker_info_city' contains  126875  missing values\n",
            "Attribute 'foreign_worker_info_education' contains  143554  missing values\n",
            "Attribute 'foreign_worker_info_education_other' contains  352421  missing values\n",
            "Attribute 'foreign_worker_info_inst' contains  143883  missing values\n",
            "Attribute 'foreign_worker_info_major' contains  144800  missing values\n",
            "Attribute 'foreign_worker_info_postal_code' contains  274425  missing values\n",
            "Attribute 'foreign_worker_info_rel_occup_exp' contains  271875  missing values\n",
            "Attribute 'foreign_worker_info_req_experience' contains  271873  missing values\n",
            "Attribute 'foreign_worker_info_state' contains  142448  missing values\n",
            "Attribute 'foreign_worker_info_training_comp' contains  271874  missing values\n",
            "Attribute 'foreign_worker_ownership_interest' contains  271870  missing values\n",
            "Attribute 'foreign_worker_yr_rel_edu_completed' contains  276735  missing values\n",
            "Attribute 'fw_info_alt_edu_experience' contains  211154  missing values\n",
            "Attribute 'fw_info_birth_country' contains  211166  missing values\n",
            "Attribute 'fw_info_education_other' contains  350072  missing values\n",
            "Attribute 'fw_info_postal_code' contains  213280  missing values\n",
            "Attribute 'fw_info_rel_occup_exp' contains  211157  missing values\n",
            "Attribute 'fw_info_req_experience' contains  211153  missing values\n",
            "Attribute 'fw_info_training_comp' contains  211156  missing values\n",
            "Attribute 'fw_info_yr_rel_edu_completed' contains  223131  missing values\n",
            "Attribute 'fw_ownership_interest' contains  211154  missing values\n",
            "Attribute 'ji_foreign_worker_live_on_premises' contains  271871  missing values\n",
            "Attribute 'ji_fw_live_on_premises' contains  211152  missing values\n",
            "Attribute 'ji_live_in_dom_svc_contract' contains  353855  missing values\n",
            "Attribute 'ji_live_in_domestic_service' contains  126858  missing values\n",
            "Attribute 'ji_offered_to_sec_j_foreign_worker' contains  271871  missing values\n",
            "Attribute 'ji_offered_to_sec_j_fw' contains  211152  missing values\n",
            "Attribute 'job_info_alt_cmb_ed_oth_yrs' contains  288242  missing values\n",
            "Attribute 'job_info_alt_combo_ed' contains  290025  missing values\n",
            "Attribute 'job_info_alt_combo_ed_exp' contains  126881  missing values\n",
            "Attribute 'job_info_alt_combo_ed_other' contains  347190  missing values\n",
            "Attribute 'job_info_alt_field' contains  126880  missing values\n",
            "Attribute 'job_info_alt_field_name' contains  265907  missing values\n",
            "Attribute 'job_info_alt_occ' contains  213169  missing values\n",
            "Attribute 'job_info_alt_occ_job_title' contains  213847  missing values\n",
            "Attribute 'job_info_alt_occ_num_months' contains  214045  missing values\n",
            "Attribute 'job_info_combo_occupation' contains  126855  missing values\n",
            "Attribute 'job_info_education' contains  147649  missing values\n",
            "Attribute 'job_info_education_other' contains  348724  missing values\n",
            "Attribute 'job_info_experience' contains  126858  missing values\n",
            "Attribute 'job_info_experience_num_months' contains  227222  missing values\n",
            "Attribute 'job_info_foreign_ed' contains  127075  missing values\n",
            "Attribute 'job_info_foreign_lang_req' contains  126862  missing values\n",
            "Attribute 'job_info_job_req_normal' contains  126859  missing values\n",
            "Attribute 'job_info_job_title' contains  126889  missing values\n",
            "Attribute 'job_info_major' contains  151241  missing values\n",
            "Attribute 'job_info_training' contains  126861  missing values\n",
            "Attribute 'job_info_training_field' contains  351877  missing values\n",
            "Attribute 'job_info_training_num_months' contains  351596  missing values\n",
            "Attribute 'job_info_work_city' contains  95  missing values\n",
            "Attribute 'job_info_work_postal_code' contains  126930  missing values\n",
            "Attribute 'job_info_work_state' contains  96  missing values\n",
            "Attribute 'naics_2007_us_code' contains  337009  missing values\n",
            "Attribute 'naics_2007_us_title' contains  337598  missing values\n",
            "Attribute 'naics_code' contains  272070  missing values\n",
            "Attribute 'naics_title' contains  272070  missing values\n",
            "Attribute 'naics_us_code' contains  211467  missing values\n",
            "Attribute 'naics_us_code_2007' contains  248921  missing values\n",
            "Attribute 'naics_us_title' contains  211467  missing values\n",
            "Attribute 'naics_us_title_2007' contains  251893  missing values\n",
            "Attribute 'orig_case_no' contains  355892  missing values\n",
            "Attribute 'orig_file_date' contains  355904  missing values\n",
            "Attribute 'preparer_info_emp_completed' contains  126885  missing values\n",
            "Attribute 'preparer_info_title' contains  154602  missing values\n",
            "Attribute 'pw_amount_9089' contains  2203  missing values\n",
            "Attribute 'pw_determ_date' contains  127160  missing values\n",
            "Attribute 'pw_expire_date' contains  127239  missing values\n",
            "Attribute 'pw_job_title_908' contains  211218  missing values\n",
            "Attribute 'pw_job_title_9089' contains  145334  missing values\n",
            "Attribute 'pw_level_9089' contains  26585  missing values\n",
            "Attribute 'pw_soc_code' contains  574  missing values\n",
            "Attribute 'pw_soc_title' contains  2321  missing values\n",
            "Attribute 'pw_source_name_9089' contains  2087  missing values\n",
            "Attribute 'pw_source_name_other_9089' contains  340927  missing values\n",
            "Attribute 'pw_track_num' contains  128696  missing values\n",
            "Attribute 'pw_unit_of_pay_9089' contains  1481  missing values\n",
            "Attribute 'rec_info_barg_rep_notified' contains  271930  missing values\n",
            "Attribute 'recr_info_barg_rep_notified' contains  211165  missing values\n",
            "Attribute 'recr_info_coll_teach_comp_proc' contains  349374  missing values\n",
            "Attribute 'recr_info_coll_univ_teacher' contains  126876  missing values\n",
            "Attribute 'recr_info_employer_rec_payment' contains  126864  missing values\n",
            "Attribute 'recr_info_first_ad_start' contains  132806  missing values\n",
            "Attribute 'recr_info_job_fair_from' contains  354447  missing values\n",
            "Attribute 'recr_info_job_fair_to' contains  354451  missing values\n",
            "Attribute 'recr_info_on_campus_recr_from' contains  354403  missing values\n",
            "Attribute 'recr_info_on_campus_recr_to' contains  354410  missing values\n",
            "Attribute 'recr_info_pro_org_advert_from' contains  342873  missing values\n",
            "Attribute 'recr_info_pro_org_advert_to' contains  342879  missing values\n",
            "Attribute 'recr_info_prof_org_advert_from' contains  328771  missing values\n",
            "Attribute 'recr_info_prof_org_advert_to' contains  328778  missing values\n",
            "Attribute 'recr_info_professional_occ' contains  126861  missing values\n",
            "Attribute 'recr_info_radio_tv_ad_from' contains  336666  missing values\n",
            "Attribute 'recr_info_radio_tv_ad_to' contains  336665  missing values\n",
            "Attribute 'recr_info_second_ad_start' contains  132843  missing values\n",
            "Attribute 'recr_info_sunday_newspaper' contains  132717  missing values\n",
            "Attribute 'recr_info_swa_job_order_end' contains  132841  missing values\n",
            "Attribute 'recr_info_swa_job_order_start' contains  132819  missing values\n",
            "Attribute 'refile' contains  247861  missing values\n",
            "Attribute 'ri_1st_ad_newspaper_name' contains  132797  missing values\n",
            "Attribute 'ri_2nd_ad_newspaper_name' contains  132858  missing values\n",
            "Attribute 'ri_2nd_ad_newspaper_or_journal' contains  132825  missing values\n",
            "Attribute 'ri_campus_placement_from' contains  327380  missing values\n",
            "Attribute 'ri_campus_placement_to' contains  327390  missing values\n",
            "Attribute 'ri_coll_tch_basic_process' contains  349382  missing values\n",
            "Attribute 'ri_coll_teach_pro_jnl' contains  350625  missing values\n",
            "Attribute 'ri_coll_teach_select_date' contains  350626  missing values\n",
            "Attribute 'ri_employee_referral_prog_from' contains  289853  missing values\n",
            "Attribute 'ri_employee_referral_prog_to' contains  289852  missing values\n",
            "Attribute 'ri_employer_web_post_from' contains  224277  missing values\n",
            "Attribute 'ri_employer_web_post_to' contains  224300  missing values\n",
            "Attribute 'ri_job_search_website_from' contains  166377  missing values\n",
            "Attribute 'ri_job_search_website_to' contains  166388  missing values\n",
            "Attribute 'ri_layoff_in_past_six_months' contains  126878  missing values\n",
            "Attribute 'ri_local_ethnic_paper_from' contains  239853  missing values\n",
            "Attribute 'ri_local_ethnic_paper_to' contains  239852  missing values\n",
            "Attribute 'ri_posted_notice_at_worksite' contains  126927  missing values\n",
            "Attribute 'ri_pvt_employment_firm_from' contains  340050  missing values\n",
            "Attribute 'ri_pvt_employment_firm_to' contains  340052  missing values\n",
            "Attribute 'ri_us_workers_considered' contains  339595  missing values\n",
            "Attribute 'schd_a_sheepherder' contains  126866  missing values\n",
            "Attribute 'us_economic_sector' contains  235300  missing values\n",
            "Attribute 'wage_offer_from_9089' contains  107705  missing values\n",
            "Attribute 'wage_offer_to_9089' contains  285397  missing values\n",
            "Attribute 'wage_offer_unit_of_pay_9089' contains  108769  missing values\n",
            "Attribute 'wage_offered_from_9089' contains  248582  missing values\n",
            "Attribute 'wage_offered_to_9089' contains  326852  missing values\n",
            "Attribute 'wage_offered_unit_of_pay_9089' contains  289470  missing values\n",
            "Attribute 'casenumber' contains  0  missing values\n"
          ]
        }
      ],
      "source": [
        "# Displaying number of missing values in each column\n",
        "for column in df.columns:\n",
        "    print(\"Attribute '{}' contains \".format(column),  df[column].isnull().sum().sum(), \" missing values\")"
      ]
    },
    {
      "cell_type": "markdown",
      "metadata": {
        "_cell_guid": "d0e07649-f33d-42f0-b5cb-3293c421dd5b",
        "_uuid": "454242a21a40d30afd2eabc6d0b2485a5b082075",
        "id": "ELOtcYo4Sk-e"
      },
      "source": [
        "## Visualization of the unprocessed data"
      ]
    },
    {
      "cell_type": "markdown",
      "metadata": {
        "_cell_guid": "7f589bd0-5a1b-4410-9a89-d7fd1bb7b334",
        "_uuid": "59a36f7e2c4381a24fb21fbb6599fa8615b4c874",
        "id": "_2yHcZzmSk-e"
      },
      "source": [
        "Before removing columns which consist mostly of missing values, let's create a new column containing only the year of Visa application submission and perform some visualisation in order to derive initial insights ."
      ]
    },
    {
      "cell_type": "code",
      "execution_count": null,
      "metadata": {
        "_cell_guid": "6e64f8e4-b430-428c-8a85-acd21c6ed0e3",
        "_uuid": "c8056f9bcff5361e223ff27bac72ce2b09f7fb9e",
        "colab": {
          "base_uri": "https://localhost:8080/",
          "height": 498
        },
        "id": "HZy-Hs9QSk-e",
        "outputId": "3635e2ad-51c1-4bb8-c4c9-f157da580c83"
      },
      "outputs": [
        {
          "output_type": "execute_result",
          "data": {
            "text/plain": [
              "[Text(0.5, 0, 'Visa application year'),\n",
              " Text(0, 0.5, 'Number of Visa applicatons')]"
            ]
          },
          "metadata": {},
          "execution_count": 13
        },
        {
          "output_type": "display_data",
          "data": {
            "text/plain": [
              "<Figure size 1270x827 with 1 Axes>"
            ],
            "image/png": "[encoded data removed]"
          },
          "metadata": {}
        }
      ],
      "source": [
        "#Converting the date to contain just the year of application submission\n",
        "df['year'] = df['decision_date'].dt.year\n",
        "\n",
        "#Setting plot parameters\n",
        "fig, ax = plt.subplots()\n",
        "fig.set_size_inches(12.7, 8.27)\n",
        "sns.set_context(rc={\"font.size\":12})\n",
        "sns.countplot(x=\"year\", hue=\"case_status\", data=df)\n",
        "ax.set(xlabel='Visa application year', ylabel='Number of Visa applicatons')\n"
      ]
    },
    {
      "cell_type": "markdown",
      "metadata": {
        "_cell_guid": "83656de7-2ef5-4090-95a9-19fb53e34769",
        "_uuid": "37d09690fb514948a07d8772c2f00e9f7c92ddb1",
        "id": "bFs2szdRSk-e"
      },
      "source": [
        "As we can observe, the number of submitted Visa applications increases every year. It's interesting that while the number of possitively considered applications increases, the number of \"Denied\" ones seems to be similar from year 2013. As a next step, let's see, what where the most popular cities."
      ]
    },
    {
      "cell_type": "code",
      "execution_count": null,
      "metadata": {
        "_cell_guid": "101fdc7a-8d39-44ab-8ed4-8f3834e81e3d",
        "_uuid": "73ea8f897346e0ddcd8eef8227e66a01871276cb",
        "colab": {
          "base_uri": "https://localhost:8080/",
          "height": 585
        },
        "id": "W8gRiftiSk-e",
        "outputId": "3ae483d1-8387-4224-eb32-d6a6bccbd570"
      },
      "outputs": [
        {
          "output_type": "execute_result",
          "data": {
            "text/plain": [
              "employer_city\n",
              "NEW YORK           17198\n",
              "COLLEGE STATION    11985\n",
              "SANTA CLARA        10519\n",
              "SAN JOSE            9147\n",
              "REDMOND             8485\n",
              "MOUNTAIN VIEW       8121\n",
              "HOUSTON             6720\n",
              "SAN FRANCISCO       6352\n",
              "SUNNYVALE           6104\n",
              "PLANO               5607\n",
              "CHICAGO             5561\n",
              "SEATTLE             5051\n",
              "EDISON              4056\n",
              "LOS ANGELES         4045\n",
              "SAN DIEGO           3702\n",
              "Name: count, dtype: int64"
            ],
            "text/html": [
              "<div>\n",
              "<style scoped>\n",
              "    .dataframe tbody tr th:only-of-type {\n",
              "        vertical-align: middle;\n",
              "    }\n",
              "\n",
              "    .dataframe tbody tr th {\n",
              "        vertical-align: top;\n",
              "    }\n",
              "\n",
              "    .dataframe thead th {\n",
              "        text-align: right;\n",
              "    }\n",
              "</style>\n",
              "<table border=\"1\" class=\"dataframe\">\n",
              "  <thead>\n",
              "    <tr style=\"text-align: right;\">\n",
              "      <th></th>\n",
              "      <th>count</th>\n",
              "    </tr>\n",
              "    <tr>\n",
              "      <th>employer_city</th>\n",
              "      <th></th>\n",
              "    </tr>\n",
              "  </thead>\n",
              "  <tbody>\n",
              "    <tr>\n",
              "      <th>NEW YORK</th>\n",
              "      <td>17198</td>\n",
              "    </tr>\n",
              "    <tr>\n",
              "      <th>COLLEGE STATION</th>\n",
              "      <td>11985</td>\n",
              "    </tr>\n",
              "    <tr>\n",
              "      <th>SANTA CLARA</th>\n",
              "      <td>10519</td>\n",
              "    </tr>\n",
              "    <tr>\n",
              "      <th>SAN JOSE</th>\n",
              "      <td>9147</td>\n",
              "    </tr>\n",
              "    <tr>\n",
              "      <th>REDMOND</th>\n",
              "      <td>8485</td>\n",
              "    </tr>\n",
              "    <tr>\n",
              "      <th>MOUNTAIN VIEW</th>\n",
              "      <td>8121</td>\n",
              "    </tr>\n",
              "    <tr>\n",
              "      <th>HOUSTON</th>\n",
              "      <td>6720</td>\n",
              "    </tr>\n",
              "    <tr>\n",
              "      <th>SAN FRANCISCO</th>\n",
              "      <td>6352</td>\n",
              "    </tr>\n",
              "    <tr>\n",
              "      <th>SUNNYVALE</th>\n",
              "      <td>6104</td>\n",
              "    </tr>\n",
              "    <tr>\n",
              "      <th>PLANO</th>\n",
              "      <td>5607</td>\n",
              "    </tr>\n",
              "    <tr>\n",
              "      <th>CHICAGO</th>\n",
              "      <td>5561</td>\n",
              "    </tr>\n",
              "    <tr>\n",
              "      <th>SEATTLE</th>\n",
              "      <td>5051</td>\n",
              "    </tr>\n",
              "    <tr>\n",
              "      <th>EDISON</th>\n",
              "      <td>4056</td>\n",
              "    </tr>\n",
              "    <tr>\n",
              "      <th>LOS ANGELES</th>\n",
              "      <td>4045</td>\n",
              "    </tr>\n",
              "    <tr>\n",
              "      <th>SAN DIEGO</th>\n",
              "      <td>3702</td>\n",
              "    </tr>\n",
              "  </tbody>\n",
              "</table>\n",
              "</div><br><label><b>dtype:</b> int64</label>"
            ]
          },
          "metadata": {},
          "execution_count": 14
        }
      ],
      "source": [
        "# Displaying 15 most popular cities\n",
        "df['employer_city'] = df['employer_city'].str.upper()\n",
        "df['employer_city'].value_counts().head(15)"
      ]
    },
    {
      "cell_type": "code",
      "execution_count": null,
      "metadata": {
        "_cell_guid": "f2ba9f7d-3740-47a7-a839-0d6ad42861a9",
        "_uuid": "341125b7b0025625451794cca0c3d7d04ad75a70",
        "colab": {
          "base_uri": "https://localhost:8080/",
          "height": 538
        },
        "id": "3_o7Xs2fSk-e",
        "outputId": "cd8d4151-2c55-47c7-b88c-1ff882013f7b"
      },
      "outputs": [
        {
          "output_type": "execute_result",
          "data": {
            "text/plain": [
              "[Text(0.5, 0, 'Employer city'), Text(0, 0.5, 'Number of Visa applications')]"
            ]
          },
          "metadata": {},
          "execution_count": 15
        },
        {
          "output_type": "display_data",
          "data": {
            "text/plain": [
              "<Figure size 1370x827 with 1 Axes>"
            ],
            "image/png": "[encoded data removed]"
          },
          "metadata": {}
        }
      ],
      "source": [
        "# Setting plot parameters\n",
        "fig, ax = plt.subplots()\n",
        "fig.set_size_inches(13.7, 8.27)\n",
        "sns.set_context(\"paper\", rc={\"font.size\":12,\"axes.titlesize\":12,\"axes.labelsize\":12})\n",
        "sns.countplot(x='employer_city', hue='year', data=df, order=df.employer_city.value_counts().iloc[:10].index)\n",
        "plt.xticks(rotation=90)\n",
        "ax.set(xlabel='Employer city', ylabel='Number of Visa applications')"
      ]
    },
    {
      "cell_type": "markdown",
      "metadata": {
        "_cell_guid": "2795a637-a888-4b13-a8ff-caf702a6f617",
        "_uuid": "616e7e47f645c943ed0a23c75648d0109af5362c",
        "id": "wP9MZF_0Sk-e"
      },
      "source": [
        "In the last few years, the most popular destination cities were: New York, College Station, Santa Clara, San Jose, Redmond, Mountain View, Houston, SunnyVale, San Francisco and Plano. In most of the cities there was a positive trend in Visa applications. A bizarre situation occured in College Station in 2015 where the number of submitted Visa applications was more or less twice large as in other cities.  \n",
        "\n",
        "\n",
        "Now, let's take a look what were the most hiring employers and economic sectors through these years. For \"us_economic_sector\" variable we have only 120 868 non-missing values, but this should give us an insight."
      ]
    },
    {
      "cell_type": "code",
      "execution_count": null,
      "metadata": {
        "_cell_guid": "1ea03952-74cd-4988-a6fc-9ac4be88dfb4",
        "_uuid": "37638aa19da4710b57b84f00099fbba73dd79c90",
        "colab": {
          "base_uri": "https://localhost:8080/",
          "height": 933
        },
        "id": "CYftxIGDSk-e",
        "outputId": "48f09f70-61db-426a-bbc4-0b5af069051c"
      },
      "outputs": [
        {
          "output_type": "stream",
          "name": "stderr",
          "text": [
            "<ipython-input-16-14e0f86aa79d>:5: FutureWarning: \n",
            "\n",
            "Passing `palette` without assigning `hue` is deprecated and will be removed in v0.14.0. Assign the `x` variable to `hue` and set `legend=False` for the same effect.\n",
            "\n",
            "  sns.countplot(x='employer_name', data=df, palette = sns.cubehelix_palette(8, start=.5, rot=-.75), order=df.employer_name.value_counts().iloc[:10].index)\n",
            "<ipython-input-16-14e0f86aa79d>:5: UserWarning: \n",
            "The palette list has fewer values (8) than needed (10) and will cycle, which may produce an uninterpretable plot.\n",
            "  sns.countplot(x='employer_name', data=df, palette = sns.cubehelix_palette(8, start=.5, rot=-.75), order=df.employer_name.value_counts().iloc[:10].index)\n"
          ]
        },
        {
          "output_type": "execute_result",
          "data": {
            "text/plain": [
              "[Text(0.5, 0, 'Employer name'), Text(0, 0.5, 'Number of Visa applications')]"
            ]
          },
          "metadata": {},
          "execution_count": 16
        },
        {
          "output_type": "display_data",
          "data": {
            "text/plain": [
              "<Figure size 1270x827 with 1 Axes>"
            ],
            "image/png": "[encoded data removed]"
          },
          "metadata": {}
        }
      ],
      "source": [
        "\n",
        "#Setting plot parameters\n",
        "fig, ax = plt.subplots()\n",
        "fig.set_size_inches(12.7, 8.27)\n",
        "sns.set_context(rc={\"font.size\":12,\"axes.labelsize\":13})\n",
        "sns.countplot(x='employer_name', data=df, palette = sns.cubehelix_palette(8, start=.5, rot=-.75), order=df.employer_name.value_counts().iloc[:10].index)\n",
        "plt.xticks(rotation=90)\n",
        "\n",
        "# Get value counts\n",
        "value_counts = df.job_info_job_title.value_counts().iloc[:10]\n",
        "\n",
        "#Iterating over elements in \"job_info_job_title\" column and displaying counts above bars\n",
        "for i, (category, count) in enumerate(value_counts.items()):\n",
        "        ax.text(i, count, str(count),\n",
        "            horizontalalignment='center',\n",
        "            verticalalignment='bottom')\n",
        "\n",
        "ax.set(xlabel='Employer name', ylabel='Number of Visa applications')"
      ]
    },
    {
      "cell_type": "markdown",
      "metadata": {
        "_cell_guid": "e645a397-db96-4ff8-a275-c21f7b363891",
        "_uuid": "2d18e60d17e0c7f125df39aa17be65b6908f4b15",
        "id": "OWOorDEHSk-e"
      },
      "source": [
        "As we can see, 9 out of 10 most beneficial companies for Visa applicants are IT industry representatives. This leads to the assumption that IT sector is both most favourable and demanding one in United States. Let's check what is the distribution of industries across all Visa applications."
      ]
    },
    {
      "cell_type": "code",
      "execution_count": null,
      "metadata": {
        "_cell_guid": "3a69a239-d6dd-4c77-91e2-e43dbd3b86b9",
        "_uuid": "be9871415fd28aabda6e4704107731039426e010",
        "collapsed": true,
        "id": "awOnpcQSSk-e"
      },
      "outputs": [],
      "source": [
        "#Creating empty dictionary\n",
        "us_economic_counts = {}\n",
        "\n",
        "#Iterating over \"us_economic_sector\" column and appending values to the \"us_economic_counts\" dictionary\n",
        "for value in df['us_economic_sector'].dropna():\n",
        "    if value in us_economic_counts:\n",
        "        us_economic_counts[value] += 1\n",
        "    else:\n",
        "        us_economic_counts[value] = 1"
      ]
    },
    {
      "cell_type": "code",
      "execution_count": null,
      "metadata": {
        "_cell_guid": "3489ee0a-0932-49bc-bee1-1ba675258282",
        "_uuid": "e310ac627d4b7da107f68bc45ddc60e81a89b786",
        "colab": {
          "base_uri": "https://localhost:8080/",
          "height": 1000
        },
        "id": "sx7ha-uYSk-e",
        "outputId": "4e403155-ec16-4f7e-9351-4f857f9d5a87"
      },
      "outputs": [
        {
          "output_type": "execute_result",
          "data": {
            "text/plain": [
              "([<matplotlib.patches.Wedge at 0x7b2d82571a90>,\n",
              "  <matplotlib.patches.Wedge at 0x7b2da2279910>,\n",
              "  <matplotlib.patches.Wedge at 0x7b2da2267f50>,\n",
              "  <matplotlib.patches.Wedge at 0x7b2da2278790>,\n",
              "  <matplotlib.patches.Wedge at 0x7b2da2264f90>,\n",
              "  <matplotlib.patches.Wedge at 0x7b2da225b4d0>,\n",
              "  <matplotlib.patches.Wedge at 0x7b2da2259dd0>,\n",
              "  <matplotlib.patches.Wedge at 0x7b2da2258710>,\n",
              "  <matplotlib.patches.Wedge at 0x7b2da224abd0>,\n",
              "  <matplotlib.patches.Wedge at 0x7b2da225b6d0>],\n",
              " [Text(-0.8119143783551594, -0.7197360920644142, 'IT'),\n",
              "  Text(0.884195188218691, -0.5663028069248055, 'Other Economic Sector'),\n",
              "  Text(1.0494163573953816, -0.035004411593524826, 'Aerospace'),\n",
              "  Text(0.8737715453583406, 0.5822570622346264, 'Advanced Mfg'),\n",
              "  Text(0.2371273511762825, 1.0228737064389328, 'Educational Services'),\n",
              "  Text(-0.14734319105720087, 1.0396104963153658, 'Retail'),\n",
              "  Text(-0.31051630896984056, 1.0030352046980937, 'Construction'),\n",
              "  Text(-0.3984061894090864, 0.971479545971263, 'Hospitality'),\n",
              "  Text(-0.47691786550210286, 0.9354407247735788, 'Automotive'),\n",
              "  Text(-0.6665151122050968, 0.8113307618981468, 'Health Care')],\n",
              " [Text(-0.6996681509327872, -0.620233406525555, '45.3%'),\n",
              "  Text(0.7578815899017352, -0.4854024059355476, '13.5%'),\n",
              "  Text(0.899499734910327, -0.030003781365878418, '3.6%'),\n",
              "  Text(0.7489470388785776, 0.499077481915394, '16.2%'),\n",
              "  Text(0.20325201529395642, 0.876748891233371, '7.9%'),\n",
              "  Text(-0.12629416376331504, 0.8910947111274564, '3.9%'),\n",
              "  Text(-0.26615683625986336, 0.8597444611697945, '1.2%'),\n",
              "  Text(-0.34149101949350263, 0.8326967536896539, '1.6%'),\n",
              "  Text(-0.4087867418589453, 0.8018063355202103, '1.0%'),\n",
              "  Text(-0.5712986676043686, 0.6954263673412686, '5.9%')])"
            ]
          },
          "metadata": {},
          "execution_count": 18
        },
        {
          "output_type": "display_data",
          "data": {
            "text/plain": [
              "<Figure size 1300x1300 with 1 Axes>"
            ],
            "image/png": "[encoded data removed]"
          },
          "metadata": {}
        }
      ],
      "source": [
        "#Creating lists for us economic sectors and their counts\n",
        "usecolabels = []\n",
        "usecovalues = []\n",
        "explode = (0.035, 0, 0, 0,0,0,0,0,0,0)\n",
        "\n",
        "for key, value in us_economic_counts.items():\n",
        "    usecolabels.append(key)\n",
        "    usecovalues.append(value)\n",
        "\n",
        "#Setting plot parameters\n",
        "plt.figure(figsize=(13,13))\n",
        "sns.set_context(rc={\"font.size\":10,\"axes.labelsize\":11,\"xtick.labelsize\" : 11})\n",
        "plt.pie(usecovalues[:10], labels=usecolabels[:10], explode = explode, autopct='%1.1f%%', pctdistance = 0.9,\n",
        "          rotatelabels = 90, startangle=140, labeldistance = 1.05)"
      ]
    },
    {
      "cell_type": "markdown",
      "metadata": {
        "_cell_guid": "c01af4ac-2539-41df-9475-7403108a3bbc",
        "_uuid": "69765c4d5f0b02f75dd96df8cd981143ba743f6e",
        "id": "gIEFQZFaSk-e"
      },
      "source": [
        "Even our US economic sector sample contained only 120 868 non-missing values, this somehow confirms that IT and Advanced Manufacturing are the most convenient sectors for applying foreigners. As a next step in our EDA, let's take a look at the most desired job titles, citizenships and class of admission of our Visa applicants.  "
      ]
    },
    {
      "cell_type": "code",
      "execution_count": null,
      "metadata": {
        "_cell_guid": "62418e40-b2f2-427c-b897-47e9aff516b1",
        "_uuid": "24ec722143c98c4443b5fac734e8e17fe1ecddef",
        "colab": {
          "base_uri": "https://localhost:8080/",
          "height": 742
        },
        "id": "erfbR-tjSk-e",
        "outputId": "ada36532-71be-4ca4-8c00-3d550c7b7f80"
      },
      "outputs": [
        {
          "output_type": "execute_result",
          "data": {
            "text/plain": [
              "job_info_job_title\n",
              "Software Engineer                   14372\n",
              "Computer Systems Analyst - V         4747\n",
              "Senior Software Engineer             3801\n",
              "Computer Systems Analyst - II        3416\n",
              "Software Developer                   2880\n",
              "Assistant Professor                  2604\n",
              "Programmer Analyst                   2534\n",
              "Computer Systems Analyst - IV        2496\n",
              "Systems Analyst                      2034\n",
              "Software Development Engineer II     1630\n",
              "Poultry Processing Worker            1594\n",
              "Component Design Engineer            1064\n",
              "Poultry Processor                    1037\n",
              "Business Analyst                      963\n",
              "software engineer                     932\n",
              "SOFTWARE ENGINEER                     877\n",
              "Senior Programmer Analyst             862\n",
              "Sr. Software Engineer                 847\n",
              "Senior Software Developer             817\n",
              "Commercial Cleaner                    802\n",
              "Name: count, dtype: int64"
            ],
            "text/html": [
              "<div>\n",
              "<style scoped>\n",
              "    .dataframe tbody tr th:only-of-type {\n",
              "        vertical-align: middle;\n",
              "    }\n",
              "\n",
              "    .dataframe tbody tr th {\n",
              "        vertical-align: top;\n",
              "    }\n",
              "\n",
              "    .dataframe thead th {\n",
              "        text-align: right;\n",
              "    }\n",
              "</style>\n",
              "<table border=\"1\" class=\"dataframe\">\n",
              "  <thead>\n",
              "    <tr style=\"text-align: right;\">\n",
              "      <th></th>\n",
              "      <th>count</th>\n",
              "    </tr>\n",
              "    <tr>\n",
              "      <th>job_info_job_title</th>\n",
              "      <th></th>\n",
              "    </tr>\n",
              "  </thead>\n",
              "  <tbody>\n",
              "    <tr>\n",
              "      <th>Software Engineer</th>\n",
              "      <td>14372</td>\n",
              "    </tr>\n",
              "    <tr>\n",
              "      <th>Computer Systems Analyst - V</th>\n",
              "      <td>4747</td>\n",
              "    </tr>\n",
              "    <tr>\n",
              "      <th>Senior Software Engineer</th>\n",
              "      <td>3801</td>\n",
              "    </tr>\n",
              "    <tr>\n",
              "      <th>Computer Systems Analyst - II</th>\n",
              "      <td>3416</td>\n",
              "    </tr>\n",
              "    <tr>\n",
              "      <th>Software Developer</th>\n",
              "      <td>2880</td>\n",
              "    </tr>\n",
              "    <tr>\n",
              "      <th>Assistant Professor</th>\n",
              "      <td>2604</td>\n",
              "    </tr>\n",
              "    <tr>\n",
              "      <th>Programmer Analyst</th>\n",
              "      <td>2534</td>\n",
              "    </tr>\n",
              "    <tr>\n",
              "      <th>Computer Systems Analyst - IV</th>\n",
              "      <td>2496</td>\n",
              "    </tr>\n",
              "    <tr>\n",
              "      <th>Systems Analyst</th>\n",
              "      <td>2034</td>\n",
              "    </tr>\n",
              "    <tr>\n",
              "      <th>Software Development Engineer II</th>\n",
              "      <td>1630</td>\n",
              "    </tr>\n",
              "    <tr>\n",
              "      <th>Poultry Processing Worker</th>\n",
              "      <td>1594</td>\n",
              "    </tr>\n",
              "    <tr>\n",
              "      <th>Component Design Engineer</th>\n",
              "      <td>1064</td>\n",
              "    </tr>\n",
              "    <tr>\n",
              "      <th>Poultry Processor</th>\n",
              "      <td>1037</td>\n",
              "    </tr>\n",
              "    <tr>\n",
              "      <th>Business Analyst</th>\n",
              "      <td>963</td>\n",
              "    </tr>\n",
              "    <tr>\n",
              "      <th>software engineer</th>\n",
              "      <td>932</td>\n",
              "    </tr>\n",
              "    <tr>\n",
              "      <th>SOFTWARE ENGINEER</th>\n",
              "      <td>877</td>\n",
              "    </tr>\n",
              "    <tr>\n",
              "      <th>Senior Programmer Analyst</th>\n",
              "      <td>862</td>\n",
              "    </tr>\n",
              "    <tr>\n",
              "      <th>Sr. Software Engineer</th>\n",
              "      <td>847</td>\n",
              "    </tr>\n",
              "    <tr>\n",
              "      <th>Senior Software Developer</th>\n",
              "      <td>817</td>\n",
              "    </tr>\n",
              "    <tr>\n",
              "      <th>Commercial Cleaner</th>\n",
              "      <td>802</td>\n",
              "    </tr>\n",
              "  </tbody>\n",
              "</table>\n",
              "</div><br><label><b>dtype:</b> int64</label>"
            ]
          },
          "metadata": {},
          "execution_count": 19
        }
      ],
      "source": [
        "df['job_info_job_title'].value_counts()[:20]"
      ]
    },
    {
      "cell_type": "markdown",
      "metadata": {
        "_cell_guid": "cc489c48-8d49-4916-90e6-1a1650dd24e7",
        "_uuid": "3f3a42921e5f5a9d2583e1995ea137cb8064b80a",
        "id": "Yz9tQ53HSk-f"
      },
      "source": [
        "Since our column contains job titles with different letter casing we need to standarize them so that\n",
        "value_counts() method will be able to count them more appropriately. Also, there are lots of same positions\n",
        "like \"Computer Systems Analyst\" which differ only by the number standing after hyphen so we will\n",
        "split these titles by finding the '-', 'ii' and '/' signs and leaving only the left side of the splitting\n",
        "result. Afterwards, we are going to remove leading and ending spaces, replace \"sr.\" with \"senior\" values and get rid of  'nan's."
      ]
    },
    {
      "cell_type": "code",
      "execution_count": null,
      "metadata": {
        "_cell_guid": "19482d0e-edb5-4d64-b2d5-337172b04e78",
        "_uuid": "8d0c881342378da4fb917726c387afd356add6d6",
        "colab": {
          "base_uri": "https://localhost:8080/",
          "height": 570
        },
        "id": "2rbZ4OreSk-h",
        "outputId": "f637c09e-4a9f-445d-acdb-5970923b0f29"
      },
      "outputs": [
        {
          "output_type": "stream",
          "name": "stderr",
          "text": [
            "<ipython-input-20-a1af5c613668>:15: FutureWarning: A value is trying to be set on a copy of a DataFrame or Series through chained assignment using an inplace method.\n",
            "The behavior will change in pandas 3.0. This inplace method will never work because the intermediate object on which we are setting values always behaves as a copy.\n",
            "\n",
            "For example, when doing 'df[col].method(value, inplace=True)', try using 'df.method({col: value}, inplace=True)' or df[col] = df[col].method(value) instead, to perform the operation inplace on the original object.\n",
            "\n",
            "\n",
            "  df['job_info_job_title'].replace([\"NaN\", 'NaT','nan'], np.nan, inplace = True)\n"
          ]
        },
        {
          "output_type": "execute_result",
          "data": {
            "text/plain": [
              "job_info_job_title\n",
              "software engineer                18582\n",
              "computer systems analyst         12054\n",
              "senior software engineer          5802\n",
              "software developer                4501\n",
              "programmer analyst                3763\n",
              "assistant professor               2869\n",
              "software development engineer     2766\n",
              "systems analyst                   2587\n",
              "senior programmer analyst         1884\n",
              "senior software developer         1625\n",
              "Name: count, dtype: int64"
            ],
            "text/html": [
              "<div>\n",
              "<style scoped>\n",
              "    .dataframe tbody tr th:only-of-type {\n",
              "        vertical-align: middle;\n",
              "    }\n",
              "\n",
              "    .dataframe tbody tr th {\n",
              "        vertical-align: top;\n",
              "    }\n",
              "\n",
              "    .dataframe thead th {\n",
              "        text-align: right;\n",
              "    }\n",
              "</style>\n",
              "<table border=\"1\" class=\"dataframe\">\n",
              "  <thead>\n",
              "    <tr style=\"text-align: right;\">\n",
              "      <th></th>\n",
              "      <th>count</th>\n",
              "    </tr>\n",
              "    <tr>\n",
              "      <th>job_info_job_title</th>\n",
              "      <th></th>\n",
              "    </tr>\n",
              "  </thead>\n",
              "  <tbody>\n",
              "    <tr>\n",
              "      <th>software engineer</th>\n",
              "      <td>18582</td>\n",
              "    </tr>\n",
              "    <tr>\n",
              "      <th>computer systems analyst</th>\n",
              "      <td>12054</td>\n",
              "    </tr>\n",
              "    <tr>\n",
              "      <th>senior software engineer</th>\n",
              "      <td>5802</td>\n",
              "    </tr>\n",
              "    <tr>\n",
              "      <th>software developer</th>\n",
              "      <td>4501</td>\n",
              "    </tr>\n",
              "    <tr>\n",
              "      <th>programmer analyst</th>\n",
              "      <td>3763</td>\n",
              "    </tr>\n",
              "    <tr>\n",
              "      <th>assistant professor</th>\n",
              "      <td>2869</td>\n",
              "    </tr>\n",
              "    <tr>\n",
              "      <th>software development engineer</th>\n",
              "      <td>2766</td>\n",
              "    </tr>\n",
              "    <tr>\n",
              "      <th>systems analyst</th>\n",
              "      <td>2587</td>\n",
              "    </tr>\n",
              "    <tr>\n",
              "      <th>senior programmer analyst</th>\n",
              "      <td>1884</td>\n",
              "    </tr>\n",
              "    <tr>\n",
              "      <th>senior software developer</th>\n",
              "      <td>1625</td>\n",
              "    </tr>\n",
              "  </tbody>\n",
              "</table>\n",
              "</div><br><label><b>dtype:</b> int64</label>"
            ]
          },
          "metadata": {},
          "execution_count": 20
        }
      ],
      "source": [
        "#Converting values to lower case\n",
        "df['job_info_job_title'] = df['job_info_job_title'].str.lower()\n",
        "\n",
        "#Splitting job titles by '-'\n",
        "df['job_info_job_title'] = df['job_info_job_title'].astype(str).str.split('-').str[0]\n",
        "#Splitting job titles by 'ii'\n",
        "df['job_info_job_title'] = df['job_info_job_title'].astype(str).str.split('ii').str[0]\n",
        "#Splitting job titles by '/'\n",
        "df['job_info_job_title'] = df['job_info_job_title'].astype(str).str.split('/').str[0]\n",
        "#Removing leading and ending spaces\n",
        "df['job_info_job_title'] = df['job_info_job_title'].astype(str).str.strip()\n",
        "#Replacing \"sr.\" values with \"senior\"\n",
        "df['job_info_job_title'] = df['job_info_job_title'].str.replace('sr.', 'senior')\n",
        "#Replacing \"NaN\", \"NaT\" and \"nan\" values with np.nan\n",
        "df['job_info_job_title'].replace([\"NaN\", 'NaT','nan'], np.nan, inplace = True)\n",
        "\n",
        "\n",
        "df['job_info_job_title'].value_counts(dropna=True)[:10]"
      ]
    },
    {
      "cell_type": "code",
      "execution_count": null,
      "metadata": {
        "_cell_guid": "bb8fd874-0bcd-4954-9240-06c2660ff6fd",
        "_uuid": "c7cfc9aa9f8066ab3e8190e8d18e43ffce9feae8",
        "colab": {
          "base_uri": "https://localhost:8080/",
          "height": 742
        },
        "id": "qgKgkmE9Sk-i",
        "outputId": "639c3729-70fb-4344-85cd-82a3f60ec5a4"
      },
      "outputs": [
        {
          "output_type": "stream",
          "name": "stderr",
          "text": [
            "<ipython-input-21-ece0cd8d6d4b>:5: FutureWarning: \n",
            "\n",
            "Passing `palette` without assigning `hue` is deprecated and will be removed in v0.14.0. Assign the `x` variable to `hue` and set `legend=False` for the same effect.\n",
            "\n",
            "  sns.countplot(x='job_info_job_title',data=df,\n"
          ]
        },
        {
          "output_type": "execute_result",
          "data": {
            "text/plain": [
              "[Text(0.5, 0, 'Job Title'), Text(0, 0.5, 'Number of Visa applications')]"
            ]
          },
          "metadata": {},
          "execution_count": 21
        },
        {
          "output_type": "display_data",
          "data": {
            "text/plain": [
              "<Figure size 1270x827 with 1 Axes>"
            ],
            "image/png": "[encoded data removed]"
          },
          "metadata": {}
        }
      ],
      "source": [
        "#Setting plot parameters\n",
        "fig, ax = plt.subplots()\n",
        "fig.set_size_inches(12.7, 8.27)\n",
        " #sns.set_context(rc={\"font.size\":14, \"axes.labelsize\":12})\n",
        "sns.countplot(x='job_info_job_title',data=df,\n",
        "               palette = sns.diverging_palette(255, 133, l=60, n=10, center=\"dark\"),\n",
        "               order=df.job_info_job_title.value_counts().iloc[:10].index)\n",
        "plt.xticks(rotation=90)\n",
        "\n",
        "# Get value counts\n",
        "value_counts = df.job_info_job_title.value_counts().iloc[:10]\n",
        "\n",
        "#Iterating over elements in \"job_info_job_title\" column and displaying counts above bars\n",
        "for i, (category, count) in enumerate(value_counts.items()):\n",
        "        ax.text(i, count, str(count),\n",
        "            horizontalalignment='center',\n",
        "            verticalalignment='bottom')\n",
        "\n",
        "#Setting label titles\n",
        "ax.set(xlabel='Job Title', ylabel='Number of Visa applications')"
      ]
    },
    {
      "cell_type": "markdown",
      "metadata": {
        "_cell_guid": "544e0ee7-a407-49fd-9819-30f4d413eda8",
        "_uuid": "bc4efbc48fae2b3f6e7eb1b834670e73e3b72fd7",
        "id": "lbHGG6oWSk-i"
      },
      "source": [
        "Interestingely, all of the most popular positions except  \"assistant professor\" are derived from the IT industry. This is another confirmation that there is a huge demand for IT specialists in USA and being one of them increases our chances to obtain a permanent Visa."
      ]
    },
    {
      "cell_type": "code",
      "execution_count": null,
      "metadata": {
        "_cell_guid": "005b01cd-ba72-49cf-bc67-27819abc3ae7",
        "_uuid": "8eb8c22e146ca38e6dfdbb2308a48656d33a99bc",
        "colab": {
          "base_uri": "https://localhost:8080/",
          "height": 646
        },
        "id": "w2n73Ku3Sk-i",
        "outputId": "befd2316-65bb-417f-d5d7-d70b662e7b01"
      },
      "outputs": [
        {
          "output_type": "stream",
          "name": "stderr",
          "text": [
            "<ipython-input-22-ef3a8a90e57e>:5: UserWarning: The palette list has more values (7) than needed (2), which may not be intended.\n",
            "  sns.countplot(x='country_of_citizenship',hue='case_status',data=df,\n"
          ]
        },
        {
          "output_type": "execute_result",
          "data": {
            "text/plain": [
              "[Text(0.5, 0, 'Country of citizenship'),\n",
              " Text(0, 0.5, 'Number of Visa applications')]"
            ]
          },
          "metadata": {},
          "execution_count": 22
        },
        {
          "output_type": "display_data",
          "data": {
            "text/plain": [
              "<Figure size 1270x827 with 1 Axes>"
            ],
            "image/png": "[encoded data removed]"
          },
          "metadata": {}
        }
      ],
      "source": [
        "#Setting plot parameters\n",
        "fig, ax = plt.subplots()\n",
        "fig.set_size_inches(12.7, 8.27)\n",
        "sns.set_context(rc={\"font.size\":14, \"axes.labelsize\":12})\n",
        "sns.countplot(x='country_of_citizenship',hue='case_status',data=df,\n",
        "              palette = sns.diverging_palette(255, 133, l=60, n=7, center=\"dark\"),\n",
        "              order=df.country_of_citizenship.value_counts().iloc[:7].index)\n",
        "plt.xticks(rotation=90)\n",
        "\n",
        "# Get value counts\n",
        "value_counts = df.country_of_citizenship.value_counts().iloc[:7]\n",
        "\n",
        "#Iterating over elements in \"country_of_citizenship\" column and displaying counts above bars\n",
        "for i, (category, count) in enumerate(value_counts.items()):\n",
        "        ax.text(i, count, str(count),\n",
        "            horizontalalignment='center',\n",
        "            verticalalignment='bottom')\n",
        "\n",
        "#Setting label titles\n",
        "ax.set(xlabel='Country of citizenship', ylabel='Number of Visa applications')"
      ]
    },
    {
      "cell_type": "markdown",
      "metadata": {
        "_cell_guid": "55baf0ec-4da0-454c-8040-7c9c9864bf98",
        "_uuid": "08a5ade699adb7df5402be36969df7df1ec349b6",
        "id": "XIq5LZn5Sk-i"
      },
      "source": [
        "As we can see, the majority of Visa applications has been submitted by Indian citizens. They constitute to more than half of our observations, we can assume that most of them are computer specialists."
      ]
    },
    {
      "cell_type": "code",
      "execution_count": null,
      "metadata": {
        "_cell_guid": "395c73ab-caf2-4b62-bab5-e91402ea7437",
        "_uuid": "5cfcd2e02edfdc278612b023a00fd26a8208d5bb",
        "colab": {
          "base_uri": "https://localhost:8080/",
          "height": 528
        },
        "id": "sYwNIVlGSk-i",
        "outputId": "36c154b5-a698-40b7-cf8b-3b894a161a13"
      },
      "outputs": [
        {
          "output_type": "execute_result",
          "data": {
            "text/plain": [
              "[Text(0.5, 0, 'Visa type'), Text(0, 0.5, 'Number of Visa applications')]"
            ]
          },
          "metadata": {},
          "execution_count": 23
        },
        {
          "output_type": "display_data",
          "data": {
            "text/plain": [
              "<Figure size 1270x827 with 1 Axes>"
            ],
            "image/png": "[encoded data removed]"
          },
          "metadata": {}
        }
      ],
      "source": [
        "# Setting plot parameters\n",
        "fig, ax = plt.subplots()\n",
        "fig.set_size_inches(12.7, 8.27)\n",
        "\n",
        "# Create countplot\n",
        "sns.countplot(x='class_of_admission', data=df,\n",
        "              order=df.class_of_admission.value_counts().iloc[:10].index)\n",
        "plt.xticks(rotation=90)\n",
        "\n",
        "# Get value counts\n",
        "value_counts = df.class_of_admission.value_counts().iloc[:10]\n",
        "\n",
        "# Iterating over elements and displaying counts above bars\n",
        "for i, (category, count) in enumerate(value_counts.items()):\n",
        "    ax.text(i, count, str(count),\n",
        "            horizontalalignment='center',\n",
        "            verticalalignment='bottom')\n",
        "\n",
        "ax.set(xlabel='Visa type', ylabel='Number of Visa applications')"
      ]
    },
    {
      "cell_type": "markdown",
      "metadata": {
        "_cell_guid": "c306571b-7e95-49f9-9a7b-e6eb7ddc6c79",
        "_uuid": "2548a866584ca0fbd83ee096c7b50602c43967a1",
        "id": "8nc__wMaSk-i"
      },
      "source": [
        "The vast majority of petitioners were applying for the H-1B Visa, which according to the Wikipedia, allows U.S. employers to employ foreign workers in specialty occupations. If a foreign worker in H-1B status quits or is dismissed from the sponsoring employer, the worker must either apply for and be granted a change of status, find another employer (subject to application for adjustment of status and/or change of visa), or leave the United States.\n",
        "\n",
        "\n",
        "Finally, let's try checking on the number and kind of application types. Unfortunately, our data consists only of 126 848 non-missing values for this attribute, but this should give us a general overview."
      ]
    },
    {
      "cell_type": "code",
      "execution_count": null,
      "metadata": {
        "_cell_guid": "1887dd8f-2631-4c3f-bf58-a61a6c11c4e0",
        "_uuid": "af267987a55efc1bde176f7ea34ce0a884704ec3",
        "colab": {
          "base_uri": "https://localhost:8080/",
          "height": 644
        },
        "id": "q0_6wns7Sk-i",
        "outputId": "2bb887b3-3f28-4aaf-90f9-882bebc1a935"
      },
      "outputs": [
        {
          "output_type": "stream",
          "name": "stderr",
          "text": [
            "<ipython-input-24-4d8560d6a185>:4: FutureWarning: \n",
            "\n",
            "Passing `palette` without assigning `hue` is deprecated and will be removed in v0.14.0. Assign the `x` variable to `hue` and set `legend=False` for the same effect.\n",
            "\n",
            "  sns.countplot(x='application_type', data=df, palette = sns.color_palette(\"GnBu_d\"), order=df.application_type.value_counts().iloc[:10].index)\n",
            "<ipython-input-24-4d8560d6a185>:4: UserWarning: The palette list has more values (6) than needed (3), which may not be intended.\n",
            "  sns.countplot(x='application_type', data=df, palette = sns.color_palette(\"GnBu_d\"), order=df.application_type.value_counts().iloc[:10].index)\n"
          ]
        },
        {
          "output_type": "execute_result",
          "data": {
            "text/plain": [
              "[Text(0.5, 0, 'Application type'), Text(0, 0.5, 'Number of Visa applications')]"
            ]
          },
          "metadata": {},
          "execution_count": 24
        },
        {
          "output_type": "display_data",
          "data": {
            "text/plain": [
              "<Figure size 1070x727 with 1 Axes>"
            ],
            "image/png": "[encoded data removed]"
          },
          "metadata": {}
        }
      ],
      "source": [
        "#Setting plot parameters\n",
        "fig, ax = plt.subplots()\n",
        "fig.set_size_inches(10.7, 7.27)\n",
        "sns.countplot(x='application_type', data=df, palette = sns.color_palette(\"GnBu_d\"), order=df.application_type.value_counts().iloc[:10].index)\n",
        "\n",
        "# Get value counts\n",
        "value_counts = df.application_type.value_counts().iloc[:10]\n",
        "\n",
        "# Iterating over elements and displaying counts above bars\n",
        "for i, (category, count) in enumerate(value_counts.items()):\n",
        "        ax.text(i, count, str(count),\n",
        "            horizontalalignment='center',\n",
        "            verticalalignment='bottom')\n",
        "\n",
        "ax.set(xlabel='Application type', ylabel='Number of Visa applications')"
      ]
    },
    {
      "cell_type": "markdown",
      "metadata": {
        "_cell_guid": "94e5a222-8d4f-4af7-a98c-7ff982ea358a",
        "_uuid": "deb3611ac6d57fc4b9885aaa25138d2b79ea16cd",
        "id": "I80nBXoiSk-i"
      },
      "source": [
        "Online submission was the most popular form of application type. Here, we can also find \"PERM\" value which is probably incorrect. My assumtion is that some petitioners thought about this form field as a distinction between \"temporary\" and \"permanent\" Visa type. The last plotting activity will be displaying the applicants education level and remuneration."
      ]
    },
    {
      "cell_type": "code",
      "execution_count": null,
      "metadata": {
        "_cell_guid": "45bd1489-4295-48b5-b372-63176eebe6d5",
        "_uuid": "00786db794fe9b55d43102f20b60a172ec027be4",
        "colab": {
          "base_uri": "https://localhost:8080/",
          "height": 626
        },
        "id": "nrZhPn-PSk-i",
        "outputId": "7746505a-fbee-4f9a-9b41-f0aaf45f7f4e"
      },
      "outputs": [
        {
          "output_type": "stream",
          "name": "stderr",
          "text": [
            "<ipython-input-25-e2959700ea1a>:5: FutureWarning: \n",
            "\n",
            "Passing `palette` without assigning `hue` is deprecated and will be removed in v0.14.0. Assign the `x` variable to `hue` and set `legend=False` for the same effect.\n",
            "\n",
            "  sns.countplot(x='foreign_worker_info_education',data=df,\n",
            "<ipython-input-25-e2959700ea1a>:5: UserWarning: The palette list has more values (12) than needed (6), which may not be intended.\n",
            "  sns.countplot(x='foreign_worker_info_education',data=df,\n"
          ]
        },
        {
          "output_type": "execute_result",
          "data": {
            "text/plain": [
              "[Text(0.5, 0, 'Education level'), Text(0, 0.5, 'Number of Visa applications')]"
            ]
          },
          "metadata": {},
          "execution_count": 25
        },
        {
          "output_type": "display_data",
          "data": {
            "text/plain": [
              "<Figure size 1270x827 with 1 Axes>"
            ],
            "image/png": "[encoded data removed]"
          },
          "metadata": {}
        }
      ],
      "source": [
        "#Setting plot parameters\n",
        "fig, ax = plt.subplots()\n",
        "fig.set_size_inches(12.7, 8.27)\n",
        " #sns.set_context(rc={\"font.size\":14, \"axes.labelsize\":12})\n",
        "sns.countplot(x='foreign_worker_info_education',data=df,\n",
        "               palette = sns.color_palette(\"Paired\"),\n",
        "               order=df.foreign_worker_info_education.value_counts().iloc[:10].index)\n",
        "\n",
        "# Get value counts\n",
        "value_counts = df.foreign_worker_info_education.value_counts().iloc[:10]\n",
        "\n",
        "# Iterating over elements and displaying counts above bars\n",
        "for i, (category, count) in enumerate(value_counts.items()):\n",
        "        ax.text(i, count, str(count),\n",
        "            horizontalalignment='center',\n",
        "            verticalalignment='bottom')\n",
        "\n",
        "#Setting label titles\n",
        "ax.set(xlabel='Education level', ylabel='Number of Visa applications')\n"
      ]
    },
    {
      "cell_type": "markdown",
      "metadata": {
        "_cell_guid": "6484afd9-3fe3-495f-8ff7-aaf1c78dc485",
        "_uuid": "e1d876f709a63c4a5b98e98776cc3d31c5df2c3f",
        "id": "u5HN_BXBSk-i"
      },
      "source": [
        "As we can see, over 50% of applicants obtained a university degree. Before plotting the remuneration, we will remove commas from the values so that they are left only with decimal places denoted. Also, since some of the wages are hourly, weekly, bi-weekly and monthly values, we have to calculate the yearly equivalents for them. According to the https://www.timeanddate.com/date/workdays.html website, the average number of working days in USA is 250. We will use this information in our calculations."
      ]
    },
    {
      "cell_type": "code",
      "execution_count": null,
      "metadata": {
        "_cell_guid": "6d449bab-9a89-40f9-b854-0afb062b9b3d",
        "_uuid": "589bc80b820532d3b9fd6ca567611940c4e81a81",
        "colab": {
          "base_uri": "https://localhost:8080/",
          "height": 363
        },
        "id": "WjToHvamSk-i",
        "outputId": "2d15e6e0-9af4-427f-f55e-7f798994179d"
      },
      "outputs": [
        {
          "output_type": "execute_result",
          "data": {
            "text/plain": [
              "  pw_amount_9089 pw_unit_of_pay_9089\n",
              "0        75629.0                  yr\n",
              "1        37024.0                  yr\n",
              "2        47923.0                  yr\n",
              "3          10.97                  hr\n",
              "4        94890.0                  yr\n",
              "5        37024.0                  yr\n",
              "6       47083.33                  yr\n",
              "7        36733.0                  yr\n",
              "8        44824.0                  yr\n",
              "9          12.86                  hr"
            ],
            "text/html": [
              "\n",
              "  <div id=\"df-4b872f91-1dc2-46fb-b373-54dff57d8825\" class=\"colab-df-container\">\n",
              "    <div>\n",
              "<style scoped>\n",
              "    .dataframe tbody tr th:only-of-type {\n",
              "        vertical-align: middle;\n",
              "    }\n",
              "\n",
              "    .dataframe tbody tr th {\n",
              "        vertical-align: top;\n",
              "    }\n",
              "\n",
              "    .dataframe thead th {\n",
              "        text-align: right;\n",
              "    }\n",
              "</style>\n",
              "<table border=\"1\" class=\"dataframe\">\n",
              "  <thead>\n",
              "    <tr style=\"text-align: right;\">\n",
              "      <th></th>\n",
              "      <th>pw_amount_9089</th>\n",
              "      <th>pw_unit_of_pay_9089</th>\n",
              "    </tr>\n",
              "  </thead>\n",
              "  <tbody>\n",
              "    <tr>\n",
              "      <th>0</th>\n",
              "      <td>75629.0</td>\n",
              "      <td>yr</td>\n",
              "    </tr>\n",
              "    <tr>\n",
              "      <th>1</th>\n",
              "      <td>37024.0</td>\n",
              "      <td>yr</td>\n",
              "    </tr>\n",
              "    <tr>\n",
              "      <th>2</th>\n",
              "      <td>47923.0</td>\n",
              "      <td>yr</td>\n",
              "    </tr>\n",
              "    <tr>\n",
              "      <th>3</th>\n",
              "      <td>10.97</td>\n",
              "      <td>hr</td>\n",
              "    </tr>\n",
              "    <tr>\n",
              "      <th>4</th>\n",
              "      <td>94890.0</td>\n",
              "      <td>yr</td>\n",
              "    </tr>\n",
              "    <tr>\n",
              "      <th>5</th>\n",
              "      <td>37024.0</td>\n",
              "      <td>yr</td>\n",
              "    </tr>\n",
              "    <tr>\n",
              "      <th>6</th>\n",
              "      <td>47083.33</td>\n",
              "      <td>yr</td>\n",
              "    </tr>\n",
              "    <tr>\n",
              "      <th>7</th>\n",
              "      <td>36733.0</td>\n",
              "      <td>yr</td>\n",
              "    </tr>\n",
              "    <tr>\n",
              "      <th>8</th>\n",
              "      <td>44824.0</td>\n",
              "      <td>yr</td>\n",
              "    </tr>\n",
              "    <tr>\n",
              "      <th>9</th>\n",
              "      <td>12.86</td>\n",
              "      <td>hr</td>\n",
              "    </tr>\n",
              "  </tbody>\n",
              "</table>\n",
              "</div>\n",
              "    <div class=\"colab-df-buttons\">\n",
              "\n",
              "  <div class=\"colab-df-container\">\n",
              "    <button class=\"colab-df-convert\" onclick=\"convertToInteractive('df-4b872f91-1dc2-46fb-b373-54dff57d8825')\"\n",
              "            title=\"Convert this dataframe to an interactive table.\"\n",
              "            style=\"display:none;\">\n",
              "\n",
              "  <svg xmlns=\"http://www.w3.org/2000/svg\" height=\"24px\" viewBox=\"0 -960 960 960\">\n",
              "    <path d=\"M120-120v-720h720v720H120Zm60-500h600v-160H180v160Zm220 220h160v-160H400v160Zm0 220h160v-160H400v160ZM180-400h160v-160H180v160Zm440 0h160v-160H620v160ZM180-180h160v-160H180v160Zm440 0h160v-160H620v160Z\"/>\n",
              "  </svg>\n",
              "    </button>\n",
              "\n",
              "  <style>\n",
              "    .colab-df-container {\n",
              "      display:flex;\n",
              "      gap: 12px;\n",
              "    }\n",
              "\n",
              "    .colab-df-convert {\n",
              "      background-color: #E8F0FE;\n",
              "      border: none;\n",
              "      border-radius: 50%;\n",
              "      cursor: pointer;\n",
              "      display: none;\n",
              "      fill: #1967D2;\n",
              "      height: 32px;\n",
              "      padding: 0 0 0 0;\n",
              "      width: 32px;\n",
              "    }\n",
              "\n",
              "    .colab-df-convert:hover {\n",
              "      background-color: #E2EBFA;\n",
              "      box-shadow: 0px 1px 2px rgba(60, 64, 67, 0.3), 0px 1px 3px 1px rgba(60, 64, 67, 0.15);\n",
              "      fill: #174EA6;\n",
              "    }\n",
              "\n",
              "    .colab-df-buttons div {\n",
              "      margin-bottom: 4px;\n",
              "    }\n",
              "\n",
              "    [theme=dark] .colab-df-convert {\n",
              "      background-color: #3B4455;\n",
              "      fill: #D2E3FC;\n",
              "    }\n",
              "\n",
              "    [theme=dark] .colab-df-convert:hover {\n",
              "      background-color: #434B5C;\n",
              "      box-shadow: 0px 1px 3px 1px rgba(0, 0, 0, 0.15);\n",
              "      filter: drop-shadow(0px 1px 2px rgba(0, 0, 0, 0.3));\n",
              "      fill: #FFFFFF;\n",
              "    }\n",
              "  </style>\n",
              "\n",
              "    <script>\n",
              "      const buttonEl =\n",
              "        document.querySelector('#df-4b872f91-1dc2-46fb-b373-54dff57d8825 button.colab-df-convert');\n",
              "      buttonEl.style.display =\n",
              "        google.colab.kernel.accessAllowed ? 'block' : 'none';\n",
              "\n",
              "      async function convertToInteractive(key) {\n",
              "        const element = document.querySelector('#df-4b872f91-1dc2-46fb-b373-54dff57d8825');\n",
              "        const dataTable =\n",
              "          await google.colab.kernel.invokeFunction('convertToInteractive',\n",
              "                                                    [key], {});\n",
              "        if (!dataTable) return;\n",
              "\n",
              "        const docLinkHtml = 'Like what you see? Visit the ' +\n",
              "          '<a target=\"_blank\" href=https://colab.research.google.com/notebooks/data_table.ipynb>data table notebook</a>'\n",
              "          + ' to learn more about interactive tables.';\n",
              "        element.innerHTML = '';\n",
              "        dataTable['output_type'] = 'display_data';\n",
              "        await google.colab.output.renderOutput(dataTable, element);\n",
              "        const docLink = document.createElement('div');\n",
              "        docLink.innerHTML = docLinkHtml;\n",
              "        element.appendChild(docLink);\n",
              "      }\n",
              "    </script>\n",
              "  </div>\n",
              "\n",
              "\n",
              "<div id=\"df-51805ed2-d2b7-4223-947e-480b793cc127\">\n",
              "  <button class=\"colab-df-quickchart\" onclick=\"quickchart('df-51805ed2-d2b7-4223-947e-480b793cc127')\"\n",
              "            title=\"Suggest charts\"\n",
              "            style=\"display:none;\">\n",
              "\n",
              "<svg xmlns=\"http://www.w3.org/2000/svg\" height=\"24px\"viewBox=\"0 0 24 24\"\n",
              "     width=\"24px\">\n",
              "    <g>\n",
              "        <path d=\"M19 3H5c-1.1 0-2 .9-2 2v14c0 1.1.9 2 2 2h14c1.1 0 2-.9 2-2V5c0-1.1-.9-2-2-2zM9 17H7v-7h2v7zm4 0h-2V7h2v10zm4 0h-2v-4h2v4z\"/>\n",
              "    </g>\n",
              "</svg>\n",
              "  </button>\n",
              "\n",
              "<style>\n",
              "  .colab-df-quickchart {\n",
              "      --bg-color: #E8F0FE;\n",
              "      --fill-color: #1967D2;\n",
              "      --hover-bg-color: #E2EBFA;\n",
              "      --hover-fill-color: #174EA6;\n",
              "      --disabled-fill-color: #AAA;\n",
              "      --disabled-bg-color: #DDD;\n",
              "  }\n",
              "\n",
              "  [theme=dark] .colab-df-quickchart {\n",
              "      --bg-color: #3B4455;\n",
              "      --fill-color: #D2E3FC;\n",
              "      --hover-bg-color: #434B5C;\n",
              "      --hover-fill-color: #FFFFFF;\n",
              "      --disabled-bg-color: #3B4455;\n",
              "      --disabled-fill-color: #666;\n",
              "  }\n",
              "\n",
              "  .colab-df-quickchart {\n",
              "    background-color: var(--bg-color);\n",
              "    border: none;\n",
              "    border-radius: 50%;\n",
              "    cursor: pointer;\n",
              "    display: none;\n",
              "    fill: var(--fill-color);\n",
              "    height: 32px;\n",
              "    padding: 0;\n",
              "    width: 32px;\n",
              "  }\n",
              "\n",
              "  .colab-df-quickchart:hover {\n",
              "    background-color: var(--hover-bg-color);\n",
              "    box-shadow: 0 1px 2px rgba(60, 64, 67, 0.3), 0 1px 3px 1px rgba(60, 64, 67, 0.15);\n",
              "    fill: var(--button-hover-fill-color);\n",
              "  }\n",
              "\n",
              "  .colab-df-quickchart-complete:disabled,\n",
              "  .colab-df-quickchart-complete:disabled:hover {\n",
              "    background-color: var(--disabled-bg-color);\n",
              "    fill: var(--disabled-fill-color);\n",
              "    box-shadow: none;\n",
              "  }\n",
              "\n",
              "  .colab-df-spinner {\n",
              "    border: 2px solid var(--fill-color);\n",
              "    border-color: transparent;\n",
              "    border-bottom-color: var(--fill-color);\n",
              "    animation:\n",
              "      spin 1s steps(1) infinite;\n",
              "  }\n",
              "\n",
              "  @keyframes spin {\n",
              "    0% {\n",
              "      border-color: transparent;\n",
              "      border-bottom-color: var(--fill-color);\n",
              "      border-left-color: var(--fill-color);\n",
              "    }\n",
              "    20% {\n",
              "      border-color: transparent;\n",
              "      border-left-color: var(--fill-color);\n",
              "      border-top-color: var(--fill-color);\n",
              "    }\n",
              "    30% {\n",
              "      border-color: transparent;\n",
              "      border-left-color: var(--fill-color);\n",
              "      border-top-color: var(--fill-color);\n",
              "      border-right-color: var(--fill-color);\n",
              "    }\n",
              "    40% {\n",
              "      border-color: transparent;\n",
              "      border-right-color: var(--fill-color);\n",
              "      border-top-color: var(--fill-color);\n",
              "    }\n",
              "    60% {\n",
              "      border-color: transparent;\n",
              "      border-right-color: var(--fill-color);\n",
              "    }\n",
              "    80% {\n",
              "      border-color: transparent;\n",
              "      border-right-color: var(--fill-color);\n",
              "      border-bottom-color: var(--fill-color);\n",
              "    }\n",
              "    90% {\n",
              "      border-color: transparent;\n",
              "      border-bottom-color: var(--fill-color);\n",
              "    }\n",
              "  }\n",
              "</style>\n",
              "\n",
              "  <script>\n",
              "    async function quickchart(key) {\n",
              "      const quickchartButtonEl =\n",
              "        document.querySelector('#' + key + ' button');\n",
              "      quickchartButtonEl.disabled = true;  // To prevent multiple clicks.\n",
              "      quickchartButtonEl.classList.add('colab-df-spinner');\n",
              "      try {\n",
              "        const charts = await google.colab.kernel.invokeFunction(\n",
              "            'suggestCharts', [key], {});\n",
              "      } catch (error) {\n",
              "        console.error('Error during call to suggestCharts:', error);\n",
              "      }\n",
              "      quickchartButtonEl.classList.remove('colab-df-spinner');\n",
              "      quickchartButtonEl.classList.add('colab-df-quickchart-complete');\n",
              "    }\n",
              "    (() => {\n",
              "      let quickchartButtonEl =\n",
              "        document.querySelector('#df-51805ed2-d2b7-4223-947e-480b793cc127 button');\n",
              "      quickchartButtonEl.style.display =\n",
              "        google.colab.kernel.accessAllowed ? 'block' : 'none';\n",
              "    })();\n",
              "  </script>\n",
              "</div>\n",
              "\n",
              "    </div>\n",
              "  </div>\n"
            ],
            "application/vnd.google.colaboratory.intrinsic+json": {
              "type": "dataframe",
              "summary": "{\n  \"name\": \"df[['pw_amount_9089','pw_unit_of_pay_9089']]\",\n  \"rows\": 10,\n  \"fields\": [\n    {\n      \"column\": \"pw_amount_9089\",\n      \"properties\": {\n        \"dtype\": \"string\",\n        \"num_unique_values\": 9,\n        \"samples\": [\n          \"44824.0\",\n          \"37024.0\",\n          \"47083.33\"\n        ],\n        \"semantic_type\": \"\",\n        \"description\": \"\"\n      }\n    },\n    {\n      \"column\": \"pw_unit_of_pay_9089\",\n      \"properties\": {\n        \"dtype\": \"category\",\n        \"num_unique_values\": 2,\n        \"samples\": [\n          \"hr\",\n          \"yr\"\n        ],\n        \"semantic_type\": \"\",\n        \"description\": \"\"\n      }\n    }\n  ]\n}"
            }
          },
          "metadata": {},
          "execution_count": 26
        }
      ],
      "source": [
        "df[['pw_amount_9089','pw_unit_of_pay_9089']].head(10)"
      ]
    },
    {
      "cell_type": "code",
      "execution_count": null,
      "metadata": {
        "_cell_guid": "8cadf005-466b-4d1d-bb11-0388bd0c92e0",
        "_uuid": "4fa67723698fce63cbf8c874bdf6e2b8f5ea0ffd",
        "colab": {
          "base_uri": "https://localhost:8080/"
        },
        "id": "O5YU2fcCSk-i",
        "outputId": "d4a40add-085e-442b-f9b5-b936d070abbc"
      },
      "outputs": [
        {
          "output_type": "stream",
          "name": "stdout",
          "text": [
            "   pw_amount_9089 pw_unit_of_pay_9089\n",
            "0        75629.00                Year\n",
            "1        37024.00                Year\n",
            "2        47923.00                Year\n",
            "3        21940.00                Year\n",
            "4        94890.00                Year\n",
            "5        37024.00                Year\n",
            "6        47083.33                Year\n",
            "7        36733.00                Year\n",
            "8        44824.00                Year\n",
            "9        25720.00                Year\n"
          ]
        }
      ],
      "source": [
        "# First clean the data\n",
        "df['pw_amount_9089'] = df['pw_amount_9089'].str.replace(\",\", \"\").str.strip()\n",
        "\n",
        "# Function to safely convert to float\n",
        "def safe_float_convert(x):\n",
        "    try:\n",
        "        return float(x)\n",
        "    except (ValueError, TypeError):\n",
        "        return None\n",
        "\n",
        "# Process the different pay units\n",
        "for unit in df.pw_unit_of_pay_9089.unique():\n",
        "    if unit == \"hr\" or unit == \"Hour\":\n",
        "        df.loc[df['pw_unit_of_pay_9089'] == unit, 'pw_amount_9089'] = df.loc[df['pw_unit_of_pay_9089'] == unit, 'pw_amount_9089'].apply(safe_float_convert) * 8 * 250\n",
        "        df.loc[df['pw_unit_of_pay_9089'] == unit, 'pw_unit_of_pay_9089'] = \"Year\"\n",
        "    elif unit == \"wk\" or unit == \"Week\":\n",
        "        df.loc[df['pw_unit_of_pay_9089'] == unit, 'pw_amount_9089'] = df.loc[df['pw_unit_of_pay_9089'] == unit, 'pw_amount_9089'].apply(safe_float_convert) * 50\n",
        "        df.loc[df['pw_unit_of_pay_9089'] == unit, 'pw_unit_of_pay_9089'] = \"Year\"\n",
        "    elif unit == \"mth\" or unit == \"Month\":\n",
        "        df.loc[df['pw_unit_of_pay_9089'] == unit, 'pw_amount_9089'] = df.loc[df['pw_unit_of_pay_9089'] == unit, 'pw_amount_9089'].apply(safe_float_convert) * 12\n",
        "        df.loc[df['pw_unit_of_pay_9089'] == unit, 'pw_unit_of_pay_9089'] = \"Year\"\n",
        "    elif unit == \"bi\" or unit == \"Bi-Weekly\":\n",
        "        df.loc[df['pw_unit_of_pay_9089'] == unit, 'pw_amount_9089'] = df.loc[df['pw_unit_of_pay_9089'] == unit, 'pw_amount_9089'].apply(safe_float_convert) * 25\n",
        "        df.loc[df['pw_unit_of_pay_9089'] == unit, 'pw_unit_of_pay_9089'] = \"Year\"\n",
        "    elif unit == \"yr\":\n",
        "        df.loc[df['pw_unit_of_pay_9089'] == unit, 'pw_unit_of_pay_9089'] = \"Year\"\n",
        "\n",
        "# Fill missing values with median after converting all to float\n",
        "df['pw_amount_9089'] = pd.to_numeric(df['pw_amount_9089'], errors='coerce')\n",
        "df['pw_amount_9089'] = df['pw_amount_9089'].fillna(df['pw_amount_9089'].median())\n",
        "\n",
        "# Display results\n",
        "print(df[['pw_amount_9089', 'pw_unit_of_pay_9089']].head(10))"
      ]
    },
    {
      "cell_type": "code",
      "execution_count": null,
      "metadata": {
        "_cell_guid": "cbf4e996-1f51-4425-b6df-4b9de6f770a2",
        "_uuid": "0b2f9923723647e67ce16310b30316ec8edc5bb2",
        "colab": {
          "base_uri": "https://localhost:8080/"
        },
        "id": "w5bHwKAlSk-j",
        "outputId": "6376f86d-8c76-4e23-c20a-de216e6becdb"
      },
      "outputs": [
        {
          "output_type": "stream",
          "name": "stdout",
          "text": [
            "count      356168.00\n",
            "mean       469624.51\n",
            "std       7679620.28\n",
            "min             7.50\n",
            "25%         67808.00\n",
            "50%         86278.00\n",
            "75%        104790.00\n",
            "max     495748000.00\n",
            "Name: pw_amount_9089, dtype: float64\n"
          ]
        }
      ],
      "source": [
        "#Since running \"describe\" method on \"pw_amount_9089\" column returned exponential values, I decided to\n",
        "#convert them to floats so that they are easier to understand\n",
        "with pd.option_context('float_format', '{:.2f}'.format): print(df.pw_amount_9089.describe())"
      ]
    },
    {
      "cell_type": "code",
      "execution_count": null,
      "metadata": {
        "_cell_guid": "66a71e92-b61c-491c-8b4c-1315e94390ba",
        "_uuid": "bcab941d284d2eeb2621ff3954d24778168e7506",
        "colab": {
          "base_uri": "https://localhost:8080/",
          "height": 429
        },
        "id": "DqH58UzoSk-j",
        "outputId": "3e70a95a-7be8-483f-a737-ea44918c6ef1"
      },
      "outputs": [
        {
          "output_type": "execute_result",
          "data": {
            "text/plain": [
              "remuneration\n",
              "0-30k        19810\n",
              "30-60k       47493\n",
              "60-90k      133050\n",
              "90-120k     112631\n",
              "120-150k     30532\n",
              "150-180k      7094\n",
              "180-210k      3801\n",
              "210-240k       604\n",
              "240-270k        29\n",
              "270k+         1123\n",
              "Name: count, dtype: int64"
            ],
            "text/html": [
              "<div>\n",
              "<style scoped>\n",
              "    .dataframe tbody tr th:only-of-type {\n",
              "        vertical-align: middle;\n",
              "    }\n",
              "\n",
              "    .dataframe tbody tr th {\n",
              "        vertical-align: top;\n",
              "    }\n",
              "\n",
              "    .dataframe thead th {\n",
              "        text-align: right;\n",
              "    }\n",
              "</style>\n",
              "<table border=\"1\" class=\"dataframe\">\n",
              "  <thead>\n",
              "    <tr style=\"text-align: right;\">\n",
              "      <th></th>\n",
              "      <th>count</th>\n",
              "    </tr>\n",
              "    <tr>\n",
              "      <th>remuneration</th>\n",
              "      <th></th>\n",
              "    </tr>\n",
              "  </thead>\n",
              "  <tbody>\n",
              "    <tr>\n",
              "      <th>0-30k</th>\n",
              "      <td>19810</td>\n",
              "    </tr>\n",
              "    <tr>\n",
              "      <th>30-60k</th>\n",
              "      <td>47493</td>\n",
              "    </tr>\n",
              "    <tr>\n",
              "      <th>60-90k</th>\n",
              "      <td>133050</td>\n",
              "    </tr>\n",
              "    <tr>\n",
              "      <th>90-120k</th>\n",
              "      <td>112631</td>\n",
              "    </tr>\n",
              "    <tr>\n",
              "      <th>120-150k</th>\n",
              "      <td>30532</td>\n",
              "    </tr>\n",
              "    <tr>\n",
              "      <th>150-180k</th>\n",
              "      <td>7094</td>\n",
              "    </tr>\n",
              "    <tr>\n",
              "      <th>180-210k</th>\n",
              "      <td>3801</td>\n",
              "    </tr>\n",
              "    <tr>\n",
              "      <th>210-240k</th>\n",
              "      <td>604</td>\n",
              "    </tr>\n",
              "    <tr>\n",
              "      <th>240-270k</th>\n",
              "      <td>29</td>\n",
              "    </tr>\n",
              "    <tr>\n",
              "      <th>270k+</th>\n",
              "      <td>1123</td>\n",
              "    </tr>\n",
              "  </tbody>\n",
              "</table>\n",
              "</div><br><label><b>dtype:</b> int64</label>"
            ]
          },
          "metadata": {},
          "execution_count": 29
        }
      ],
      "source": [
        "#Dividing our continuous income values into some categories to facilitate their visualization\n",
        "df['remuneration'] = pd.cut(df['pw_amount_9089'], [0, 30000, 60000,90000,120000,150000,180000,210000,240000,270000,495748000], right=False, labels=[\"0-30k\", \"30-60k\",\"60-90k\",\"90-120k\",\"120-150k\",\"150-180k\",\"180-210k\",\"210-240k\",\"240-270k\",\"270k+\"])\n",
        "salary = df['remuneration'].value_counts()\n",
        "salary.iloc[np.argsort(salary.index)]"
      ]
    },
    {
      "cell_type": "code",
      "execution_count": null,
      "metadata": {
        "_cell_guid": "93efe5d2-bc16-4e71-95ae-2675a2959f99",
        "_uuid": "a2305607abd610ea226db2d721b4f62322f57ac0",
        "colab": {
          "base_uri": "https://localhost:8080/",
          "height": 663
        },
        "id": "O3eQZ8wfSk-j",
        "outputId": "53078eaf-980b-4ec2-b753-1085e52282b4"
      },
      "outputs": [
        {
          "output_type": "stream",
          "name": "stderr",
          "text": [
            "<ipython-input-30-13595fe894a2>:3: FutureWarning: \n",
            "\n",
            "Passing `palette` without assigning `hue` is deprecated and will be removed in v0.14.0. Assign the `x` variable to `hue` and set `legend=False` for the same effect.\n",
            "\n",
            "  g = sns.catplot(x='remuneration', data=df, kind=\"count\",\n"
          ]
        },
        {
          "output_type": "execute_result",
          "data": {
            "text/plain": [
              "<seaborn.axisgrid.FacetGrid at 0x7b2d79c7f410>"
            ]
          },
          "metadata": {},
          "execution_count": 30
        },
        {
          "output_type": "display_data",
          "data": {
            "text/plain": [
              "<Figure size 1182.37x900 with 1 Axes>"
            ],
            "image/png": "[encoded data removed]"
          },
          "metadata": {}
        }
      ],
      "source": [
        "# Draw a count plot to show the distribution of remunerations\n",
        "# Using catplot instead of factorplot\n",
        "g = sns.catplot(x='remuneration', data=df, kind=\"count\",\n",
        "                palette=\"BuPu\", height=9, aspect=1.2)\n",
        "g.set(xlabel='Remuneration', ylabel='Number of applicants')"
      ]
    },
    {
      "cell_type": "markdown",
      "metadata": {
        "_cell_guid": "12429beb-b034-4f96-b52c-d04a1038221f",
        "_uuid": "1e67321477054465050ca3c82f50af7abc94aa1f",
        "id": "E_cCl-blSk-j"
      },
      "source": [
        "As we can see, over 65% of the applicants earn between 60 and 120 thousand dollars yearly.  From this moment, we will start working on the feature selection and data cleansing."
      ]
    },
    {
      "cell_type": "markdown",
      "metadata": {
        "_cell_guid": "036b8625-221b-4dce-9983-4bbdea7e31f8",
        "_uuid": "d318da0a2d46c45e0cb51a8b9b18183eec7dbb04",
        "id": "SBYRRHgTSk-j"
      },
      "source": [
        "## Feature selection and data cleansing"
      ]
    },
    {
      "cell_type": "code",
      "execution_count": null,
      "metadata": {
        "_cell_guid": "edfe9cd5-7bcd-4e83-861f-e2ab6325f51a",
        "_uuid": "907ea14ff1d209a5b8fd18131a9c316d010e6217",
        "colab": {
          "base_uri": "https://localhost:8080/"
        },
        "id": "kCQFh_vHSk-j",
        "outputId": "7af64c25-73ca-4f66-d75e-c94e3710e5a3"
      },
      "outputs": [
        {
          "output_type": "stream",
          "name": "stdout",
          "text": [
            "0 Column: 'add_these_pw_job_title_9089' contains  10.99 % non-null values\n",
            "1 Column: 'agent_city' contains  56.92 % non-null values\n",
            "2 Column: 'agent_firm_name' contains  55.74 % non-null values\n",
            "3 Column: 'agent_state' contains  56.05 % non-null values\n",
            "4 Column: 'application_type' contains  35.61 % non-null values\n",
            "5 Column: 'case_received_date' contains  64.39 % non-null values\n",
            "6 Column: 'case_status' contains  100.0 % non-null values\n",
            "7 Column: 'class_of_admission' contains  94.08 % non-null values\n",
            "8 Column: 'country_of_citizenship' contains  94.59 % non-null values\n",
            "9 Column: 'country_of_citzenship' contains  5.4 % non-null values\n",
            "10 Column: 'decision_date' contains  100.0 % non-null values\n",
            "11 Column: 'employer_address_1' contains  99.99 % non-null values\n",
            "12 Column: 'employer_address_2' contains  33.7 % non-null values\n",
            "13 Column: 'employer_city' contains  100.0 % non-null values\n",
            "14 Column: 'employer_country' contains  64.37 % non-null values\n",
            "15 Column: 'employer_decl_info_title' contains  64.37 % non-null values\n",
            "16 Column: 'employer_name' contains  100.0 % non-null values\n",
            "17 Column: 'employer_num_employees' contains  64.36 % non-null values\n",
            "18 Column: 'employer_phone' contains  64.38 % non-null values\n",
            "19 Column: 'employer_phone_ext' contains  6.32 % non-null values\n",
            "20 Column: 'employer_postal_code' contains  99.99 % non-null values\n",
            "21 Column: 'employer_state' contains  99.99 % non-null values\n",
            "22 Column: 'employer_yr_estab' contains  64.35 % non-null values\n",
            "23 Column: 'foreign_worker_info_alt_edu_experience' contains  23.66 % non-null values\n",
            "24 Column: 'foreign_worker_info_birth_country' contains  23.67 % non-null values\n",
            "25 Column: 'foreign_worker_info_city' contains  64.38 % non-null values\n",
            "26 Column: 'foreign_worker_info_education' contains  59.69 % non-null values\n",
            "27 Column: 'foreign_worker_info_education_other' contains  1.05 % non-null values\n",
            "28 Column: 'foreign_worker_info_inst' contains  59.6 % non-null values\n",
            "29 Column: 'foreign_worker_info_major' contains  59.35 % non-null values\n",
            "30 Column: 'foreign_worker_info_postal_code' contains  22.95 % non-null values\n",
            "31 Column: 'foreign_worker_info_rel_occup_exp' contains  23.67 % non-null values\n",
            "32 Column: 'foreign_worker_info_req_experience' contains  23.67 % non-null values\n",
            "33 Column: 'foreign_worker_info_state' contains  60.01 % non-null values\n",
            "34 Column: 'foreign_worker_info_training_comp' contains  23.67 % non-null values\n",
            "35 Column: 'foreign_worker_ownership_interest' contains  23.67 % non-null values\n",
            "36 Column: 'foreign_worker_yr_rel_edu_completed' contains  22.3 % non-null values\n",
            "37 Column: 'fw_info_alt_edu_experience' contains  40.72 % non-null values\n",
            "38 Column: 'fw_info_birth_country' contains  40.71 % non-null values\n",
            "39 Column: 'fw_info_education_other' contains  1.71 % non-null values\n",
            "40 Column: 'fw_info_postal_code' contains  40.12 % non-null values\n",
            "41 Column: 'fw_info_rel_occup_exp' contains  40.71 % non-null values\n",
            "42 Column: 'fw_info_req_experience' contains  40.72 % non-null values\n",
            "43 Column: 'fw_info_training_comp' contains  40.71 % non-null values\n",
            "44 Column: 'fw_info_yr_rel_edu_completed' contains  37.35 % non-null values\n",
            "45 Column: 'fw_ownership_interest' contains  40.72 % non-null values\n",
            "46 Column: 'ji_foreign_worker_live_on_premises' contains  23.67 % non-null values\n",
            "47 Column: 'ji_fw_live_on_premises' contains  40.72 % non-null values\n",
            "48 Column: 'ji_live_in_dom_svc_contract' contains  0.65 % non-null values\n",
            "49 Column: 'ji_live_in_domestic_service' contains  64.38 % non-null values\n",
            "50 Column: 'ji_offered_to_sec_j_foreign_worker' contains  23.67 % non-null values\n",
            "51 Column: 'ji_offered_to_sec_j_fw' contains  40.72 % non-null values\n",
            "52 Column: 'job_info_alt_cmb_ed_oth_yrs' contains  19.07 % non-null values\n",
            "53 Column: 'job_info_alt_combo_ed' contains  18.57 % non-null values\n",
            "54 Column: 'job_info_alt_combo_ed_exp' contains  64.38 % non-null values\n",
            "55 Column: 'job_info_alt_combo_ed_other' contains  2.52 % non-null values\n",
            "56 Column: 'job_info_alt_field' contains  64.38 % non-null values\n",
            "57 Column: 'job_info_alt_field_name' contains  25.34 % non-null values\n",
            "58 Column: 'job_info_alt_occ' contains  40.15 % non-null values\n",
            "59 Column: 'job_info_alt_occ_job_title' contains  39.96 % non-null values\n",
            "60 Column: 'job_info_alt_occ_num_months' contains  39.9 % non-null values\n",
            "61 Column: 'job_info_combo_occupation' contains  64.38 % non-null values\n",
            "62 Column: 'job_info_education' contains  58.55 % non-null values\n",
            "63 Column: 'job_info_education_other' contains  2.09 % non-null values\n",
            "64 Column: 'job_info_experience' contains  64.38 % non-null values\n",
            "65 Column: 'job_info_experience_num_months' contains  36.2 % non-null values\n",
            "66 Column: 'job_info_foreign_ed' contains  64.32 % non-null values\n",
            "67 Column: 'job_info_foreign_lang_req' contains  64.38 % non-null values\n",
            "68 Column: 'job_info_job_req_normal' contains  64.38 % non-null values\n",
            "69 Column: 'job_info_job_title' contains  64.37 % non-null values\n",
            "70 Column: 'job_info_major' contains  57.54 % non-null values\n",
            "71 Column: 'job_info_training' contains  64.38 % non-null values\n",
            "72 Column: 'job_info_training_field' contains  1.2 % non-null values\n",
            "73 Column: 'job_info_training_num_months' contains  1.28 % non-null values\n",
            "74 Column: 'job_info_work_city' contains  99.97 % non-null values\n",
            "75 Column: 'job_info_work_postal_code' contains  64.36 % non-null values\n",
            "76 Column: 'job_info_work_state' contains  99.97 % non-null values\n",
            "77 Column: 'naics_2007_us_code' contains  5.38 % non-null values\n",
            "78 Column: 'naics_2007_us_title' contains  5.21 % non-null values\n",
            "79 Column: 'naics_code' contains  23.61 % non-null values\n",
            "80 Column: 'naics_title' contains  23.61 % non-null values\n",
            "81 Column: 'naics_us_code' contains  40.63 % non-null values\n",
            "82 Column: 'naics_us_code_2007' contains  30.11 % non-null values\n",
            "83 Column: 'naics_us_title' contains  40.63 % non-null values\n",
            "84 Column: 'naics_us_title_2007' contains  29.28 % non-null values\n",
            "85 Column: 'orig_case_no' contains  0.08 % non-null values\n",
            "86 Column: 'orig_file_date' contains  0.07 % non-null values\n",
            "87 Column: 'preparer_info_emp_completed' contains  64.37 % non-null values\n",
            "88 Column: 'preparer_info_title' contains  56.59 % non-null values\n",
            "89 Column: 'pw_amount_9089' contains  100.0 % non-null values\n",
            "90 Column: 'pw_determ_date' contains  64.3 % non-null values\n",
            "91 Column: 'pw_expire_date' contains  64.28 % non-null values\n",
            "92 Column: 'pw_job_title_908' contains  40.7 % non-null values\n",
            "93 Column: 'pw_job_title_9089' contains  59.2 % non-null values\n",
            "94 Column: 'pw_level_9089' contains  92.54 % non-null values\n",
            "95 Column: 'pw_soc_code' contains  99.84 % non-null values\n",
            "96 Column: 'pw_soc_title' contains  99.35 % non-null values\n",
            "97 Column: 'pw_source_name_9089' contains  99.41 % non-null values\n",
            "98 Column: 'pw_source_name_other_9089' contains  4.28 % non-null values\n",
            "99 Column: 'pw_track_num' contains  63.87 % non-null values\n",
            "100 Column: 'pw_unit_of_pay_9089' contains  99.58 % non-null values\n",
            "101 Column: 'rec_info_barg_rep_notified' contains  23.65 % non-null values\n",
            "102 Column: 'recr_info_barg_rep_notified' contains  40.71 % non-null values\n",
            "103 Column: 'recr_info_coll_teach_comp_proc' contains  1.91 % non-null values\n",
            "104 Column: 'recr_info_coll_univ_teacher' contains  64.38 % non-null values\n",
            "105 Column: 'recr_info_employer_rec_payment' contains  64.38 % non-null values\n",
            "106 Column: 'recr_info_first_ad_start' contains  62.71 % non-null values\n",
            "107 Column: 'recr_info_job_fair_from' contains  0.48 % non-null values\n",
            "108 Column: 'recr_info_job_fair_to' contains  0.48 % non-null values\n",
            "109 Column: 'recr_info_on_campus_recr_from' contains  0.5 % non-null values\n",
            "110 Column: 'recr_info_on_campus_recr_to' contains  0.49 % non-null values\n",
            "111 Column: 'recr_info_pro_org_advert_from' contains  3.73 % non-null values\n",
            "112 Column: 'recr_info_pro_org_advert_to' contains  3.73 % non-null values\n",
            "113 Column: 'recr_info_prof_org_advert_from' contains  7.69 % non-null values\n",
            "114 Column: 'recr_info_prof_org_advert_to' contains  7.69 % non-null values\n",
            "115 Column: 'recr_info_professional_occ' contains  64.38 % non-null values\n",
            "116 Column: 'recr_info_radio_tv_ad_from' contains  5.48 % non-null values\n",
            "117 Column: 'recr_info_radio_tv_ad_to' contains  5.48 % non-null values\n",
            "118 Column: 'recr_info_second_ad_start' contains  62.7 % non-null values\n",
            "119 Column: 'recr_info_sunday_newspaper' contains  62.74 % non-null values\n",
            "120 Column: 'recr_info_swa_job_order_end' contains  62.7 % non-null values\n",
            "121 Column: 'recr_info_swa_job_order_start' contains  62.71 % non-null values\n",
            "122 Column: 'refile' contains  30.41 % non-null values\n",
            "123 Column: 'ri_1st_ad_newspaper_name' contains  62.72 % non-null values\n",
            "124 Column: 'ri_2nd_ad_newspaper_name' contains  62.7 % non-null values\n",
            "125 Column: 'ri_2nd_ad_newspaper_or_journal' contains  62.71 % non-null values\n",
            "126 Column: 'ri_campus_placement_from' contains  8.08 % non-null values\n",
            "127 Column: 'ri_campus_placement_to' contains  8.08 % non-null values\n",
            "128 Column: 'ri_coll_tch_basic_process' contains  1.91 % non-null values\n",
            "129 Column: 'ri_coll_teach_pro_jnl' contains  1.56 % non-null values\n",
            "130 Column: 'ri_coll_teach_select_date' contains  1.56 % non-null values\n",
            "131 Column: 'ri_employee_referral_prog_from' contains  18.62 % non-null values\n",
            "132 Column: 'ri_employee_referral_prog_to' contains  18.62 % non-null values\n",
            "133 Column: 'ri_employer_web_post_from' contains  37.03 % non-null values\n",
            "134 Column: 'ri_employer_web_post_to' contains  37.02 % non-null values\n",
            "135 Column: 'ri_job_search_website_from' contains  53.29 % non-null values\n",
            "136 Column: 'ri_job_search_website_to' contains  53.28 % non-null values\n",
            "137 Column: 'ri_layoff_in_past_six_months' contains  64.38 % non-null values\n",
            "138 Column: 'ri_local_ethnic_paper_from' contains  32.66 % non-null values\n",
            "139 Column: 'ri_local_ethnic_paper_to' contains  32.66 % non-null values\n",
            "140 Column: 'ri_posted_notice_at_worksite' contains  64.36 % non-null values\n",
            "141 Column: 'ri_pvt_employment_firm_from' contains  4.53 % non-null values\n",
            "142 Column: 'ri_pvt_employment_firm_to' contains  4.52 % non-null values\n",
            "143 Column: 'ri_us_workers_considered' contains  4.65 % non-null values\n",
            "144 Column: 'schd_a_sheepherder' contains  64.38 % non-null values\n",
            "145 Column: 'us_economic_sector' contains  33.94 % non-null values\n",
            "146 Column: 'wage_offer_from_9089' contains  69.76 % non-null values\n",
            "147 Column: 'wage_offer_to_9089' contains  19.87 % non-null values\n",
            "148 Column: 'wage_offer_unit_of_pay_9089' contains  69.46 % non-null values\n",
            "149 Column: 'wage_offered_from_9089' contains  30.21 % non-null values\n",
            "150 Column: 'wage_offered_to_9089' contains  8.23 % non-null values\n",
            "151 Column: 'wage_offered_unit_of_pay_9089' contains  18.73 % non-null values\n",
            "152 Column: 'casenumber' contains  100.0 % non-null values\n",
            "153 Column: 'year' contains  100.0 % non-null values\n",
            "154 Column: 'remuneration' contains  100.0 % non-null values\n"
          ]
        }
      ],
      "source": [
        "#Displaying percentage of non-null values for each feature\n",
        "i = 0;\n",
        "for col in df.columns:\n",
        "    i = i+1;\n",
        "    print (i-1,\"Column: '{}'\".format(col),\"contains \", np.round(100*df[col].count()/len(df['case_status']),decimals=2),\"% non-null values\" )"
      ]
    },
    {
      "cell_type": "code",
      "execution_count": null,
      "metadata": {
        "_cell_guid": "dad63284-ff68-448e-923b-be4d0b25613b",
        "_uuid": "916d73fba9d829fa476d4c5df2156bf83812cff4",
        "colab": {
          "base_uri": "https://localhost:8080/"
        },
        "id": "ek0I7UrUSk-j",
        "outputId": "be201fce-cdeb-4d3d-9ab1-feab390fda81"
      },
      "outputs": [
        {
          "output_type": "stream",
          "name": "stdout",
          "text": [
            "<class 'pandas.core.frame.DataFrame'>\n",
            "Index: 356168 entries, 0 to 374353\n",
            "Data columns (total 19 columns):\n",
            " #   Column                  Non-Null Count   Dtype         \n",
            "---  ------                  --------------   -----         \n",
            " 0   case_status             356168 non-null  object        \n",
            " 1   class_of_admission      335083 non-null  object        \n",
            " 2   country_of_citizenship  336896 non-null  object        \n",
            " 3   decision_date           356168 non-null  datetime64[ns]\n",
            " 4   employer_address_1      356131 non-null  object        \n",
            " 5   employer_city           356158 non-null  object        \n",
            " 6   employer_name           356160 non-null  object        \n",
            " 7   employer_postal_code    356135 non-null  object        \n",
            " 8   employer_state          356131 non-null  object        \n",
            " 9   job_info_work_city      356073 non-null  object        \n",
            " 10  job_info_work_state     356072 non-null  object        \n",
            " 11  pw_amount_9089          356168 non-null  float64       \n",
            " 12  pw_soc_code             355594 non-null  object        \n",
            " 13  pw_soc_title            353847 non-null  object        \n",
            " 14  pw_source_name_9089     354081 non-null  object        \n",
            " 15  pw_unit_of_pay_9089     354687 non-null  object        \n",
            " 16  casenumber              356168 non-null  object        \n",
            " 17  year                    356168 non-null  int32         \n",
            " 18  remuneration            356167 non-null  category      \n",
            "dtypes: category(1), datetime64[ns](1), float64(1), int32(1), object(15)\n",
            "memory usage: 50.6+ MB\n"
          ]
        }
      ],
      "source": [
        "#Leaving columns which have more than 330000 non-missing observations\n",
        "df = df.loc[:,df.count() >= 330000]\n",
        "df.info()"
      ]
    },
    {
      "cell_type": "markdown",
      "metadata": {
        "_cell_guid": "dc201155-a96d-4742-a57c-47a686f14595",
        "_uuid": "01efd899916da67cdc857038267e81b8676f4edf",
        "id": "6QVd8_oESk-j"
      },
      "source": [
        "Since our dataset consists of 19 attributes which have less than 12% of missing values , we will choose some of them for further analysis and perform imputations."
      ]
    },
    {
      "cell_type": "code",
      "execution_count": null,
      "metadata": {
        "_cell_guid": "e6edc1f8-553c-4a06-b3e0-2dad8720efda",
        "_uuid": "105d887a8baf0180274f585ccce173e54a00c57a",
        "collapsed": true,
        "id": "MJ-PL9jjSk-j"
      },
      "outputs": [],
      "source": [
        "#Indices of selected features\n",
        "chosen_attrs = [0,1,2,5,6,8,12,14,17,18]\n",
        "df = df.iloc[:,chosen_attrs]"
      ]
    },
    {
      "cell_type": "code",
      "execution_count": null,
      "metadata": {
        "_cell_guid": "d7b5d579-6507-4110-953c-18539e39f1a2",
        "_uuid": "d34ee5d1960acf930efd6814067dc26c2b14b2f3",
        "collapsed": true,
        "colab": {
          "base_uri": "https://localhost:8080/"
        },
        "id": "4r-N_0RmSk-j",
        "outputId": "09c32a00-3b61-4b69-b857-f20cc684f73c"
      },
      "outputs": [
        {
          "output_type": "stream",
          "name": "stderr",
          "text": [
            "<ipython-input-34-73bea901421a>:69: FutureWarning: A value is trying to be set on a copy of a DataFrame or Series through chained assignment using an inplace method.\n",
            "The behavior will change in pandas 3.0. This inplace method will never work because the intermediate object on which we are setting values always behaves as a copy.\n",
            "\n",
            "For example, when doing 'df[col].method(value, inplace=True)', try using 'df.method({col: value}, inplace=True)' or df[col] = df[col].method(value) instead, to perform the operation inplace on the original object.\n",
            "\n",
            "\n",
            "  df['employer_state'].replace(us_state_abbrev, inplace=True)\n"
          ]
        }
      ],
      "source": [
        "#Assigning Labels to Case Status\n",
        "df.loc[df.case_status == 'Certified', 'case_status'] = 1\n",
        "df.loc[df.case_status == 'Denied', 'case_status'] = 0\n",
        "\n",
        "#Filling missing values in \"employer_state\" column with mode\n",
        "df['employer_state'] = df['employer_state'].fillna(df['employer_state'].mode()[0]);\n",
        "\n",
        "#Mapping from state name to abbreviation\n",
        "state_abbrevs = {\n",
        "    'Alabama': 'AL',\n",
        "    'Alaska': 'AK',\n",
        "    'Arizona': 'AZ',\n",
        "    'Arkansas': 'AR',\n",
        "    'California': 'CA',\n",
        "    'Colorado': 'CO',\n",
        "    'Connecticut': 'CT',\n",
        "    'Delaware': 'DE',\n",
        "    'Florida': 'FL',\n",
        "    'Georgia': 'GA',\n",
        "    'Hawaii': 'HI',\n",
        "    'Idaho': 'ID',\n",
        "    'Illinois': 'IL',\n",
        "    'Indiana': 'IN',\n",
        "    'Iowa': 'IA',\n",
        "    'Kansas': 'KS',\n",
        "    'Kentucky': 'KY',\n",
        "    'Louisiana': 'LA',\n",
        "    'Maine': 'ME',\n",
        "    'Maryland': 'MD',\n",
        "    'Massachusetts': 'MA',\n",
        "    'Michigan': 'MI',\n",
        "    'Minnesota': 'MN',\n",
        "    'Mississippi': 'MS',\n",
        "    'Missouri': 'MO',\n",
        "    'Montana': 'MT',\n",
        "    'Nebraska': 'NE',\n",
        "    'Nevada': 'NV',\n",
        "    'New Hampshire': 'NH',\n",
        "    'New Jersey': 'NJ',\n",
        "    'New Mexico': 'NM',\n",
        "    'New York': 'NY',\n",
        "    'North Carolina': 'NC',\n",
        "    'North Dakota': 'ND',\n",
        "    'Ohio': 'OH',\n",
        "    'Oklahoma': 'OK',\n",
        "    'Oregon': 'OR',\n",
        "    'Pennsylvania': 'PA',\n",
        "    'Rhode Island': 'RI',\n",
        "    'South Carolina': 'SC',\n",
        "    'South Dakota': 'SD',\n",
        "    'Tennessee': 'TN',\n",
        "    'Texas': 'TX',\n",
        "    'Utah': 'UT',\n",
        "    'Vermont': 'VT',\n",
        "    'Virginia': 'VA',\n",
        "    'Washington': 'WA',\n",
        "    'West Virginia': 'WV',\n",
        "    'Wisconsin': 'WI',\n",
        "    'Wyoming': 'WY',\n",
        "    'Northern Mariana Islands':'MP',\n",
        "    'Palau': 'PW',\n",
        "    'Puerto Rico': 'PR',\n",
        "    'Virgin Islands': 'VI',\n",
        "    'District of Columbia': 'DC'\n",
        "}\n",
        "\n",
        "#Capitalizing Keys\n",
        "us_state_abbrev = {k.upper(): v for k, v in state_abbrevs.items()}\n",
        "df['employer_state'].replace(us_state_abbrev, inplace=True)\n",
        "df.employer_state = df.employer_state.astype(str)"
      ]
    },
    {
      "cell_type": "code",
      "execution_count": null,
      "metadata": {
        "_cell_guid": "5ca45544-531d-41bc-828e-8db2c5d7309b",
        "_uuid": "29471b2cfa236a7f5ed5b1aad740c421f4772f0c",
        "collapsed": true,
        "id": "4JIoorzvSk-j"
      },
      "outputs": [],
      "source": [
        "df['pw_soc_code'] = df['pw_soc_code'].str.replace('.','')\n",
        "df['pw_soc_code'] = df['pw_soc_code'].str.replace('-','')\n",
        "df['pw_soc_code'] = df['pw_soc_code'].astype(str).str[0:6]\n",
        "df['pw_soc_code'].value_counts()\n",
        "\n",
        "#Finding \"nan\" values in \"pw_soc_code\" column and filling them with mode\n",
        "df.loc[df['pw_soc_code'] == \"nan\",'pw_soc_code'] = df['pw_soc_code'].mode()[0]\n",
        "\n",
        "#Finding \"None\" values in \"pw_soc_code\" column and filling them with mode\n",
        "df.loc[df['pw_soc_code'] == \"None\",'pw_soc_code'] = df['pw_soc_code'].mode()[0]\n",
        "\n",
        "#Changing type from string to int\n",
        "df['pw_soc_code'] = df['pw_soc_code'].astype(int)\n",
        "df['case_status'] = df['case_status'].astype(int)"
      ]
    },
    {
      "cell_type": "code",
      "execution_count": null,
      "metadata": {
        "_cell_guid": "438da8f4-a22d-4717-b841-02d0f9279eae",
        "_uuid": "184c2c7695270b08e93901e734e5daa2c5f0baf7",
        "collapsed": true,
        "id": "wIrceYGqSk-j"
      },
      "outputs": [],
      "source": [
        "#Replacing missing values with mode\n",
        "df['class_of_admission']=df['class_of_admission'].fillna((df['class_of_admission'].mode()[0]))\n",
        "df['country_of_citizenship']=df['country_of_citizenship'].fillna((df['country_of_citizenship'].mode()[0]))\n",
        "df['employer_city']=df['employer_city'].fillna((df['employer_city'].mode()[0]))\n",
        "df['employer_name']=df['employer_name'].fillna((df['employer_name'].mode()[0]))\n",
        "df['employer_name']=df['employer_name'].astype(str).str.upper()\n",
        "df['pw_source_name_9089']=df['pw_source_name_9089'].fillna((df['pw_source_name_9089'].mode()[0]))\n",
        "df['remuneration']=df['remuneration'].fillna((df['remuneration'].mode()[0]))\n"
      ]
    },
    {
      "cell_type": "code",
      "execution_count": null,
      "metadata": {
        "_cell_guid": "ba4f5e4f-007e-4c1f-b434-266ac40d0b52",
        "_uuid": "41255e6b18fb2d3a2ac982572f03820decd95562",
        "colab": {
          "base_uri": "https://localhost:8080/"
        },
        "id": "Y_uS1LeJSk-j",
        "outputId": "066f5c1f-cd9d-422c-adfd-4d5e02f820dc"
      },
      "outputs": [
        {
          "output_type": "stream",
          "name": "stdout",
          "text": [
            "<class 'pandas.core.frame.DataFrame'>\n",
            "Index: 356168 entries, 0 to 374353\n",
            "Data columns (total 10 columns):\n",
            " #   Column                  Non-Null Count   Dtype   \n",
            "---  ------                  --------------   -----   \n",
            " 0   case_status             356168 non-null  int64   \n",
            " 1   class_of_admission      356168 non-null  object  \n",
            " 2   country_of_citizenship  356168 non-null  object  \n",
            " 3   employer_city           356168 non-null  object  \n",
            " 4   employer_name           356168 non-null  object  \n",
            " 5   employer_state          356168 non-null  object  \n",
            " 6   pw_soc_code             356168 non-null  int64   \n",
            " 7   pw_source_name_9089     356168 non-null  object  \n",
            " 8   year                    356168 non-null  int32   \n",
            " 9   remuneration            356168 non-null  category\n",
            "dtypes: category(1), int32(1), int64(2), object(6)\n",
            "memory usage: 26.2+ MB\n"
          ]
        }
      ],
      "source": [
        "df.info()"
      ]
    },
    {
      "cell_type": "markdown",
      "metadata": {
        "_cell_guid": "4d04fd41-d84b-452b-b81f-92cde4a99242",
        "_uuid": "e22f9b97556c4a66874d251f61b1b52df0f62f28",
        "id": "qdYx-7hxSk-j"
      },
      "source": [
        "## Data type conversion"
      ]
    },
    {
      "cell_type": "markdown",
      "metadata": {
        "_cell_guid": "5e1c8566-6a8c-4c0e-abf0-5ba45026e685",
        "_uuid": "4a3816af535da733df82802c75c532edc33cc34b",
        "id": "vjywODvgSk-k"
      },
      "source": [
        "In this step we're going to turn our feature variables into categories."
      ]
    },
    {
      "cell_type": "code",
      "execution_count": null,
      "metadata": {
        "_cell_guid": "66202c79-140b-4e1a-8898-b2758b653803",
        "_uuid": "3a4ea1024b5fac7bef5a699f41e7df9b46f44ae2",
        "colab": {
          "base_uri": "https://localhost:8080/"
        },
        "id": "FHn_-Tj0Sk-k",
        "outputId": "5e00394b-740b-48c4-a6a4-10664b7f7e95"
      },
      "outputs": [
        {
          "output_type": "stream",
          "name": "stdout",
          "text": [
            "<class 'pandas.core.frame.DataFrame'>\n",
            "Index: 356168 entries, 0 to 374353\n",
            "Data columns (total 10 columns):\n",
            " #   Column                  Non-Null Count   Dtype\n",
            "---  ------                  --------------   -----\n",
            " 0   case_status             356168 non-null  int64\n",
            " 1   class_of_admission      356168 non-null  int64\n",
            " 2   country_of_citizenship  356168 non-null  int64\n",
            " 3   employer_city           356168 non-null  int64\n",
            " 4   employer_name           356168 non-null  int64\n",
            " 5   employer_state          356168 non-null  int64\n",
            " 6   pw_soc_code             356168 non-null  int64\n",
            " 7   pw_source_name_9089     356168 non-null  int64\n",
            " 8   year                    356168 non-null  int64\n",
            " 9   remuneration            356168 non-null  int64\n",
            "dtypes: int64(10)\n",
            "memory usage: 29.9 MB\n"
          ]
        }
      ],
      "source": [
        "from sklearn.preprocessing import LabelEncoder\n",
        "categorical_variables = {}\n",
        "\n",
        "#Creating categories denoted by integers from column values\n",
        "for col in df.columns:\n",
        "    cat_var_name = \"cat_\"+ col\n",
        "    cat_var_name = LabelEncoder()\n",
        "    cat_var_name.fit(df[col])\n",
        "    df[col] = cat_var_name.transform(df[col])\n",
        "    categorical_variables[col] = cat_var_name\n",
        "\n",
        "df.info()"
      ]
    },
    {
      "cell_type": "markdown",
      "metadata": {
        "_cell_guid": "f85cb77b-8472-49fc-bf8c-02879951c785",
        "_uuid": "fe1137556c4b5ce29a68eea11157fdea2cae17ae",
        "id": "_uRp9N8dSk-k"
      },
      "source": [
        "# Applying Machine Learning algorithms"
      ]
    },
    {
      "cell_type": "markdown",
      "metadata": {
        "_cell_guid": "826112a5-903f-4cc9-bc7d-59cd227e73d8",
        "_uuid": "7d5b5a780bbb89e9ad134eee4d73937d57f92e06",
        "id": "S6-wc_KnSk-k"
      },
      "source": [
        "First thing we're going to do in this part of our analysis will be dividing our final dataset into 2 dataframes. First one will consist of feature variables and the second one only of our target variable - case_status. Afterward we will\n",
        "use GridSearch object with cross-validation to find the best parameters for Logistic Regression, k-Nearest Neighbor, Random Forest and Gradient Boosting Classifiers and evaluate how well they will generalize. Cross validation will split the data repeatedly using Stratified K-Folds cross-validator and train multiple models."
      ]
    },
    {
      "cell_type": "code",
      "execution_count": null,
      "metadata": {
        "_cell_guid": "f199063d-1578-425b-a282-c5e42d986a19",
        "_uuid": "41b61502a4a5209954cfc5a09b1f9467f49e3c11",
        "colab": {
          "base_uri": "https://localhost:8080/"
        },
        "id": "80hi3xrcSk-k",
        "outputId": "451db6b8-2df4-448e-eaec-992d3fc27997"
      },
      "outputs": [
        {
          "output_type": "stream",
          "name": "stdout",
          "text": [
            "The shape of X is: (356168, 9)\n",
            "The shape of y is: (356168,)\n"
          ]
        }
      ],
      "source": [
        "#Dividing our final dataset into features(explanatory variables) and labels(target variable)\n",
        "#!!!!\n",
        "#Take initial\n",
        "\n",
        "#df.add_column[\"fraud\"]\n",
        "#df.set all the rows in original data frame to 0 for honest applications\n",
        "#GAN logic generated rows for data frame\n",
        "#GAN_df add_column(fraud )\n",
        "#set all the rows in GAN df to 1\n",
        "#x=df.loc[:, df.columns != \"fraud\"]\n",
        "#y=df.loc[] fraud\n",
        "#loss function, plot\n",
        "#350,000 evenly split data between honest and lie\n",
        "#360,000 rows,\n",
        "X = df.loc[:, df.columns != 'case_status']\n",
        "y = df.case_status\n",
        "\n",
        "print(\"The shape of X is: {}\".format(X.shape))\n",
        "print(\"The shape of y is: {}\".format(y.shape))"
      ]
    },
    {
      "cell_type": "markdown",
      "metadata": {
        "_cell_guid": "6dccffd1-4aac-452b-ac6b-677dfd96e054",
        "_uuid": "ef19a7ad238fcdd9b4202278b9450e6457e13c39",
        "id": "Y-mEcazQSk-k"
      },
      "source": [
        "## Logistic Regression"
      ]
    },
    {
      "cell_type": "code",
      "execution_count": null,
      "metadata": {
        "_cell_guid": "69c6cfbe-0021-4d3c-ae0b-fcfc3d38e019",
        "_uuid": "feb7debca43a9ccd1f7ea78ea77251fffc478e0a",
        "id": "U9rTvOe0Sk-k"
      },
      "outputs": [],
      "source": [
        "#Importing Logistic Regression Classifier, GridSearchCV, train_test_split and accuracy metrics from sklearn\n",
        "from sklearn.linear_model import LogisticRegression\n",
        "from sklearn.model_selection import GridSearchCV\n",
        "from sklearn.model_selection import train_test_split\n",
        "from sklearn.metrics import precision_score, recall_score, f1_score, confusion_matrix\n",
        "\n",
        "#Defining fit_algorithm function\n",
        "def fit_algorithm(alg, X, y, parameters, cv = 5):\n",
        "    \"\"\"\n",
        "    This function will split our dataset into training and testing subsets, fit cross-validated\n",
        "    GridSearch object, test it on the holdout set and return some statistics\n",
        "    \"\"\"\n",
        "    #instead of certified or denied, train on fraudulent/not fraudulent\n",
        "    X_train, X_test, y_train, y_test = train_test_split(X, y, random_state = 123)\n",
        "    grid = GridSearchCV(alg, parameters, cv = cv)\n",
        "    grid.fit(X_train, y_train)\n",
        "    y_pred = grid.predict(X_test)\n",
        "    confmat = confusion_matrix(y_test,y_pred)\n",
        "\n",
        "    return pd.Series({\n",
        "        \"Train_ACC\": np.around(grid.best_score_, decimals=2).astype(str),\n",
        "        \"Test_ACC\": np.around(grid.score(X_test, y_test), decimals=2).astype(str),\n",
        "        \"P\": np.around(precision_score(y_pred, y_test), decimals=2).astype(str),\n",
        "        \"R\": np.around(recall_score(y_pred, y_test),decimals=2).astype(str),\n",
        "        \"F1\": np.around(f1_score(y_pred, y_test),decimals=2).astype(str),\n",
        "        \"Best_params\": [grid.best_params_],\n",
        "        \"True negatives\": confmat[0,0],\n",
        "        \"False negatives\": confmat[1,0],\n",
        "        \"True positives\": confmat[1,1],\n",
        "        \"False positives\": confmat[0,1]\n",
        "        })"
      ]
    },
    {
      "cell_type": "code",
      "execution_count": null,
      "metadata": {
        "id": "-RAZyKUdSk-k",
        "outputId": "166eb830-9e58-4dfd-da9f-7f8797c1fc94"
      },
      "outputs": [
        {
          "data": {
            "text/plain": [
              "Best_params        [{'C': 1}]\n",
              "F1                       0.96\n",
              "False negatives            36\n",
              "False positives          6357\n",
              "P                         1.0\n",
              "R                        0.93\n",
              "Test_ACC                 0.93\n",
              "Train_ACC                0.93\n",
              "True negatives             30\n",
              "True positives          82619\n",
              "dtype: object"
            ]
          },
          "execution_count": 41,
          "metadata": {},
          "output_type": "execute_result"
        }
      ],
      "source": [
        "#To perform hyper parameter optimisation a list of multiple elements will be entered and the optimal\n",
        "#value in that list will be picked using Grid Search object\n",
        "logreg_params = {'C': [0.001, 0.01, 0.1, 1, 10, 100] }\n",
        "\n",
        "logreg = fit_algorithm(LogisticRegression(),X,y,logreg_params)\n",
        "logreg"
      ]
    },
    {
      "cell_type": "markdown",
      "metadata": {
        "_cell_guid": "0dcb7aff-23b1-4d79-9a07-087a6f8babe3",
        "_uuid": "82886a163108bd0f9a065684dd462f68ca3c99de",
        "id": "RqlB4jkSSk-k"
      },
      "source": [
        "As we can see, the Logistic Regression Classifier results in 93% accuracy on both training and testing datasets which is quite a good score. This result was achieved using default \"liblinear\" solver algorithm and L2 regularization with C parameter = 1.  Now, let's assess the effectiveness of k-Nearest Neighbors algorithm."
      ]
    },
    {
      "cell_type": "markdown",
      "metadata": {
        "_cell_guid": "29524708-9f98-4c67-bab6-cc6e8e1288fc",
        "_uuid": "4dbaf5f5a9953e43d3b99c4f5a8b05f466c27e7d",
        "id": "qRYl4GvqSk-k"
      },
      "source": [
        "## k-Nearest Neighbors"
      ]
    },
    {
      "cell_type": "code",
      "execution_count": null,
      "metadata": {
        "_cell_guid": "2e3a3afc-0fcd-4678-9a85-439ecdd3dc75",
        "_uuid": "0234a3c72841e1dcc4a3356f55741c6d159d5a9a",
        "colab": {
          "base_uri": "https://localhost:8080/",
          "height": 398
        },
        "id": "YsfDVYIPSk-k",
        "outputId": "870d1619-e269-4d91-aef0-1a5ae44fb97c"
      },
      "outputs": [
        {
          "output_type": "execute_result",
          "data": {
            "text/plain": [
              "Train_ACC                          0.93\n",
              "Test_ACC                           0.93\n",
              "P                                  0.99\n",
              "R                                  0.94\n",
              "F1                                 0.96\n",
              "Best_params        [{'n_neighbors': 9}]\n",
              "True negatives                      927\n",
              "False negatives                     590\n",
              "True positives                    82065\n",
              "False positives                    5460\n",
              "dtype: object"
            ],
            "text/html": [
              "<div>\n",
              "<style scoped>\n",
              "    .dataframe tbody tr th:only-of-type {\n",
              "        vertical-align: middle;\n",
              "    }\n",
              "\n",
              "    .dataframe tbody tr th {\n",
              "        vertical-align: top;\n",
              "    }\n",
              "\n",
              "    .dataframe thead th {\n",
              "        text-align: right;\n",
              "    }\n",
              "</style>\n",
              "<table border=\"1\" class=\"dataframe\">\n",
              "  <thead>\n",
              "    <tr style=\"text-align: right;\">\n",
              "      <th></th>\n",
              "      <th>0</th>\n",
              "    </tr>\n",
              "  </thead>\n",
              "  <tbody>\n",
              "    <tr>\n",
              "      <th>Train_ACC</th>\n",
              "      <td>0.93</td>\n",
              "    </tr>\n",
              "    <tr>\n",
              "      <th>Test_ACC</th>\n",
              "      <td>0.93</td>\n",
              "    </tr>\n",
              "    <tr>\n",
              "      <th>P</th>\n",
              "      <td>0.99</td>\n",
              "    </tr>\n",
              "    <tr>\n",
              "      <th>R</th>\n",
              "      <td>0.94</td>\n",
              "    </tr>\n",
              "    <tr>\n",
              "      <th>F1</th>\n",
              "      <td>0.96</td>\n",
              "    </tr>\n",
              "    <tr>\n",
              "      <th>Best_params</th>\n",
              "      <td>[{'n_neighbors': 9}]</td>\n",
              "    </tr>\n",
              "    <tr>\n",
              "      <th>True negatives</th>\n",
              "      <td>927</td>\n",
              "    </tr>\n",
              "    <tr>\n",
              "      <th>False negatives</th>\n",
              "      <td>590</td>\n",
              "    </tr>\n",
              "    <tr>\n",
              "      <th>True positives</th>\n",
              "      <td>82065</td>\n",
              "    </tr>\n",
              "    <tr>\n",
              "      <th>False positives</th>\n",
              "      <td>5460</td>\n",
              "    </tr>\n",
              "  </tbody>\n",
              "</table>\n",
              "</div><br><label><b>dtype:</b> object</label>"
            ]
          },
          "metadata": {},
          "execution_count": 43
        }
      ],
      "source": [
        "#Importing k-Nearest Neighbors Classifier\n",
        "from sklearn.neighbors import KNeighborsClassifier\n",
        "\n",
        "#Defining range of parameters for kNN Clssifier\n",
        "knn_params = {'n_neighbors': np.arange(1,11).tolist()}\n",
        "\n",
        "#Using \"fit_algorithm\" function with kNN Classifier\n",
        "knn = fit_algorithm(KNeighborsClassifier(),X,y,knn_params)\n",
        "knn"
      ]
    },
    {
      "cell_type": "markdown",
      "metadata": {
        "_cell_guid": "db9b07e3-ea57-457a-aa11-b83c847b0b0e",
        "_uuid": "da2e16ca889d2e71a7a7d8c79ea2236332313d65",
        "id": "WkLGELf2Sk-k"
      },
      "source": [
        "Interestingly, the k-Nearest Neighbors Classifier achieved the same accuracy score as the Logistic Regression Classifier. Even accuracy is the same, there are slight differences in Precision, Recall, True Positive, True Negative, False Positive and False Negative values. Now, let's check, how precise the Random Forest Classifier can be."
      ]
    },
    {
      "cell_type": "markdown",
      "metadata": {
        "_cell_guid": "e818fa28-5520-4b05-a57e-b53284f7c240",
        "_uuid": "1fc1e61e25f921be60b3648c118e9a6cb7efd2ba",
        "id": "6siOtfkSSk-k"
      },
      "source": [
        "## Random Forests"
      ]
    },
    {
      "cell_type": "code",
      "execution_count": null,
      "metadata": {
        "_cell_guid": "fb8ed8ff-3ce1-4ba7-b0b1-8816a3b438a5",
        "_uuid": "d6f87030be1a843358ec2aa86d1b65a18d5258fe",
        "id": "NhPSkU36Sk-k",
        "outputId": "4f083860-d958-48d6-da2b-b3d93dcd3718"
      },
      "outputs": [
        {
          "data": {
            "text/plain": [
              "Best_params        [{'max_depth': 20, 'max_features': 4, 'n_estim...\n",
              "F1                                                              0.97\n",
              "False negatives                                                  513\n",
              "False positives                                                 4954\n",
              "P                                                               0.99\n",
              "R                                                               0.94\n",
              "Test_ACC                                                        0.94\n",
              "Train_ACC                                                       0.94\n",
              "True negatives                                                  1433\n",
              "True positives                                                 82142\n",
              "dtype: object"
            ]
          },
          "execution_count": 43,
          "metadata": {},
          "output_type": "execute_result"
        }
      ],
      "source": [
        "#Defining range of parameters for Random Forest Classifier\n",
        "forest_params = {'n_estimators': [10,20,30,40,50],\n",
        "     'max_depth': [15,20,25,30],\n",
        "     'max_features': [2,3,4],\n",
        "     'random_state': [123],\n",
        "     'n_jobs': [-1]\n",
        "    }\n",
        "\n",
        "# #Importing RandomForestClassifier from sklearn\n",
        "from sklearn.ensemble import RandomForestClassifier\n",
        "\n",
        "forest = fit_algorithm(RandomForestClassifier(),X,y, forest_params)\n",
        "forest"
      ]
    },
    {
      "cell_type": "markdown",
      "metadata": {
        "_cell_guid": "42374cb5-9c90-4d07-95e5-159606dd5212",
        "_uuid": "cf5def4c4232d1155e8316f65721706e292829cd",
        "collapsed": true,
        "id": "eNCHiE9gSk-k"
      },
      "source": [
        "As we can see, the Random Forest Classifier achieved the accuracy of 94% which is 1% better than Logistic Regression and k-Nearest Neighbors Classifiers. The distribution of True Positives, True Negatives, False Positives and False Negatives is also different. We could try to build more precise model by adjusting the hyperparameters, but we should bear in mind that this is very computationally expensive. In my case, I tried supplying the above Random Forest Classifier with more hyperparameter values, but the Kernel has been killed multiple times so I had to narrow down their number. As the last ML algorithm, we will try Gradient Boosted Machines which are another ensemble method implemented in scikit-learn. The main idea behind this algorithm is to combine multiple decision trees which in contrast to these used in Random Forest classifier are working in a serial manner, where each tree tries to correct the mistakes of the previous one.  "
      ]
    },
    {
      "cell_type": "markdown",
      "metadata": {
        "_cell_guid": "84a040b0-7203-4aa3-8ef3-0d57e4c92167",
        "_uuid": "cd75dd8b0271ff7208e564a8c39149b67ae9f9f9",
        "id": "Nq9zjwzSSk-k"
      },
      "source": [
        "## Gradient Boosted Regression Trees (Gradient Boosting Machines)"
      ]
    },
    {
      "cell_type": "code",
      "execution_count": null,
      "metadata": {
        "_cell_guid": "c00f161d-0415-4ae1-9660-7b211c447105",
        "_uuid": "086e81019ba8e7c6b9c63e24c057e94ba878e1f1",
        "colab": {
          "base_uri": "https://localhost:8080/",
          "height": 398
        },
        "id": "71xwXgwbSk-k",
        "outputId": "516183aa-bf56-4566-8d65-02a1c6a20e71"
      },
      "outputs": [
        {
          "output_type": "execute_result",
          "data": {
            "text/plain": [
              "Train_ACC                                                       0.93\n",
              "Test_ACC                                                        0.93\n",
              "P                                                                1.0\n",
              "R                                                               0.93\n",
              "F1                                                              0.96\n",
              "Best_params        [{'learning_rate': 0.1, 'max_depth': 3, 'n_est...\n",
              "True negatives                                                   381\n",
              "False negatives                                                  233\n",
              "True positives                                                 82422\n",
              "False positives                                                 6006\n",
              "dtype: object"
            ],
            "text/html": [
              "<div>\n",
              "<style scoped>\n",
              "    .dataframe tbody tr th:only-of-type {\n",
              "        vertical-align: middle;\n",
              "    }\n",
              "\n",
              "    .dataframe tbody tr th {\n",
              "        vertical-align: top;\n",
              "    }\n",
              "\n",
              "    .dataframe thead th {\n",
              "        text-align: right;\n",
              "    }\n",
              "</style>\n",
              "<table border=\"1\" class=\"dataframe\">\n",
              "  <thead>\n",
              "    <tr style=\"text-align: right;\">\n",
              "      <th></th>\n",
              "      <th>0</th>\n",
              "    </tr>\n",
              "  </thead>\n",
              "  <tbody>\n",
              "    <tr>\n",
              "      <th>Train_ACC</th>\n",
              "      <td>0.93</td>\n",
              "    </tr>\n",
              "    <tr>\n",
              "      <th>Test_ACC</th>\n",
              "      <td>0.93</td>\n",
              "    </tr>\n",
              "    <tr>\n",
              "      <th>P</th>\n",
              "      <td>1.0</td>\n",
              "    </tr>\n",
              "    <tr>\n",
              "      <th>R</th>\n",
              "      <td>0.93</td>\n",
              "    </tr>\n",
              "    <tr>\n",
              "      <th>F1</th>\n",
              "      <td>0.96</td>\n",
              "    </tr>\n",
              "    <tr>\n",
              "      <th>Best_params</th>\n",
              "      <td>[{'learning_rate': 0.1, 'max_depth': 3, 'n_est...</td>\n",
              "    </tr>\n",
              "    <tr>\n",
              "      <th>True negatives</th>\n",
              "      <td>381</td>\n",
              "    </tr>\n",
              "    <tr>\n",
              "      <th>False negatives</th>\n",
              "      <td>233</td>\n",
              "    </tr>\n",
              "    <tr>\n",
              "      <th>True positives</th>\n",
              "      <td>82422</td>\n",
              "    </tr>\n",
              "    <tr>\n",
              "      <th>False positives</th>\n",
              "      <td>6006</td>\n",
              "    </tr>\n",
              "  </tbody>\n",
              "</table>\n",
              "</div><br><label><b>dtype:</b> object</label>"
            ]
          },
          "metadata": {},
          "execution_count": 44
        }
      ],
      "source": [
        "#Importing GradientBoostingClassifier from sklearn\n",
        "from sklearn.ensemble import GradientBoostingClassifier\n",
        "\n",
        "#Defining range of parameters for Gradient Boosting Clssifier\n",
        "gradient_params = {'n_estimators': [100],\n",
        "     'max_depth': [3],\n",
        "     'random_state': [123],\n",
        "     'learning_rate': [0.1]\n",
        "    }\n",
        "\n",
        "gradient = fit_algorithm(GradientBoostingClassifier(),X,y,gradient_params)\n",
        "gradient"
      ]
    },
    {
      "cell_type": "markdown",
      "metadata": {
        "id": "w3_XbGT0Sk-l"
      },
      "source": [
        "As previously, we achieved similar accuracy of 93% on both training and testing datasets, but this result could be higher, if we tried different values of hyperparameters. The main idea behind gradient boosting is to combine many simple models(trees) where each tree can only provide good predictions on part of the data, and so more and more trees are added to iteratively improve performance. Gradient Boosted Trees are frequently winning entries in machine learning competitions. Except from the number of trees in the ensemble, another important parameter for this algorithm is \"learning_rate\" which controls how strongly each tree tries to correct the mistakes of the previous trees. Since Random Forests and Gradient Boosted Machines are very computationally expensive and Kaggle kills kernels running longer than 1 hour, I strongly encourage you to test all of  the abovely shown algorithms on your locally set Jupyter Notebooks with broader range of hyperparameter values- it's very likely that they will be able to achieve better accuracy.\n",
        "\n",
        "Finally, since the Random Forest Classifier achieved best accuracy on both training and testing datasets I'll built a model using parameter values chosen by Grid Search object and display feature importances so that we will find out which feature is the most important one in obtatining a US Permanent Visa."
      ]
    },
    {
      "cell_type": "code",
      "execution_count": null,
      "metadata": {
        "_cell_guid": "92b35ff2-7c2f-4144-ab8d-70a646d32d00",
        "_uuid": "44522a4dfd67d31bcffbbba04863c479be730669",
        "id": "3dtd0V7QSk-l",
        "outputId": "a7a76925-c49c-41ef-f969-aaf66828b93c"
      },
      "outputs": [
        {
          "data": {
            "text/html": [
              "<div>\n",
              "<style>\n",
              "    .dataframe thead tr:only-child th {\n",
              "        text-align: right;\n",
              "    }\n",
              "\n",
              "    .dataframe thead th {\n",
              "        text-align: left;\n",
              "    }\n",
              "\n",
              "    .dataframe tbody tr th {\n",
              "        vertical-align: top;\n",
              "    }\n",
              "</style>\n",
              "<table border=\"1\" class=\"dataframe\">\n",
              "  <thead>\n",
              "    <tr style=\"text-align: right;\">\n",
              "      <th></th>\n",
              "      <th>Logistic Regression</th>\n",
              "      <th>k-Nearest Neighbors</th>\n",
              "      <th>Random Forest</th>\n",
              "      <th>GBoosted Machines</th>\n",
              "    </tr>\n",
              "  </thead>\n",
              "  <tbody>\n",
              "    <tr>\n",
              "      <th>Best_params</th>\n",
              "      <td>[{'C': 1}]</td>\n",
              "      <td>[{'n_neighbors': 9}]</td>\n",
              "      <td>[{'max_depth': 20, 'max_features': 4, 'n_estim...</td>\n",
              "      <td>[{'learning_rate': 0.1, 'max_depth': 3, 'n_est...</td>\n",
              "    </tr>\n",
              "    <tr>\n",
              "      <th>F1</th>\n",
              "      <td>0.96</td>\n",
              "      <td>0.96</td>\n",
              "      <td>0.97</td>\n",
              "      <td>0.96</td>\n",
              "    </tr>\n",
              "    <tr>\n",
              "      <th>False negatives</th>\n",
              "      <td>36</td>\n",
              "      <td>589</td>\n",
              "      <td>513</td>\n",
              "      <td>258</td>\n",
              "    </tr>\n",
              "    <tr>\n",
              "      <th>False positives</th>\n",
              "      <td>6357</td>\n",
              "      <td>5487</td>\n",
              "      <td>4954</td>\n",
              "      <td>5990</td>\n",
              "    </tr>\n",
              "    <tr>\n",
              "      <th>P</th>\n",
              "      <td>1.0</td>\n",
              "      <td>0.99</td>\n",
              "      <td>0.99</td>\n",
              "      <td>1.0</td>\n",
              "    </tr>\n",
              "    <tr>\n",
              "      <th>R</th>\n",
              "      <td>0.93</td>\n",
              "      <td>0.94</td>\n",
              "      <td>0.94</td>\n",
              "      <td>0.93</td>\n",
              "    </tr>\n",
              "    <tr>\n",
              "      <th>Test_ACC</th>\n",
              "      <td>0.93</td>\n",
              "      <td>0.93</td>\n",
              "      <td>0.94</td>\n",
              "      <td>0.93</td>\n",
              "    </tr>\n",
              "    <tr>\n",
              "      <th>Train_ACC</th>\n",
              "      <td>0.93</td>\n",
              "      <td>0.93</td>\n",
              "      <td>0.94</td>\n",
              "      <td>0.93</td>\n",
              "    </tr>\n",
              "    <tr>\n",
              "      <th>True negatives</th>\n",
              "      <td>30</td>\n",
              "      <td>900</td>\n",
              "      <td>1433</td>\n",
              "      <td>397</td>\n",
              "    </tr>\n",
              "    <tr>\n",
              "      <th>True positives</th>\n",
              "      <td>82619</td>\n",
              "      <td>82066</td>\n",
              "      <td>82142</td>\n",
              "      <td>82397</td>\n",
              "    </tr>\n",
              "  </tbody>\n",
              "</table>\n",
              "</div>"
            ],
            "text/plain": [
              "                Logistic Regression   k-Nearest Neighbors  \\\n",
              "Best_params              [{'C': 1}]  [{'n_neighbors': 9}]   \n",
              "F1                             0.96                  0.96   \n",
              "False negatives                  36                   589   \n",
              "False positives                6357                  5487   \n",
              "P                               1.0                  0.99   \n",
              "R                              0.93                  0.94   \n",
              "Test_ACC                       0.93                  0.93   \n",
              "Train_ACC                      0.93                  0.93   \n",
              "True negatives                   30                   900   \n",
              "True positives                82619                 82066   \n",
              "\n",
              "                                                     Random Forest  \\\n",
              "Best_params      [{'max_depth': 20, 'max_features': 4, 'n_estim...   \n",
              "F1                                                            0.97   \n",
              "False negatives                                                513   \n",
              "False positives                                               4954   \n",
              "P                                                             0.99   \n",
              "R                                                             0.94   \n",
              "Test_ACC                                                      0.94   \n",
              "Train_ACC                                                     0.94   \n",
              "True negatives                                                1433   \n",
              "True positives                                               82142   \n",
              "\n",
              "                                                 GBoosted Machines  \n",
              "Best_params      [{'learning_rate': 0.1, 'max_depth': 3, 'n_est...  \n",
              "F1                                                            0.96  \n",
              "False negatives                                                258  \n",
              "False positives                                               5990  \n",
              "P                                                              1.0  \n",
              "R                                                             0.93  \n",
              "Test_ACC                                                      0.93  \n",
              "Train_ACC                                                     0.93  \n",
              "True negatives                                                 397  \n",
              "True positives                                               82397  "
            ]
          },
          "execution_count": 45,
          "metadata": {},
          "output_type": "execute_result"
        }
      ],
      "source": [
        "# Dataframe made of results\n",
        "summary = pd.concat([logreg,knn,forest,gradient],axis=1)\n",
        "summary.columns = ['Logistic Regression', 'k-Nearest Neighbors','Random Forest','GBoosted Machines']\n",
        "summary"
      ]
    },
    {
      "cell_type": "code",
      "source": [
        "import torch\n",
        "import torch.nn as nn\n",
        "import torch.optim as optim\n",
        "import numpy as np\n",
        "import pandas as pd\n",
        "from sklearn.preprocessing import LabelEncoder, MinMaxScaler\n",
        "\n",
        "class Generator(nn.Module):\n",
        "    def __init__(self, input_dim, output_dim):\n",
        "        super(Generator, self).__init__()\n",
        "\n",
        "        # Layer architecture\n",
        "        self.gen = nn.Sequential(\n",
        "            nn.Linear(input_dim, 256),\n",
        "            nn.LeakyReLU(0.2),\n",
        "            nn.Linear(256, 512),\n",
        "            nn.LeakyReLU(0.2),\n",
        "            nn.Linear(512, 1024),\n",
        "            nn.LeakyReLU(0.2),\n",
        "            nn.Linear(1024, output_dim),\n",
        "            nn.Tanh()  # Output between -1 and 1\n",
        "        )\n",
        "\n",
        "    def forward(self, x):\n",
        "        return self.gen(x)\n",
        "\n",
        "class Discriminator(nn.Module):\n",
        "    def __init__(self, input_dim):\n",
        "        super(Discriminator, self).__init__()\n",
        "\n",
        "        self.disc = nn.Sequential(\n",
        "            nn.Linear(input_dim, 1024),\n",
        "            nn.LeakyReLU(0.2),\n",
        "            nn.Dropout(0.3),\n",
        "            nn.Linear(1024, 512),\n",
        "            nn.LeakyReLU(0.2),\n",
        "            nn.Dropout(0.3),\n",
        "            nn.Linear(512, 256),\n",
        "            nn.LeakyReLU(0.2),\n",
        "            nn.Dropout(0.3),\n",
        "            nn.Linear(256, 1),\n",
        "            nn.Sigmoid()  # Output probability between 0 and 1\n",
        "        )\n",
        "\n",
        "    def forward(self, x):\n",
        "        return self.disc(x)\n",
        "\n",
        "\n",
        "\n"
      ],
      "metadata": {
        "id": "AssQ0AJUZuSx"
      },
      "execution_count": null,
      "outputs": []
    },
    {
      "cell_type": "code",
      "source": [
        "class H1BGAN:\n",
        "    def __init__(self, real_data):\n",
        "        self.device = torch.device(\"cuda\" if torch.cuda.is_available() else \"cpu\")\n",
        "\n",
        "        # First preprocess the data\n",
        "        self.original_data = real_data.copy()\n",
        "        self.original_columns = real_data.columns\n",
        "        self.real_data, self.encoders = self._preprocess_data(real_data)\n",
        "\n",
        "        # Set dimensions\n",
        "        self.input_dim = 100\n",
        "        self.output_dim = self.real_data.shape[1]\n",
        "\n",
        "        # Initialize networks\n",
        "        self.generator = Generator(self.input_dim, self.output_dim).to(self.device)\n",
        "        self.discriminator = Discriminator(self.output_dim).to(self.device)\n",
        "\n",
        "        # Initialize optimizers\n",
        "        self.g_optimizer = optim.Adam(self.generator.parameters(), lr=0.0002, betas=(0.5, 0.999))\n",
        "        self.d_optimizer = optim.Adam(self.discriminator.parameters(), lr=0.0002, betas=(0.5, 0.999))\n",
        "\n",
        "        # Loss function\n",
        "        self.criterion = nn.BCELoss()\n",
        "        self.device = torch.device(\"cuda\" if torch.cuda.is_available() else \"cpu\")\n",
        "\n",
        "        # Store original data and column names\n",
        "        self.original_data = real_data.copy()\n",
        "        self.original_columns = real_data.columns\n",
        "\n",
        "        # Preprocess the data\n",
        "        self.real_data, self.encoders = self._preprocess_data(real_data)\n",
        "\n",
        "        self.input_dim = 100  # Noise dimension\n",
        "        self.output_dim = self.real_data.shape[1]  # Updated dimension after preprocessing\n",
        "\n",
        "    def _preprocess_data(self, data):\n",
        "        \"\"\"Preprocess the data by encoding categorical variables and scaling numerical ones\"\"\"\n",
        "        from sklearn.preprocessing import LabelEncoder, MinMaxScaler\n",
        "        import pandas as pd\n",
        "\n",
        "        processed_data = data.copy()\n",
        "        encoders = {}\n",
        "\n",
        "        # Convert dates to timestamps\n",
        "        date_columns = [col for col in processed_data.columns if 'date' in col.lower()]\n",
        "        for col in date_columns:\n",
        "            try:\n",
        "                processed_data[col] = pd.to_datetime(processed_data[col]).astype(np.int64) // 10**9\n",
        "            except:\n",
        "                # If conversion fails, drop the column\n",
        "                processed_data = processed_data.drop(col, axis=1)\n",
        "\n",
        "        # Identify categorical columns (object dtype)\n",
        "        categorical_columns = processed_data.select_dtypes(include=['object']).columns\n",
        "\n",
        "        # Encode categorical variables\n",
        "        for col in categorical_columns:\n",
        "            encoders[col] = LabelEncoder()\n",
        "            processed_data[col] = encoders[col].fit_transform(processed_data[col].astype(str))\n",
        "\n",
        "        # Scale all columns to [0, 1] range\n",
        "        scaler = MinMaxScaler()\n",
        "        processed_data = pd.DataFrame(\n",
        "            scaler.fit_transform(processed_data),\n",
        "            columns=processed_data.columns\n",
        "        )\n",
        "        encoders['scaler'] = scaler\n",
        "\n",
        "        return processed_data, encoders\n",
        "\n",
        "        # Initialize networks\n",
        "        self.generator = Generator(self.input_dim, self.output_dim).to(self.device)\n",
        "        self.discriminator = Discriminator(self.output_dim).to(self.device)\n",
        "\n",
        "        # Optimizers\n",
        "        self.g_optimizer = optim.Adam(self.generator.parameters(), lr=0.0002, betas=(0.5, 0.999))\n",
        "        self.d_optimizer = optim.Adam(self.discriminator.parameters(), lr=0.0002, betas=(0.5, 0.999))\n",
        "\n",
        "        # Loss function\n",
        "        self.criterion = nn.BCELoss()\n",
        "\n",
        "    def generate_fraudulent_patterns(self):\n",
        "        \"\"\"Generate specific fraudulent patterns based on actual columns\"\"\"\n",
        "        patterns = {\n",
        "            'wage_mismatch': {\n",
        "                'wage_offer_from_9089': 150000,  # Suspiciously high wage\n",
        "                'job_info_experience_num_months': 12,  # Entry level experience\n",
        "                'job_info_education': 'Bachelor\\'s'\n",
        "            },\n",
        "            'experience_education_mismatch': {\n",
        "                'job_info_education': 'High School',\n",
        "                'job_info_job_title': 'Senior Software Engineer',\n",
        "                'job_info_experience_num_months': 6  # Too little experience\n",
        "            },\n",
        "            'application_timeline_mismatch': {\n",
        "                'case_received_date': 'recent',\n",
        "                'decision_date': 'very_quick'  # Suspicious quick approval\n",
        "            }\n",
        "        }\n",
        "        return patterns\n",
        "\n",
        "    def inject_fraud_patterns(self, generated_data):\n",
        "        \"\"\"Inject fraudulent patterns into generated data\"\"\"\n",
        "        fraud_patterns = self.generate_fraudulent_patterns()\n",
        "\n",
        "        # Randomly select records to inject fraud patterns\n",
        "        fraud_indices = np.random.choice(\n",
        "            len(generated_data),\n",
        "            size=int(len(generated_data) * 0.15),  # 15% fraudulent applications\n",
        "            replace=False\n",
        "        )\n",
        "\n",
        "        for idx in fraud_indices:\n",
        "            pattern = np.random.choice(list(fraud_patterns.keys()))\n",
        "\n",
        "            if pattern == 'wage_mismatch':\n",
        "                if 'wage_offer_from_9089' in generated_data.columns:\n",
        "                    # Double the wage for entry level positions\n",
        "                    generated_data.loc[idx, 'wage_offer_from_9089'] = \\\n",
        "                        generated_data.loc[idx, 'wage_offer_from_9089'] * 2\n",
        "\n",
        "                    if 'job_info_experience_num_months' in generated_data.columns:\n",
        "                        generated_data.loc[idx, 'job_info_experience_num_months'] = 12\n",
        "\n",
        "            elif pattern == 'experience_education_mismatch':\n",
        "                if all(col in generated_data.columns for col in ['job_info_education',\n",
        "                                                               'job_info_job_title',\n",
        "                                                               'job_info_experience_num_months']):\n",
        "                    generated_data.loc[idx, 'job_info_education'] = 'High School'\n",
        "                    generated_data.loc[idx, 'job_info_job_title'] = 'Senior Software Engineer'\n",
        "                    generated_data.loc[idx, 'job_info_experience_num_months'] = 6\n",
        "\n",
        "            elif pattern == 'application_timeline_mismatch':\n",
        "                if all(col in generated_data.columns for col in ['case_received_date',\n",
        "                                                               'decision_date']):\n",
        "                    # Create suspicious timeline patterns\n",
        "                    received_date = pd.Timestamp.now() - pd.Timedelta(days=np.random.randint(1, 30))\n",
        "                    decision_date = received_date + pd.Timedelta(days=np.random.randint(1, 5))\n",
        "\n",
        "                    generated_data.loc[idx, 'case_received_date'] = received_date\n",
        "                    generated_data.loc[idx, 'decision_date'] = decision_date\n",
        "\n",
        "        return generated_data\n",
        "\n",
        "    def train(self, epochs=100, batch_size=64):\n",
        "        for epoch in range(epochs):\n",
        "            for i in range(0, len(self.real_data), batch_size):\n",
        "                # Get real batch\n",
        "                real_batch = torch.FloatTensor(\n",
        "                    self.real_data.iloc[i:i+batch_size].values\n",
        "                ).to(self.device)\n",
        "                batch_size = len(real_batch)\n",
        "\n",
        "                # Generate fake data\n",
        "                noise = torch.randn(batch_size, self.input_dim).to(self.device)\n",
        "                fake_batch = self.generator(noise)\n",
        "\n",
        "                # Train Discriminator\n",
        "                self.d_optimizer.zero_grad()\n",
        "                real_output = self.discriminator(real_batch)\n",
        "                fake_output = self.discriminator(fake_batch.detach())\n",
        "\n",
        "                d_loss_real = self.criterion(\n",
        "                    real_output,\n",
        "                    torch.ones_like(real_output)\n",
        "                )\n",
        "                d_loss_fake = self.criterion(\n",
        "                    fake_output,\n",
        "                    torch.zeros_like(fake_output)\n",
        "                )\n",
        "                d_loss = (d_loss_real + d_loss_fake) / 2\n",
        "                d_loss.backward()\n",
        "                self.d_optimizer.step()\n",
        "\n",
        "                # Train Generator\n",
        "                self.g_optimizer.zero_grad()\n",
        "                fake_output = self.discriminator(fake_batch)\n",
        "                g_loss = self.criterion(\n",
        "                    fake_output,\n",
        "                    torch.ones_like(fake_output)\n",
        "                )\n",
        "                g_loss.backward()\n",
        "                self.g_optimizer.step()\n",
        "\n",
        "            if (epoch + 1) % 10 == 0:\n",
        "                print(f'Epoch [{epoch+1}/{epochs}], d_loss: {d_loss.item():.4f}, g_loss: {g_loss.item():.4f}')\n",
        "\n",
        "    def generate_applications(self, num_samples=1000, include_fraud=True):\n",
        "        \"\"\"Generate synthetic applications\"\"\"\n",
        "        self.generator.eval()\n",
        "        with torch.no_grad():\n",
        "            noise = torch.randn(num_samples, self.input_dim).to(self.device)\n",
        "            generated_data = self.generator(noise).cpu().numpy()\n",
        "\n",
        "        # Convert to DataFrame with original column names\n",
        "        df_generated = pd.DataFrame(\n",
        "            generated_data,\n",
        "            columns=self.real_data.columns\n",
        "        )\n",
        "\n",
        "        if include_fraud:\n",
        "            df_generated = self.inject_fraud_patterns(df_generated)\n",
        "\n",
        "        return df_generated"
      ],
      "metadata": {
        "id": "DSmIqGMIO8pI"
      },
      "execution_count": null,
      "outputs": []
    },
    {
      "cell_type": "code",
      "source": [
        "# Example usage:\n",
        "\"\"\"\n",
        "# Prepare data\n",
        "real_data = pd.DataFrame(...)  # Your real H1B application data\n",
        "\n",
        "# Initialize and train GAN\n",
        "gan = H1BGAN(real_data)\n",
        "gan.train(epochs=200, batch_size=64)\n",
        "\n",
        "# Generate synthetic applications with fraud patterns\n",
        "synthetic_applications = gan.generate_applications(num_samples=1000, include_fraud=True)\n",
        "\"\"\"\n",
        "gan = H1BGAN(df)"
      ],
      "metadata": {
        "id": "cYaNDWb-UAGE"
      },
      "execution_count": null,
      "outputs": []
    },
    {
      "cell_type": "code",
      "source": [
        "gan.train(epochs=2, batch_size=256)"
      ],
      "metadata": {
        "id": "ZKpfJEvSPSQo"
      },
      "execution_count": null,
      "outputs": []
    },
    {
      "cell_type": "code",
      "source": [
        "synthetic_applications = gan.generate_applications(num_samples=1000, include_fraud=True)"
      ],
      "metadata": {
        "id": "oKwT3-3j0hv0"
      },
      "execution_count": null,
      "outputs": []
    },
    {
      "cell_type": "code",
      "source": [
        "df['is_fraud'] = False"
      ],
      "metadata": {
        "id": "nvEqJQGIeLfe"
      },
      "execution_count": null,
      "outputs": []
    },
    {
      "cell_type": "code",
      "source": [
        "#traditional ML:\n",
        "#need another passthrough the model\n",
        "#fitting the model to the fraud/not fraud column - y values, save it to pickle\n",
        "#using ollama to get an endpoint running\n",
        "#langchain documentation to use that ollama to run llm assistant to provide suggestions on how we're prompting\n",
        "\n"
      ],
      "metadata": {
        "id": "Fo2NlJaHMlJq"
      },
      "execution_count": null,
      "outputs": []
    }
  ],
  "metadata": {
    "kernelspec": {
      "display_name": "Python 3",
      "name": "python3"
    },
    "language_info": {
      "codemirror_mode": {
        "name": "ipython",
        "version": 3
      },
      "file_extension": ".py",
      "mimetype": "text/x-python",
      "name": "python",
      "nbconvert_exporter": "python",
      "pygments_lexer": "ipython3",
      "version": "3.6.4"
    },
    "colab": {
      "provenance": [],
      "machine_shape": "hm"
    }
  },
  "nbformat": 4,
  "nbformat_minor": 0
}